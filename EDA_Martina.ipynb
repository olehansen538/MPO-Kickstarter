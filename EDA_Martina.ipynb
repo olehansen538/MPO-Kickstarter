{
 "cells": [
  {
   "cell_type": "markdown",
   "metadata": {},
   "source": [
    "# EDA classification\n",
    "\n",
    "aim: When will a project succeed?\n",
    "Which features influence the success of a project?\n",
    "\n",
    "\n",
    "#### assumptions\n",
    " * the higher the goal, the lower the probability for success\n",
    " * the longer the duration the higher the probability for success\n",
    " * the longer the preparation time the higher the probability for success\n",
    " * the month of launch influences the probability for success\n",
    " * the country influences the probability for success\n",
    " * pledged amount per backer influences the probability for success"
   ]
  },
  {
   "cell_type": "code",
   "execution_count": 1,
   "metadata": {},
   "outputs": [],
   "source": [
    "# import packages\n",
    "import pandas as pd\n",
    "import numpy as np\n",
    "import seaborn as sns\n",
    "import matplotlib.pyplot as plt"
   ]
  },
  {
   "cell_type": "code",
   "execution_count": 2,
   "metadata": {},
   "outputs": [],
   "source": [
    "# read dataframe in\n",
    "df = pd.read_csv('data/kickstarter_preprocess.csv')"
   ]
  },
  {
   "cell_type": "code",
   "execution_count": 3,
   "metadata": {},
   "outputs": [
    {
     "data": {
      "text/plain": [
       "(177594, 26)"
      ]
     },
     "execution_count": 3,
     "metadata": {},
     "output_type": "execute_result"
    }
   ],
   "source": [
    "# first summary\n",
    "df.shape"
   ]
  },
  {
   "cell_type": "code",
   "execution_count": 4,
   "metadata": {},
   "outputs": [
    {
     "name": "stdout",
     "output_type": "stream",
     "text": [
      "<class 'pandas.core.frame.DataFrame'>\n",
      "RangeIndex: 177594 entries, 0 to 177593\n",
      "Data columns (total 26 columns):\n",
      " #   Column              Non-Null Count   Dtype  \n",
      "---  ------              --------------   -----  \n",
      " 0   backers_count       177594 non-null  int64  \n",
      " 1   country             177594 non-null  object \n",
      " 2   goal                177594 non-null  float64\n",
      " 3   staff_pick          177594 non-null  bool   \n",
      " 4   state               177594 non-null  object \n",
      " 5   usd_pledged         177594 non-null  int64  \n",
      " 6   blurb_len_c         177594 non-null  int64  \n",
      " 7   blurb_len_w         177594 non-null  int64  \n",
      " 8   slug_len_c          177594 non-null  int64  \n",
      " 9   slug_len_w          177594 non-null  int64  \n",
      " 10  cat_in_slug         177594 non-null  int64  \n",
      " 11  category_parent_id  177594 non-null  int64  \n",
      " 12  category_id         177594 non-null  int64  \n",
      " 13  category_name       177594 non-null  object \n",
      " 14  created_year        177594 non-null  int64  \n",
      " 15  created_month       177594 non-null  int64  \n",
      " 16  deadline_year       177594 non-null  int64  \n",
      " 17  deadline_month      177594 non-null  int64  \n",
      " 18  launched_year       177594 non-null  int64  \n",
      " 19  launched_month      177594 non-null  int64  \n",
      " 20  duration_days       177594 non-null  int64  \n",
      " 21  preparation         177594 non-null  int64  \n",
      " 22  pledged_per_backer  177594 non-null  int64  \n",
      " 23  rel_pledged_goal    177594 non-null  float64\n",
      " 24  filled_parent       177594 non-null  int64  \n",
      " 25  parent_name         177594 non-null  object \n",
      "dtypes: bool(1), float64(2), int64(19), object(4)\n",
      "memory usage: 34.0+ MB\n"
     ]
    }
   ],
   "source": [
    "df.info()"
   ]
  },
  {
   "cell_type": "code",
   "execution_count": 5,
   "metadata": {},
   "outputs": [
    {
     "data": {
      "text/html": [
       "<div>\n",
       "<style scoped>\n",
       "    .dataframe tbody tr th:only-of-type {\n",
       "        vertical-align: middle;\n",
       "    }\n",
       "\n",
       "    .dataframe tbody tr th {\n",
       "        vertical-align: top;\n",
       "    }\n",
       "\n",
       "    .dataframe thead th {\n",
       "        text-align: right;\n",
       "    }\n",
       "</style>\n",
       "<table border=\"1\" class=\"dataframe\">\n",
       "  <thead>\n",
       "    <tr style=\"text-align: right;\">\n",
       "      <th></th>\n",
       "      <th>backers_count</th>\n",
       "      <th>goal</th>\n",
       "      <th>usd_pledged</th>\n",
       "      <th>blurb_len_c</th>\n",
       "      <th>blurb_len_w</th>\n",
       "      <th>slug_len_c</th>\n",
       "      <th>slug_len_w</th>\n",
       "      <th>cat_in_slug</th>\n",
       "      <th>category_parent_id</th>\n",
       "      <th>category_id</th>\n",
       "      <th>...</th>\n",
       "      <th>created_month</th>\n",
       "      <th>deadline_year</th>\n",
       "      <th>deadline_month</th>\n",
       "      <th>launched_year</th>\n",
       "      <th>launched_month</th>\n",
       "      <th>duration_days</th>\n",
       "      <th>preparation</th>\n",
       "      <th>pledged_per_backer</th>\n",
       "      <th>rel_pledged_goal</th>\n",
       "      <th>filled_parent</th>\n",
       "    </tr>\n",
       "  </thead>\n",
       "  <tbody>\n",
       "    <tr>\n",
       "      <th>count</th>\n",
       "      <td>177594.000000</td>\n",
       "      <td>1.775940e+05</td>\n",
       "      <td>1.775940e+05</td>\n",
       "      <td>177594.000000</td>\n",
       "      <td>177594.000000</td>\n",
       "      <td>177594.000000</td>\n",
       "      <td>177594.000000</td>\n",
       "      <td>177594.000000</td>\n",
       "      <td>177594.000000</td>\n",
       "      <td>177594.000000</td>\n",
       "      <td>...</td>\n",
       "      <td>177594.000000</td>\n",
       "      <td>177594.000000</td>\n",
       "      <td>177594.000000</td>\n",
       "      <td>177594.000000</td>\n",
       "      <td>177594.000000</td>\n",
       "      <td>177594.000000</td>\n",
       "      <td>177594.000000</td>\n",
       "      <td>177594.000000</td>\n",
       "      <td>177594.00</td>\n",
       "      <td>177594.000000</td>\n",
       "    </tr>\n",
       "    <tr>\n",
       "      <th>mean</th>\n",
       "      <td>133.933235</td>\n",
       "      <td>4.432000e+04</td>\n",
       "      <td>1.160979e+04</td>\n",
       "      <td>112.704686</td>\n",
       "      <td>18.985664</td>\n",
       "      <td>32.232722</td>\n",
       "      <td>5.439159</td>\n",
       "      <td>0.027991</td>\n",
       "      <td>11.224985</td>\n",
       "      <td>175.791997</td>\n",
       "      <td>...</td>\n",
       "      <td>6.325338</td>\n",
       "      <td>2015.519483</td>\n",
       "      <td>6.716680</td>\n",
       "      <td>2015.453929</td>\n",
       "      <td>6.425983</td>\n",
       "      <td>32.588911</td>\n",
       "      <td>45.846335</td>\n",
       "      <td>102.141548</td>\n",
       "      <td>inf</td>\n",
       "      <td>11.799408</td>\n",
       "    </tr>\n",
       "    <tr>\n",
       "      <th>std</th>\n",
       "      <td>873.467409</td>\n",
       "      <td>1.164773e+06</td>\n",
       "      <td>8.178030e+04</td>\n",
       "      <td>26.499148</td>\n",
       "      <td>5.018800</td>\n",
       "      <td>13.674400</td>\n",
       "      <td>2.456352</td>\n",
       "      <td>0.164947</td>\n",
       "      <td>5.930284</td>\n",
       "      <td>134.355470</td>\n",
       "      <td>...</td>\n",
       "      <td>3.363491</td>\n",
       "      <td>1.948451</td>\n",
       "      <td>3.362396</td>\n",
       "      <td>1.943886</td>\n",
       "      <td>3.349536</td>\n",
       "      <td>11.820564</td>\n",
       "      <td>127.104232</td>\n",
       "      <td>1086.051948</td>\n",
       "      <td>NaN</td>\n",
       "      <td>5.624576</td>\n",
       "    </tr>\n",
       "    <tr>\n",
       "      <th>min</th>\n",
       "      <td>0.000000</td>\n",
       "      <td>0.000000e+00</td>\n",
       "      <td>0.000000e+00</td>\n",
       "      <td>1.000000</td>\n",
       "      <td>1.000000</td>\n",
       "      <td>1.000000</td>\n",
       "      <td>1.000000</td>\n",
       "      <td>0.000000</td>\n",
       "      <td>0.000000</td>\n",
       "      <td>1.000000</td>\n",
       "      <td>...</td>\n",
       "      <td>1.000000</td>\n",
       "      <td>2009.000000</td>\n",
       "      <td>1.000000</td>\n",
       "      <td>2009.000000</td>\n",
       "      <td>1.000000</td>\n",
       "      <td>1.000000</td>\n",
       "      <td>0.000000</td>\n",
       "      <td>0.000000</td>\n",
       "      <td>0.00</td>\n",
       "      <td>1.000000</td>\n",
       "    </tr>\n",
       "    <tr>\n",
       "      <th>25%</th>\n",
       "      <td>3.000000</td>\n",
       "      <td>1.500000e+03</td>\n",
       "      <td>7.000000e+01</td>\n",
       "      <td>102.000000</td>\n",
       "      <td>16.000000</td>\n",
       "      <td>21.000000</td>\n",
       "      <td>3.000000</td>\n",
       "      <td>0.000000</td>\n",
       "      <td>9.000000</td>\n",
       "      <td>37.000000</td>\n",
       "      <td>...</td>\n",
       "      <td>3.000000</td>\n",
       "      <td>2014.000000</td>\n",
       "      <td>4.000000</td>\n",
       "      <td>2014.000000</td>\n",
       "      <td>4.000000</td>\n",
       "      <td>29.000000</td>\n",
       "      <td>2.000000</td>\n",
       "      <td>18.000000</td>\n",
       "      <td>1.30</td>\n",
       "      <td>10.000000</td>\n",
       "    </tr>\n",
       "    <tr>\n",
       "      <th>50%</th>\n",
       "      <td>23.000000</td>\n",
       "      <td>5.000000e+03</td>\n",
       "      <td>1.260000e+03</td>\n",
       "      <td>124.000000</td>\n",
       "      <td>20.000000</td>\n",
       "      <td>32.000000</td>\n",
       "      <td>5.000000</td>\n",
       "      <td>0.000000</td>\n",
       "      <td>12.000000</td>\n",
       "      <td>252.000000</td>\n",
       "      <td>...</td>\n",
       "      <td>6.000000</td>\n",
       "      <td>2016.000000</td>\n",
       "      <td>7.000000</td>\n",
       "      <td>2015.000000</td>\n",
       "      <td>6.000000</td>\n",
       "      <td>30.000000</td>\n",
       "      <td>10.000000</td>\n",
       "      <td>44.000000</td>\n",
       "      <td>100.50</td>\n",
       "      <td>12.000000</td>\n",
       "    </tr>\n",
       "    <tr>\n",
       "      <th>75%</th>\n",
       "      <td>80.000000</td>\n",
       "      <td>1.433195e+04</td>\n",
       "      <td>5.905000e+03</td>\n",
       "      <td>132.000000</td>\n",
       "      <td>22.000000</td>\n",
       "      <td>46.000000</td>\n",
       "      <td>7.000000</td>\n",
       "      <td>0.000000</td>\n",
       "      <td>16.000000</td>\n",
       "      <td>302.000000</td>\n",
       "      <td>...</td>\n",
       "      <td>9.000000</td>\n",
       "      <td>2017.000000</td>\n",
       "      <td>10.000000</td>\n",
       "      <td>2017.000000</td>\n",
       "      <td>9.000000</td>\n",
       "      <td>34.000000</td>\n",
       "      <td>35.000000</td>\n",
       "      <td>85.000000</td>\n",
       "      <td>120.21</td>\n",
       "      <td>16.000000</td>\n",
       "    </tr>\n",
       "    <tr>\n",
       "      <th>max</th>\n",
       "      <td>105857.000000</td>\n",
       "      <td>1.523501e+08</td>\n",
       "      <td>8.596474e+06</td>\n",
       "      <td>196.000000</td>\n",
       "      <td>35.000000</td>\n",
       "      <td>121.000000</td>\n",
       "      <td>25.000000</td>\n",
       "      <td>1.000000</td>\n",
       "      <td>26.000000</td>\n",
       "      <td>389.000000</td>\n",
       "      <td>...</td>\n",
       "      <td>12.000000</td>\n",
       "      <td>2019.000000</td>\n",
       "      <td>12.000000</td>\n",
       "      <td>2019.000000</td>\n",
       "      <td>12.000000</td>\n",
       "      <td>93.000000</td>\n",
       "      <td>3303.000000</td>\n",
       "      <td>356373.000000</td>\n",
       "      <td>inf</td>\n",
       "      <td>26.000000</td>\n",
       "    </tr>\n",
       "  </tbody>\n",
       "</table>\n",
       "<p>8 rows × 21 columns</p>\n",
       "</div>"
      ],
      "text/plain": [
       "       backers_count          goal   usd_pledged    blurb_len_c  \\\n",
       "count  177594.000000  1.775940e+05  1.775940e+05  177594.000000   \n",
       "mean      133.933235  4.432000e+04  1.160979e+04     112.704686   \n",
       "std       873.467409  1.164773e+06  8.178030e+04      26.499148   \n",
       "min         0.000000  0.000000e+00  0.000000e+00       1.000000   \n",
       "25%         3.000000  1.500000e+03  7.000000e+01     102.000000   \n",
       "50%        23.000000  5.000000e+03  1.260000e+03     124.000000   \n",
       "75%        80.000000  1.433195e+04  5.905000e+03     132.000000   \n",
       "max    105857.000000  1.523501e+08  8.596474e+06     196.000000   \n",
       "\n",
       "         blurb_len_w     slug_len_c     slug_len_w    cat_in_slug  \\\n",
       "count  177594.000000  177594.000000  177594.000000  177594.000000   \n",
       "mean       18.985664      32.232722       5.439159       0.027991   \n",
       "std         5.018800      13.674400       2.456352       0.164947   \n",
       "min         1.000000       1.000000       1.000000       0.000000   \n",
       "25%        16.000000      21.000000       3.000000       0.000000   \n",
       "50%        20.000000      32.000000       5.000000       0.000000   \n",
       "75%        22.000000      46.000000       7.000000       0.000000   \n",
       "max        35.000000     121.000000      25.000000       1.000000   \n",
       "\n",
       "       category_parent_id    category_id  ...  created_month  deadline_year  \\\n",
       "count       177594.000000  177594.000000  ...  177594.000000  177594.000000   \n",
       "mean            11.224985     175.791997  ...       6.325338    2015.519483   \n",
       "std              5.930284     134.355470  ...       3.363491       1.948451   \n",
       "min              0.000000       1.000000  ...       1.000000    2009.000000   \n",
       "25%              9.000000      37.000000  ...       3.000000    2014.000000   \n",
       "50%             12.000000     252.000000  ...       6.000000    2016.000000   \n",
       "75%             16.000000     302.000000  ...       9.000000    2017.000000   \n",
       "max             26.000000     389.000000  ...      12.000000    2019.000000   \n",
       "\n",
       "       deadline_month  launched_year  launched_month  duration_days  \\\n",
       "count   177594.000000  177594.000000   177594.000000  177594.000000   \n",
       "mean         6.716680    2015.453929        6.425983      32.588911   \n",
       "std          3.362396       1.943886        3.349536      11.820564   \n",
       "min          1.000000    2009.000000        1.000000       1.000000   \n",
       "25%          4.000000    2014.000000        4.000000      29.000000   \n",
       "50%          7.000000    2015.000000        6.000000      30.000000   \n",
       "75%         10.000000    2017.000000        9.000000      34.000000   \n",
       "max         12.000000    2019.000000       12.000000      93.000000   \n",
       "\n",
       "         preparation  pledged_per_backer  rel_pledged_goal  filled_parent  \n",
       "count  177594.000000       177594.000000         177594.00  177594.000000  \n",
       "mean       45.846335          102.141548               inf      11.799408  \n",
       "std       127.104232         1086.051948               NaN       5.624576  \n",
       "min         0.000000            0.000000              0.00       1.000000  \n",
       "25%         2.000000           18.000000              1.30      10.000000  \n",
       "50%        10.000000           44.000000            100.50      12.000000  \n",
       "75%        35.000000           85.000000            120.21      16.000000  \n",
       "max      3303.000000       356373.000000               inf      26.000000  \n",
       "\n",
       "[8 rows x 21 columns]"
      ]
     },
     "execution_count": 5,
     "metadata": {},
     "output_type": "execute_result"
    }
   ],
   "source": [
    "df.describe()"
   ]
  },
  {
   "cell_type": "code",
   "execution_count": 6,
   "metadata": {},
   "outputs": [
    {
     "data": {
      "text/html": [
       "<div>\n",
       "<style scoped>\n",
       "    .dataframe tbody tr th:only-of-type {\n",
       "        vertical-align: middle;\n",
       "    }\n",
       "\n",
       "    .dataframe tbody tr th {\n",
       "        vertical-align: top;\n",
       "    }\n",
       "\n",
       "    .dataframe thead th {\n",
       "        text-align: right;\n",
       "    }\n",
       "</style>\n",
       "<table border=\"1\" class=\"dataframe\">\n",
       "  <thead>\n",
       "    <tr style=\"text-align: right;\">\n",
       "      <th></th>\n",
       "      <th>backers_count</th>\n",
       "      <th>country</th>\n",
       "      <th>goal</th>\n",
       "      <th>staff_pick</th>\n",
       "      <th>state</th>\n",
       "      <th>usd_pledged</th>\n",
       "      <th>blurb_len_c</th>\n",
       "      <th>blurb_len_w</th>\n",
       "      <th>slug_len_c</th>\n",
       "      <th>slug_len_w</th>\n",
       "      <th>...</th>\n",
       "      <th>deadline_year</th>\n",
       "      <th>deadline_month</th>\n",
       "      <th>launched_year</th>\n",
       "      <th>launched_month</th>\n",
       "      <th>duration_days</th>\n",
       "      <th>preparation</th>\n",
       "      <th>pledged_per_backer</th>\n",
       "      <th>rel_pledged_goal</th>\n",
       "      <th>filled_parent</th>\n",
       "      <th>parent_name</th>\n",
       "    </tr>\n",
       "  </thead>\n",
       "  <tbody>\n",
       "    <tr>\n",
       "      <th>0</th>\n",
       "      <td>47</td>\n",
       "      <td>US</td>\n",
       "      <td>1000.00</td>\n",
       "      <td>False</td>\n",
       "      <td>successful</td>\n",
       "      <td>1950</td>\n",
       "      <td>125</td>\n",
       "      <td>22</td>\n",
       "      <td>23</td>\n",
       "      <td>4</td>\n",
       "      <td>...</td>\n",
       "      <td>2017</td>\n",
       "      <td>9</td>\n",
       "      <td>2017</td>\n",
       "      <td>8</td>\n",
       "      <td>30</td>\n",
       "      <td>8</td>\n",
       "      <td>41</td>\n",
       "      <td>195.00</td>\n",
       "      <td>12</td>\n",
       "      <td>Games</td>\n",
       "    </tr>\n",
       "    <tr>\n",
       "      <th>1</th>\n",
       "      <td>271</td>\n",
       "      <td>US</td>\n",
       "      <td>15000.00</td>\n",
       "      <td>False</td>\n",
       "      <td>successful</td>\n",
       "      <td>22404</td>\n",
       "      <td>108</td>\n",
       "      <td>15</td>\n",
       "      <td>46</td>\n",
       "      <td>7</td>\n",
       "      <td>...</td>\n",
       "      <td>2013</td>\n",
       "      <td>6</td>\n",
       "      <td>2013</td>\n",
       "      <td>5</td>\n",
       "      <td>30</td>\n",
       "      <td>224</td>\n",
       "      <td>82</td>\n",
       "      <td>149.36</td>\n",
       "      <td>14</td>\n",
       "      <td>Music</td>\n",
       "    </tr>\n",
       "    <tr>\n",
       "      <th>2</th>\n",
       "      <td>3</td>\n",
       "      <td>GB</td>\n",
       "      <td>12160.66</td>\n",
       "      <td>False</td>\n",
       "      <td>failed</td>\n",
       "      <td>165</td>\n",
       "      <td>133</td>\n",
       "      <td>23</td>\n",
       "      <td>32</td>\n",
       "      <td>7</td>\n",
       "      <td>...</td>\n",
       "      <td>2017</td>\n",
       "      <td>3</td>\n",
       "      <td>2017</td>\n",
       "      <td>1</td>\n",
       "      <td>59</td>\n",
       "      <td>5</td>\n",
       "      <td>45</td>\n",
       "      <td>1.36</td>\n",
       "      <td>12</td>\n",
       "      <td>Games</td>\n",
       "    </tr>\n",
       "    <tr>\n",
       "      <th>3</th>\n",
       "      <td>3</td>\n",
       "      <td>US</td>\n",
       "      <td>2800.00</td>\n",
       "      <td>False</td>\n",
       "      <td>successful</td>\n",
       "      <td>2820</td>\n",
       "      <td>121</td>\n",
       "      <td>24</td>\n",
       "      <td>40</td>\n",
       "      <td>7</td>\n",
       "      <td>...</td>\n",
       "      <td>2013</td>\n",
       "      <td>1</td>\n",
       "      <td>2012</td>\n",
       "      <td>12</td>\n",
       "      <td>30</td>\n",
       "      <td>4</td>\n",
       "      <td>940</td>\n",
       "      <td>100.71</td>\n",
       "      <td>18</td>\n",
       "      <td>Publishing</td>\n",
       "    </tr>\n",
       "    <tr>\n",
       "      <th>4</th>\n",
       "      <td>35</td>\n",
       "      <td>US</td>\n",
       "      <td>3500.00</td>\n",
       "      <td>False</td>\n",
       "      <td>successful</td>\n",
       "      <td>3725</td>\n",
       "      <td>134</td>\n",
       "      <td>18</td>\n",
       "      <td>31</td>\n",
       "      <td>4</td>\n",
       "      <td>...</td>\n",
       "      <td>2015</td>\n",
       "      <td>5</td>\n",
       "      <td>2015</td>\n",
       "      <td>4</td>\n",
       "      <td>30</td>\n",
       "      <td>159</td>\n",
       "      <td>106</td>\n",
       "      <td>106.43</td>\n",
       "      <td>14</td>\n",
       "      <td>Music</td>\n",
       "    </tr>\n",
       "  </tbody>\n",
       "</table>\n",
       "<p>5 rows × 26 columns</p>\n",
       "</div>"
      ],
      "text/plain": [
       "   backers_count country      goal  staff_pick       state  usd_pledged  \\\n",
       "0             47      US   1000.00       False  successful         1950   \n",
       "1            271      US  15000.00       False  successful        22404   \n",
       "2              3      GB  12160.66       False      failed          165   \n",
       "3              3      US   2800.00       False  successful         2820   \n",
       "4             35      US   3500.00       False  successful         3725   \n",
       "\n",
       "   blurb_len_c  blurb_len_w  slug_len_c  slug_len_w  ...  deadline_year  \\\n",
       "0          125           22          23           4  ...           2017   \n",
       "1          108           15          46           7  ...           2013   \n",
       "2          133           23          32           7  ...           2017   \n",
       "3          121           24          40           7  ...           2013   \n",
       "4          134           18          31           4  ...           2015   \n",
       "\n",
       "   deadline_month  launched_year launched_month  duration_days  preparation  \\\n",
       "0               9           2017              8             30            8   \n",
       "1               6           2013              5             30          224   \n",
       "2               3           2017              1             59            5   \n",
       "3               1           2012             12             30            4   \n",
       "4               5           2015              4             30          159   \n",
       "\n",
       "   pledged_per_backer  rel_pledged_goal  filled_parent  parent_name  \n",
       "0                  41            195.00             12        Games  \n",
       "1                  82            149.36             14        Music  \n",
       "2                  45              1.36             12        Games  \n",
       "3                 940            100.71             18   Publishing  \n",
       "4                 106            106.43             14        Music  \n",
       "\n",
       "[5 rows x 26 columns]"
      ]
     },
     "execution_count": 6,
     "metadata": {},
     "output_type": "execute_result"
    }
   ],
   "source": [
    "df.head()"
   ]
  },
  {
   "cell_type": "code",
   "execution_count": 7,
   "metadata": {},
   "outputs": [
    {
     "data": {
      "image/png": "[encoded data removed]",
      "text/plain": [
       "<Figure size 432x288 with 1 Axes>"
      ]
     },
     "metadata": {
      "needs_background": "light"
     },
     "output_type": "display_data"
    }
   ],
   "source": [
    "# overview how many projects were successful, failed, canceled\n",
    "df['state'].hist();"
   ]
  },
  {
   "cell_type": "code",
   "execution_count": 8,
   "metadata": {},
   "outputs": [],
   "source": [
    "# make three new dataframes: one for success, one for failed and the last for canceled\n",
    "df_suc = df.query('state == \"successful\"')\n",
    "df_fai = df.query('state == \"failed\"')\n",
    "df_can = df.query('state == \"canceled\"')"
   ]
  },
  {
   "cell_type": "markdown",
   "metadata": {},
   "source": [
    "### assumption 1: the higher the goal, the lower the probability for success"
   ]
  },
  {
   "cell_type": "code",
   "execution_count": 9,
   "metadata": {},
   "outputs": [
    {
     "data": {
      "image/png": "[encoded data removed]",
      "text/plain": [
       "<Figure size 432x288 with 1 Axes>"
      ]
     },
     "metadata": {
      "needs_background": "light"
     },
     "output_type": "display_data"
    }
   ],
   "source": [
    "plt.boxplot(df_suc['goal'])\n",
    "plt.yscale('log');"
   ]
  },
  {
   "cell_type": "code",
   "execution_count": 10,
   "metadata": {},
   "outputs": [
    {
     "data": {
      "text/plain": [
       "(18, 26)"
      ]
     },
     "execution_count": 10,
     "metadata": {},
     "output_type": "execute_result"
    }
   ],
   "source": [
    "df_suc.query('goal < 1').shape"
   ]
  },
  {
   "cell_type": "code",
   "execution_count": 11,
   "metadata": {},
   "outputs": [
    {
     "data": {
      "text/plain": [
       "(49, 26)"
      ]
     },
     "execution_count": 11,
     "metadata": {},
     "output_type": "execute_result"
    }
   ],
   "source": [
    "df_suc.query('goal >= 500000').shape"
   ]
  },
  {
   "cell_type": "code",
   "execution_count": 12,
   "metadata": {},
   "outputs": [],
   "source": [
    "# remove outlier\n",
    "#df_suc.drop(df_suc[df_suc['goal'] > 100000].index, inplace=True)"
   ]
  },
  {
   "cell_type": "code",
   "execution_count": 13,
   "metadata": {},
   "outputs": [
    {
     "data": {
      "text/plain": [
       "(29467, 26)"
      ]
     },
     "execution_count": 13,
     "metadata": {},
     "output_type": "execute_result"
    }
   ],
   "source": [
    "df_suc1 = df_suc.query('goal <= 1500')\n",
    "#plt.boxplot(df_suc1['goal'])\n",
    "df_suc1.shape"
   ]
  },
  {
   "cell_type": "code",
   "execution_count": 14,
   "metadata": {},
   "outputs": [
    {
     "data": {
      "text/plain": [
       "(35129, 26)"
      ]
     },
     "execution_count": 14,
     "metadata": {},
     "output_type": "execute_result"
    }
   ],
   "source": [
    "df_suc2 = df_suc.query('1500 < goal < 7000')\n",
    "#plt.boxplot(df_suc2['goal'])\n",
    "df_suc2.shape"
   ]
  },
  {
   "cell_type": "code",
   "execution_count": 15,
   "metadata": {},
   "outputs": [
    {
     "data": {
      "text/plain": [
       "(30182, 26)"
      ]
     },
     "execution_count": 15,
     "metadata": {},
     "output_type": "execute_result"
    }
   ],
   "source": [
    "df_suc3 = df_suc.query('goal >= 7000')\n",
    "#plt.boxplot(df_suc3['goal'])\n",
    "df_suc3.shape"
   ]
  },
  {
   "cell_type": "code",
   "execution_count": 16,
   "metadata": {},
   "outputs": [
    {
     "data": {
      "text/plain": [
       "(13763, 26)"
      ]
     },
     "execution_count": 16,
     "metadata": {},
     "output_type": "execute_result"
    }
   ],
   "source": [
    "df_fai1 = df_fai.query('goal <= 1500')\n",
    "df_fai1.shape"
   ]
  },
  {
   "cell_type": "code",
   "execution_count": 17,
   "metadata": {},
   "outputs": [
    {
     "data": {
      "text/plain": [
       "(22526, 26)"
      ]
     },
     "execution_count": 17,
     "metadata": {},
     "output_type": "execute_result"
    }
   ],
   "source": [
    "df_fai2 = df_fai.query('1500 < goal < 7000')\n",
    "df_fai2.shape"
   ]
  },
  {
   "cell_type": "code",
   "execution_count": 18,
   "metadata": {},
   "outputs": [
    {
     "data": {
      "text/plain": [
       "(37909, 26)"
      ]
     },
     "execution_count": 18,
     "metadata": {},
     "output_type": "execute_result"
    }
   ],
   "source": [
    "df_fai3 = df_fai.query('goal >= 7000')\n",
    "df_fai3.shape"
   ]
  },
  {
   "cell_type": "code",
   "execution_count": 19,
   "metadata": {},
   "outputs": [
    {
     "data": {
      "text/plain": [
       "(1656, 26)"
      ]
     },
     "execution_count": 19,
     "metadata": {},
     "output_type": "execute_result"
    }
   ],
   "source": [
    "df_can1 = df_can.query('goal <= 1500')\n",
    "df_can1.shape"
   ]
  },
  {
   "cell_type": "code",
   "execution_count": 20,
   "metadata": {},
   "outputs": [
    {
     "data": {
      "text/plain": [
       "(2502, 26)"
      ]
     },
     "execution_count": 20,
     "metadata": {},
     "output_type": "execute_result"
    }
   ],
   "source": [
    "df_can2 = df_can.query('1500 < goal < 7000')\n",
    "df_can2.shape"
   ]
  },
  {
   "cell_type": "code",
   "execution_count": 21,
   "metadata": {},
   "outputs": [
    {
     "data": {
      "text/plain": [
       "(4460, 26)"
      ]
     },
     "execution_count": 21,
     "metadata": {},
     "output_type": "execute_result"
    }
   ],
   "source": [
    "df_can3 = df_can.query('goal >= 7000')\n",
    "df_can3.shape"
   ]
  },
  {
   "cell_type": "code",
   "execution_count": 22,
   "metadata": {},
   "outputs": [
    {
     "data": {
      "image/png": "[encoded data removed]",
      "text/plain": [
       "<Figure size 864x576 with 1 Axes>"
      ]
     },
     "metadata": {
      "needs_background": "light"
     },
     "output_type": "display_data"
    }
   ],
   "source": [
    "# making a categorical variable for goal 0='goal <= 1500' 1='1500 < goal < 7000', 2='goal >= 7000'\n",
    "#df.loc[df['goal'] <= 1500, 'goal_split'] = 0\n",
    "#df.loc[(df['goal'] > 1500) & (df['goal'] < 7000), 'goal_split'] = 1\n",
    "#df.loc[df['goal'] >= 7000, 'goal_split'] = 2\n",
    "#sns.barplot(x='goal_split', y=None, hue=\"state\", data=df)\n",
    "\n",
    "# set width of bar\n",
    "barWidth = 0.25\n",
    "fig = plt.subplots(figsize =(12, 8)) \n",
    "\n",
    "# set height of bar \n",
    "suc = [29467, 35129, 29650] \n",
    "fai = [13763, 22526, 37909] \n",
    "can = [1656, 2502, 4460]\n",
    "\n",
    "# Set position of bar on X axis \n",
    "br1 = np.arange(3) \n",
    "br2 = [x + barWidth for x in br1] \n",
    "br3 = [x + barWidth for x in br2]\n",
    "\n",
    "p1 = plt.bar(br1, suc, color ='g', width = barWidth, \n",
    "        edgecolor ='grey', tick_label ='success') \n",
    "p2 = plt.bar(br2, fai, color ='r', width = barWidth, \n",
    "        edgecolor ='grey', tick_label ='failed') \n",
    "p3 = plt.bar(br3, can, color ='b', width = barWidth, \n",
    "        edgecolor ='grey', tick_label ='canceled')\n",
    "\n",
    "# Adding Xticks  \n",
    "plt.xlabel('goal_split', fontweight ='bold') \n",
    "plt.ylabel('count', fontweight ='bold') \n",
    "plt.xticks([r + barWidth for r in range(3)], \n",
    "           ['goal <= 1500', '1500 < goal < 7000', 'goal >= 7000'])\n",
    "plt.legend((p1[0], p2[0], p3[0]), ('success', 'failed', 'canceled'))\n",
    "\n",
    "plt.show()\n",
    "\n",
    "#df1 = df.query('goal <= 1500')\n",
    "#df2 = df.query('1500 < goal < 7000')\n",
    "#df3 = df.query('goal >= 7000')"
   ]
  },
  {
   "cell_type": "markdown",
   "metadata": {},
   "source": [
    "## conclucsion\n",
    "the lower the goal the higher the probability for success"
   ]
  },
  {
   "cell_type": "code",
   "execution_count": 23,
   "metadata": {},
   "outputs": [
    {
     "data": {
      "image/png": "[encoded data removed]",
      "text/plain": [
       "<Figure size 432x288 with 1 Axes>"
      ]
     },
     "metadata": {
      "needs_background": "light"
     },
     "output_type": "display_data"
    }
   ],
   "source": [
    "sns.violinplot(x =\"state\", y =\"goal\", data = df_suc);"
   ]
  },
  {
   "cell_type": "code",
   "execution_count": 24,
   "metadata": {},
   "outputs": [
    {
     "data": {
      "image/png": "[encoded data removed]",
      "text/plain": [
       "<Figure size 576x432 with 1 Axes>"
      ]
     },
     "metadata": {
      "needs_background": "light"
     },
     "output_type": "display_data"
    }
   ],
   "source": [
    "var1 = 'state'\n",
    "data1 = pd.concat([df_suc['goal'], df_suc[var1]], axis=1)\n",
    "f, ax = plt.subplots(figsize=(8, 6))\n",
    "fig1 = sns.violinplot(x=var1, y=\"goal\", data=data1, scale=\"count\")\n",
    "fig1.axis(ymin=0, ymax=100000);\n",
    "#plt.yscale('log')"
   ]
  },
  {
   "cell_type": "code",
   "execution_count": 25,
   "metadata": {},
   "outputs": [
    {
     "data": {
      "text/plain": [
       "(239, 26)"
      ]
     },
     "execution_count": 25,
     "metadata": {},
     "output_type": "execute_result"
    }
   ],
   "source": [
    "df.query('goal <= 1').shape"
   ]
  },
  {
   "cell_type": "code",
   "execution_count": 26,
   "metadata": {},
   "outputs": [
    {
     "data": {
      "text/plain": [
       "(660, 26)"
      ]
     },
     "execution_count": 26,
     "metadata": {},
     "output_type": "execute_result"
    }
   ],
   "source": [
    "df.query('goal >= 1000000').shape"
   ]
  },
  {
   "cell_type": "code",
   "execution_count": 27,
   "metadata": {},
   "outputs": [
    {
     "data": {
      "text/plain": [
       "(12, 26)"
      ]
     },
     "execution_count": 27,
     "metadata": {},
     "output_type": "execute_result"
    }
   ],
   "source": [
    "df.query('goal >= 1000000 and state == \"successful\"').shape"
   ]
  },
  {
   "cell_type": "code",
   "execution_count": 28,
   "metadata": {},
   "outputs": [
    {
     "data": {
      "image/png": "[encoded data removed]",
      "text/plain": [
       "<Figure size 432x288 with 1 Axes>"
      ]
     },
     "metadata": {
      "needs_background": "light"
     },
     "output_type": "display_data"
    }
   ],
   "source": [
    "sta_dur = df.plot(x='state', \n",
    "                y='duration_days', \n",
    "                kind='scatter')"
   ]
  },
  {
   "cell_type": "markdown",
   "metadata": {},
   "source": [
    "### assumption 2: the longer the duration the higher the probability for success"
   ]
  },
  {
   "cell_type": "code",
   "execution_count": 29,
   "metadata": {},
   "outputs": [
    {
     "data": {
      "image/png": "[encoded data removed]",
      "text/plain": [
       "<Figure size 432x288 with 1 Axes>"
      ]
     },
     "metadata": {
      "needs_background": "light"
     },
     "output_type": "display_data"
    }
   ],
   "source": [
    "plt.boxplot(df['duration_days']);"
   ]
  },
  {
   "cell_type": "code",
   "execution_count": 30,
   "metadata": {},
   "outputs": [
    {
     "data": {
      "text/plain": [
       "[(18855, 26), (102794, 26), (24795, 26), (31150, 26)]"
      ]
     },
     "execution_count": 30,
     "metadata": {},
     "output_type": "execute_result"
    }
   ],
   "source": [
    "dur = [df.query('duration_days <= 20').shape, df.query('20 < duration_days <= 30').shape, \n",
    "        df.query('30 < duration_days <= 40').shape, df.query('duration_days > 40').shape]\n",
    "dur"
   ]
  },
  {
   "cell_type": "code",
   "execution_count": 31,
   "metadata": {},
   "outputs": [
    {
     "data": {
      "text/plain": [
       "[(12052, 26), (55097, 26), (15513, 26), (12116, 26)]"
      ]
     },
     "execution_count": 31,
     "metadata": {},
     "output_type": "execute_result"
    }
   ],
   "source": [
    "dur1 = [df_suc.query('duration_days <= 20').shape, df_suc.query('20 < duration_days <= 30').shape,\n",
    "        df_suc.query('30 < duration_days <= 40').shape, df_suc.query('duration_days > 40').shape]\n",
    "dur1"
   ]
  },
  {
   "cell_type": "code",
   "execution_count": 32,
   "metadata": {},
   "outputs": [
    {
     "data": {
      "text/plain": [
       "[(6150, 26), (43036, 26), (8119, 26), (16893, 26)]"
      ]
     },
     "execution_count": 32,
     "metadata": {},
     "output_type": "execute_result"
    }
   ],
   "source": [
    "dur2 = [df_fai.query('duration_days <= 20').shape, df_fai.query('20 < duration_days <= 30').shape,\n",
    "        df_fai.query('30 < duration_days <= 40').shape, df_fai.query('duration_days > 40').shape]\n",
    "dur2"
   ]
  },
  {
   "cell_type": "code",
   "execution_count": 33,
   "metadata": {},
   "outputs": [
    {
     "data": {
      "text/plain": [
       "[(653, 26), (4661, 26), (1163, 26), (2141, 26)]"
      ]
     },
     "execution_count": 33,
     "metadata": {},
     "output_type": "execute_result"
    }
   ],
   "source": [
    "dur3 = [df_can.query('duration_days <= 20').shape, df_can.query('20 < duration_days <= 30').shape,\n",
    "        df_can.query('30 < duration_days <= 40').shape, df_can.query('duration_days > 40').shape]\n",
    "dur3"
   ]
  },
  {
   "cell_type": "code",
   "execution_count": 34,
   "metadata": {},
   "outputs": [
    {
     "data": {
      "image/png": "[encoded data removed]",
      "text/plain": [
       "<Figure size 864x576 with 1 Axes>"
      ]
     },
     "metadata": {
      "needs_background": "light"
     },
     "output_type": "display_data"
    }
   ],
   "source": [
    "# set width of bar\n",
    "barWidth = 0.25\n",
    "fig = plt.subplots(figsize =(12, 8)) \n",
    "\n",
    "# set height of bar \n",
    "suc = [12052, 55097, 15513, 12116] \n",
    "fai = [6150, 43036, 8119, 16893] \n",
    "can = [653, 4661, 1163, 2141]\n",
    "\n",
    "# Set position of bar on X axis \n",
    "br1 = np.arange(4) \n",
    "br2 = [x + barWidth for x in br1] \n",
    "br3 = [x + barWidth for x in br2]\n",
    "\n",
    "p1 = plt.bar(br1, suc, color ='g', width = barWidth, \n",
    "        edgecolor ='grey', tick_label ='success') \n",
    "p2 = plt.bar(br2, fai, color ='r', width = barWidth, \n",
    "        edgecolor ='grey', tick_label ='failed') \n",
    "p3 = plt.bar(br3, can, color ='b', width = barWidth, \n",
    "        edgecolor ='grey', tick_label ='canceled')\n",
    "\n",
    "# Adding Xticks  \n",
    "plt.xlabel('goal_split', fontweight ='bold') \n",
    "plt.ylabel('count', fontweight ='bold') \n",
    "plt.xticks([r + barWidth for r in range(4)], \n",
    "           ['duration_days <= 20', '20 < duration_days <= 30', '30 < duration_days <= 40', 'duration_days > 40'])\n",
    "plt.legend((p1[0], p2[0], p3[0]), ('success', 'failed', 'canceled'))\n",
    "\n",
    "plt.show()"
   ]
  },
  {
   "cell_type": "markdown",
   "metadata": {},
   "source": [
    "### assumption 3: the longer the preparation time the higher the probability for success"
   ]
  },
  {
   "cell_type": "markdown",
   "metadata": {},
   "source": [
    "### assumption 4: the month of launch influences the probability for success"
   ]
  },
  {
   "cell_type": "code",
   "execution_count": 35,
   "metadata": {},
   "outputs": [
    {
     "data": {
      "image/png": "[encoded data removed]",
      "text/plain": [
       "<Figure size 432x288 with 1 Axes>"
      ]
     },
     "metadata": {
      "needs_background": "light"
     },
     "output_type": "display_data"
    }
   ],
   "source": [
    "sta_month = df.plot(x='launched_month', \n",
    "                y='state', \n",
    "                kind='scatter')"
   ]
  },
  {
   "cell_type": "code",
   "execution_count": 36,
   "metadata": {},
   "outputs": [
    {
     "data": {
      "image/png": "[encoded data removed]",
      "text/plain": [
       "<Figure size 648x432 with 3 Axes>"
      ]
     },
     "metadata": {
      "needs_background": "light"
     },
     "output_type": "display_data"
    }
   ],
   "source": [
    "# boxplot sqft_living (small houses, big houses, bad neighborhood)\n",
    "fig, axes = plt.subplots(ncols=3,sharex=True,sharey=True,figsize=(9,6))\n",
    "\n",
    "ax1 = df_suc.boxplot(column=['duration_days'],ax=axes[0])\n",
    "ax1.set_title(\"duration_days successful\", fontsize = 10)\n",
    "ax1.set_ylabel(\"count\");\n",
    "ax2 = df_fai.boxplot(column=['duration_days'],ax=axes[1])\n",
    "ax2.set_title(\"duration_days failed\", fontsize = 10);\n",
    "ax3 = df_can.boxplot(column=['duration_days'],ax=axes[2]);\n",
    "ax3.set_title(\"duration_days canceled\", fontsize = 10);"
   ]
  },
  {
   "cell_type": "code",
   "execution_count": 37,
   "metadata": {},
   "outputs": [
    {
     "data": {
      "text/plain": [
       "(30.850482179408722, 30.0)"
      ]
     },
     "execution_count": 37,
     "metadata": {},
     "output_type": "execute_result"
    }
   ],
   "source": [
    "df_suc['duration_days'].mean(), df_suc['duration_days'].median()"
   ]
  },
  {
   "cell_type": "code",
   "execution_count": 38,
   "metadata": {},
   "outputs": [
    {
     "data": {
      "text/plain": [
       "(34.49409687592657, 30.0)"
      ]
     },
     "execution_count": 38,
     "metadata": {},
     "output_type": "execute_result"
    }
   ],
   "source": [
    "df_fai['duration_days'].mean(), df_fai['duration_days'].median()"
   ]
  },
  {
   "cell_type": "code",
   "execution_count": 39,
   "metadata": {},
   "outputs": [
    {
     "data": {
      "text/plain": [
       "(35.3045950336505, 30.0)"
      ]
     },
     "execution_count": 39,
     "metadata": {},
     "output_type": "execute_result"
    }
   ],
   "source": [
    "df_can['duration_days'].mean(), df_can['duration_days'].median()"
   ]
  },
  {
   "cell_type": "code",
   "execution_count": 40,
   "metadata": {},
   "outputs": [
    {
     "ename": "KeyError",
     "evalue": "'successful'",
     "output_type": "error",
     "traceback": [
      "\u001b[0;31m---------------------------------------------------------------------------\u001b[0m",
      "\u001b[0;31mKeyError\u001b[0m                                  Traceback (most recent call last)",
      "\u001b[0;32m/opt/anaconda3/lib/python3.8/site-packages/pandas/core/indexes/base.py\u001b[0m in \u001b[0;36mget_loc\u001b[0;34m(self, key, method, tolerance)\u001b[0m\n\u001b[1;32m   2645\u001b[0m             \u001b[0;32mtry\u001b[0m\u001b[0;34m:\u001b[0m\u001b[0;34m\u001b[0m\u001b[0;34m\u001b[0m\u001b[0m\n\u001b[0;32m-> 2646\u001b[0;31m                 \u001b[0;32mreturn\u001b[0m \u001b[0mself\u001b[0m\u001b[0;34m.\u001b[0m\u001b[0m_engine\u001b[0m\u001b[0;34m.\u001b[0m\u001b[0mget_loc\u001b[0m\u001b[0;34m(\u001b[0m\u001b[0mkey\u001b[0m\u001b[0;34m)\u001b[0m\u001b[0;34m\u001b[0m\u001b[0;34m\u001b[0m\u001b[0m\n\u001b[0m\u001b[1;32m   2647\u001b[0m             \u001b[0;32mexcept\u001b[0m \u001b[0mKeyError\u001b[0m\u001b[0;34m:\u001b[0m\u001b[0;34m\u001b[0m\u001b[0;34m\u001b[0m\u001b[0m\n",
      "\u001b[0;32mpandas/_libs/index.pyx\u001b[0m in \u001b[0;36mpandas._libs.index.IndexEngine.get_loc\u001b[0;34m()\u001b[0m\n",
      "\u001b[0;32mpandas/_libs/index.pyx\u001b[0m in \u001b[0;36mpandas._libs.index.IndexEngine.get_loc\u001b[0;34m()\u001b[0m\n",
      "\u001b[0;32mpandas/_libs/hashtable_class_helper.pxi\u001b[0m in \u001b[0;36mpandas._libs.hashtable.PyObjectHashTable.get_item\u001b[0;34m()\u001b[0m\n",
      "\u001b[0;32mpandas/_libs/hashtable_class_helper.pxi\u001b[0m in \u001b[0;36mpandas._libs.hashtable.PyObjectHashTable.get_item\u001b[0;34m()\u001b[0m\n",
      "\u001b[0;31mKeyError\u001b[0m: 'successful'",
      "\nDuring handling of the above exception, another exception occurred:\n",
      "\u001b[0;31mKeyError\u001b[0m                                  Traceback (most recent call last)",
      "\u001b[0;32m<ipython-input-40-9a47d4e5c80c>\u001b[0m in \u001b[0;36m<module>\u001b[0;34m\u001b[0m\n\u001b[0;32m----> 1\u001b[0;31m \u001b[0mdf\u001b[0m\u001b[0;34m.\u001b[0m\u001b[0mgroupby\u001b[0m\u001b[0;34m(\u001b[0m\u001b[0;34m'state'\u001b[0m\u001b[0;34m)\u001b[0m\u001b[0;34m.\u001b[0m\u001b[0mcount\u001b[0m\u001b[0;34m(\u001b[0m\u001b[0;34m)\u001b[0m\u001b[0;34m[\u001b[0m\u001b[0;34m'successful'\u001b[0m\u001b[0;34m]\u001b[0m\u001b[0;34m\u001b[0m\u001b[0;34m\u001b[0m\u001b[0m\n\u001b[0m",
      "\u001b[0;32m/opt/anaconda3/lib/python3.8/site-packages/pandas/core/frame.py\u001b[0m in \u001b[0;36m__getitem__\u001b[0;34m(self, key)\u001b[0m\n\u001b[1;32m   2798\u001b[0m             \u001b[0;32mif\u001b[0m \u001b[0mself\u001b[0m\u001b[0;34m.\u001b[0m\u001b[0mcolumns\u001b[0m\u001b[0;34m.\u001b[0m\u001b[0mnlevels\u001b[0m \u001b[0;34m>\u001b[0m \u001b[0;36m1\u001b[0m\u001b[0;34m:\u001b[0m\u001b[0;34m\u001b[0m\u001b[0;34m\u001b[0m\u001b[0m\n\u001b[1;32m   2799\u001b[0m                 \u001b[0;32mreturn\u001b[0m \u001b[0mself\u001b[0m\u001b[0;34m.\u001b[0m\u001b[0m_getitem_multilevel\u001b[0m\u001b[0;34m(\u001b[0m\u001b[0mkey\u001b[0m\u001b[0;34m)\u001b[0m\u001b[0;34m\u001b[0m\u001b[0;34m\u001b[0m\u001b[0m\n\u001b[0;32m-> 2800\u001b[0;31m             \u001b[0mindexer\u001b[0m \u001b[0;34m=\u001b[0m \u001b[0mself\u001b[0m\u001b[0;34m.\u001b[0m\u001b[0mcolumns\u001b[0m\u001b[0;34m.\u001b[0m\u001b[0mget_loc\u001b[0m\u001b[0;34m(\u001b[0m\u001b[0mkey\u001b[0m\u001b[0;34m)\u001b[0m\u001b[0;34m\u001b[0m\u001b[0;34m\u001b[0m\u001b[0m\n\u001b[0m\u001b[1;32m   2801\u001b[0m             \u001b[0;32mif\u001b[0m \u001b[0mis_integer\u001b[0m\u001b[0;34m(\u001b[0m\u001b[0mindexer\u001b[0m\u001b[0;34m)\u001b[0m\u001b[0;34m:\u001b[0m\u001b[0;34m\u001b[0m\u001b[0;34m\u001b[0m\u001b[0m\n\u001b[1;32m   2802\u001b[0m                 \u001b[0mindexer\u001b[0m \u001b[0;34m=\u001b[0m \u001b[0;34m[\u001b[0m\u001b[0mindexer\u001b[0m\u001b[0;34m]\u001b[0m\u001b[0;34m\u001b[0m\u001b[0;34m\u001b[0m\u001b[0m\n",
      "\u001b[0;32m/opt/anaconda3/lib/python3.8/site-packages/pandas/core/indexes/base.py\u001b[0m in \u001b[0;36mget_loc\u001b[0;34m(self, key, method, tolerance)\u001b[0m\n\u001b[1;32m   2646\u001b[0m                 \u001b[0;32mreturn\u001b[0m \u001b[0mself\u001b[0m\u001b[0;34m.\u001b[0m\u001b[0m_engine\u001b[0m\u001b[0;34m.\u001b[0m\u001b[0mget_loc\u001b[0m\u001b[0;34m(\u001b[0m\u001b[0mkey\u001b[0m\u001b[0;34m)\u001b[0m\u001b[0;34m\u001b[0m\u001b[0;34m\u001b[0m\u001b[0m\n\u001b[1;32m   2647\u001b[0m             \u001b[0;32mexcept\u001b[0m \u001b[0mKeyError\u001b[0m\u001b[0;34m:\u001b[0m\u001b[0;34m\u001b[0m\u001b[0;34m\u001b[0m\u001b[0m\n\u001b[0;32m-> 2648\u001b[0;31m                 \u001b[0;32mreturn\u001b[0m \u001b[0mself\u001b[0m\u001b[0;34m.\u001b[0m\u001b[0m_engine\u001b[0m\u001b[0;34m.\u001b[0m\u001b[0mget_loc\u001b[0m\u001b[0;34m(\u001b[0m\u001b[0mself\u001b[0m\u001b[0;34m.\u001b[0m\u001b[0m_maybe_cast_indexer\u001b[0m\u001b[0;34m(\u001b[0m\u001b[0mkey\u001b[0m\u001b[0;34m)\u001b[0m\u001b[0;34m)\u001b[0m\u001b[0;34m\u001b[0m\u001b[0;34m\u001b[0m\u001b[0m\n\u001b[0m\u001b[1;32m   2649\u001b[0m         \u001b[0mindexer\u001b[0m \u001b[0;34m=\u001b[0m \u001b[0mself\u001b[0m\u001b[0;34m.\u001b[0m\u001b[0mget_indexer\u001b[0m\u001b[0;34m(\u001b[0m\u001b[0;34m[\u001b[0m\u001b[0mkey\u001b[0m\u001b[0;34m]\u001b[0m\u001b[0;34m,\u001b[0m \u001b[0mmethod\u001b[0m\u001b[0;34m=\u001b[0m\u001b[0mmethod\u001b[0m\u001b[0;34m,\u001b[0m \u001b[0mtolerance\u001b[0m\u001b[0;34m=\u001b[0m\u001b[0mtolerance\u001b[0m\u001b[0;34m)\u001b[0m\u001b[0;34m\u001b[0m\u001b[0;34m\u001b[0m\u001b[0m\n\u001b[1;32m   2650\u001b[0m         \u001b[0;32mif\u001b[0m \u001b[0mindexer\u001b[0m\u001b[0;34m.\u001b[0m\u001b[0mndim\u001b[0m \u001b[0;34m>\u001b[0m \u001b[0;36m1\u001b[0m \u001b[0;32mor\u001b[0m \u001b[0mindexer\u001b[0m\u001b[0;34m.\u001b[0m\u001b[0msize\u001b[0m \u001b[0;34m>\u001b[0m \u001b[0;36m1\u001b[0m\u001b[0;34m:\u001b[0m\u001b[0;34m\u001b[0m\u001b[0;34m\u001b[0m\u001b[0m\n",
      "\u001b[0;32mpandas/_libs/index.pyx\u001b[0m in \u001b[0;36mpandas._libs.index.IndexEngine.get_loc\u001b[0;34m()\u001b[0m\n",
      "\u001b[0;32mpandas/_libs/index.pyx\u001b[0m in \u001b[0;36mpandas._libs.index.IndexEngine.get_loc\u001b[0;34m()\u001b[0m\n",
      "\u001b[0;32mpandas/_libs/hashtable_class_helper.pxi\u001b[0m in \u001b[0;36mpandas._libs.hashtable.PyObjectHashTable.get_item\u001b[0;34m()\u001b[0m\n",
      "\u001b[0;32mpandas/_libs/hashtable_class_helper.pxi\u001b[0m in \u001b[0;36mpandas._libs.hashtable.PyObjectHashTable.get_item\u001b[0;34m()\u001b[0m\n",
      "\u001b[0;31mKeyError\u001b[0m: 'successful'"
     ]
    }
   ],
   "source": [
    "df.groupby('state').count()['successful']"
   ]
  },
  {
   "cell_type": "markdown",
   "metadata": {},
   "source": [
    "### assumption 5: the country influences the probability for success"
   ]
  },
  {
   "cell_type": "code",
   "execution_count": null,
   "metadata": {},
   "outputs": [],
   "source": [
    "cou_suc = df_suc.groupby(['country'])['country'].count()\n",
    "cou_fai = df_fai.groupby(['country'])['country'].count()\n",
    "cou_can = df_can.groupby(['country'])['country'].count()\n",
    "pd.merge(cou_suc, cou_fai, cou_can, on=['country'],suffixes=[' successful', ' failed', ' canceled'])\n",
    "#df['country'].unique()"
   ]
  },
  {
   "cell_type": "code",
   "execution_count": null,
   "metadata": {},
   "outputs": [],
   "source": [
    "cou_can"
   ]
  },
  {
   "cell_type": "code",
   "execution_count": null,
   "metadata": {},
   "outputs": [],
   "source": [
    "fig, axes = plt.subplots(ncols=3,sharex=True,sharey=True,figsize=(15,6))\n",
    "\n",
    "ax1 = cou_suc.hist(column=['country'],ax=axes[0])\n",
    "axes[0].set_title('country successful')\n",
    "axes[0].set_xlabel('country')\n",
    "axes[0].set_ylabel('count')\n",
    "\n",
    "\n",
    "ax2 = cou_fai.hist(column=['country'],ax=axes[1])\n",
    "axes[1].set_title('country failed')\n",
    "axes[1].set_xlabel('country')\n",
    "axes[1].set_ylabel('count')\n",
    "\n",
    "\n",
    "ax3 = cou_can.hist(column=['country'],ax=axes[2])\n",
    "axes[2].set_title('country canceled')\n",
    "axes[2].set_xlabel('country')\n",
    "axes[2].set_ylabel('count');"
   ]
  },
  {
   "cell_type": "code",
   "execution_count": null,
   "metadata": {},
   "outputs": [],
   "source": [
    "cou_suc.plot(kind='bar');"
   ]
  },
  {
   "cell_type": "code",
   "execution_count": null,
   "metadata": {},
   "outputs": [],
   "source": [
    "cou_fai.plot(kind='bar');"
   ]
  },
  {
   "cell_type": "code",
   "execution_count": null,
   "metadata": {},
   "outputs": [],
   "source": [
    "cou_can.plot(kind='bar');"
   ]
  },
  {
   "cell_type": "code",
   "execution_count": null,
   "metadata": {},
   "outputs": [],
   "source": [
    "cou = df_suc.groupby('country')['country'].count()\n",
    "cou = list(cou)\n",
    "\n",
    "cou1 = df['country'].unique()\n",
    "\n",
    "# Creating plot \n",
    "fig = plt.figure(figsize =(10, 7)) \n",
    "plt.pie(cou, labels = cou1) \n",
    "  \n",
    "# show plot \n",
    "plt.show() "
   ]
  },
  {
   "cell_type": "code",
   "execution_count": null,
   "metadata": {},
   "outputs": [],
   "source": [
    "\n",
    "\n",
    "country_suc = df_suc.groupby(df_suc['country'])\n",
    "#pledged = amt_pledged.sum().sort_values(ascending=0)[0:10]\n",
    "\n",
    "\n",
    "ax = country_suc.plot(kind=\"bar\")\n",
    "ax.set_title(\"Amount by Country\")\n",
    "ax.set_ylabel(\"Amount\")\n",
    "ax.set_xlabel(\"Country\")\n",
    "vals = ax.get_yticks()"
   ]
  },
  {
   "cell_type": "markdown",
   "metadata": {},
   "source": [
    "### assumption 6: pledged amount per backer influences the probability for success"
   ]
  },
  {
   "cell_type": "code",
   "execution_count": null,
   "metadata": {},
   "outputs": [],
   "source": [
    "df.groupby('state').pledged_per_backer.mean()"
   ]
  },
  {
   "cell_type": "code",
   "execution_count": null,
   "metadata": {},
   "outputs": [],
   "source": []
  },
  {
   "cell_type": "code",
   "execution_count": null,
   "metadata": {},
   "outputs": [],
   "source": []
  },
  {
   "cell_type": "code",
   "execution_count": null,
   "metadata": {},
   "outputs": [],
   "source": [
    "df_suc.groupby('staff_pick').count()"
   ]
  },
  {
   "cell_type": "code",
   "execution_count": null,
   "metadata": {},
   "outputs": [],
   "source": [
    "df_fai.groupby('staff_pick').count()"
   ]
  },
  {
   "cell_type": "code",
   "execution_count": null,
   "metadata": {},
   "outputs": [],
   "source": [
    "df_can.groupby('staff_pick').count()"
   ]
  },
  {
   "cell_type": "code",
   "execution_count": 47,
   "metadata": {},
   "outputs": [
    {
     "data": {
      "text/plain": [
       "<matplotlib.axes._subplots.AxesSubplot at 0x7fbed4baf7c0>"
      ]
     },
     "execution_count": 47,
     "metadata": {},
     "output_type": "execute_result"
    },
    {
     "data": {
      "image/png": "[encoded data removed]",
      "text/plain": [
       "<Figure size 432x288 with 1 Axes>"
      ]
     },
     "metadata": {
      "needs_background": "light"
     },
     "output_type": "display_data"
    }
   ],
   "source": [
    "df_suc['cat_in_slug'].hist()"
   ]
  },
  {
   "cell_type": "code",
   "execution_count": 48,
   "metadata": {},
   "outputs": [
    {
     "data": {
      "text/plain": [
       "<matplotlib.axes._subplots.AxesSubplot at 0x7fbeb69ff580>"
      ]
     },
     "execution_count": 48,
     "metadata": {},
     "output_type": "execute_result"
    },
    {
     "data": {
      "image/png": "[encoded data removed]",
      "text/plain": [
       "<Figure size 432x288 with 1 Axes>"
      ]
     },
     "metadata": {
      "needs_background": "light"
     },
     "output_type": "display_data"
    }
   ],
   "source": [
    "df_fai['cat_in_slug'].hist()"
   ]
  },
  {
   "cell_type": "code",
   "execution_count": 49,
   "metadata": {},
   "outputs": [
    {
     "data": {
      "text/plain": [
       "<matplotlib.axes._subplots.AxesSubplot at 0x7fbeb697adf0>"
      ]
     },
     "execution_count": 49,
     "metadata": {},
     "output_type": "execute_result"
    },
    {
     "data": {
      "image/png": "[encoded data removed]",
      "text/plain": [
       "<Figure size 432x288 with 1 Axes>"
      ]
     },
     "metadata": {
      "needs_background": "light"
     },
     "output_type": "display_data"
    }
   ],
   "source": [
    "df_can['cat_in_slug'].hist()"
   ]
  },
  {
   "cell_type": "code",
   "execution_count": 69,
   "metadata": {},
   "outputs": [
    {
     "data": {
      "image/png": "[encoded data removed]",
      "text/plain": [
       "<Figure size 448.125x360 with 1 Axes>"
      ]
     },
     "metadata": {
      "needs_background": "light"
     },
     "output_type": "display_data"
    }
   ],
   "source": [
    "sns.catplot(x = \"cat_in_slug\", kind = 'count', hue=\"state\", data=df);\n",
    "#sns.barplot(x='cat_in_slug', hue='state', data=df)\n",
    "#df.groupby('cat_in_slug').plot(x='state', kind='bar')"
   ]
  },
  {
   "cell_type": "code",
   "execution_count": null,
   "metadata": {},
   "outputs": [],
   "source": []
  }
 ],
 "metadata": {
  "kernelspec": {
   "display_name": "Python 3",
   "language": "python",
   "name": "python3"
  },
  "language_info": {
   "codemirror_mode": {
    "name": "ipython",
    "version": 3
   },
   "file_extension": ".py",
   "mimetype": "text/x-python",
   "name": "python",
   "nbconvert_exporter": "python",
   "pygments_lexer": "ipython3",
   "version": "3.8.3"
  }
 },
 "nbformat": 4,
 "nbformat_minor": 4
}
