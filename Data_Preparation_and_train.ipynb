{
 "cells": [
  {
   "cell_type": "markdown",
   "metadata": {},
   "source": [
    "# Data cleaning\n",
    "\n",
    "In this notebook we will clean our Dataframe 'Kickstarter_merged.csv'. That means we will create new columns which we think are important as well as we will drop columns with unimportance.\n",
    "\n",
    "#### Overview new columns\n",
    "    * column 'blurbs' will be replaced with -> 'blurb_len_w'\n",
    "    * column 'slug' will be trplaced with -> 'slug_len_w', \n",
    "    * column 'category' will be replaced with -> 'parent_name'\n",
    "    * column 'launched_at' will be replaced with -> 'launched_month'\n",
    "    * new column duration of the crowdfunding\n",
    "    * new column preparation time (from created_at until launched_at\n",
    "    * column 'state_changed_at' will be replaced with -> 'state_changed_year', 'state_changed_month, \n",
    "    * new column pledged/backer\n",
    "    * column 'goal' will be converted in USD\n",
    "\n",
    "#### Overview dropped columns\n",
    "    * converted_pledged_amount\n",
    "    * creator\n",
    "    * currency \n",
    "    * currency_symbol\n",
    "    * currency_trailing_code\n",
    "    * current_curency\n",
    "    * disable_communication\n",
    "    * friends\n",
    "    * fx_rate\n",
    "    * id after using it for other transformations\n",
    "    * is_backing\n",
    "    * is_starrable\n",
    "    * is_starred\n",
    "    * location\n",
    "    * name \n",
    "    * permissions\n",
    "    * photo\n",
    "    * pledged\n",
    "    * profile \n",
    "    * slug\n",
    "    * source_url\n",
    "    * spotlight\n",
    "    * state_changed_at \n",
    "    * static_usd_rate \n",
    "    * urls\n",
    "    * usd_type\n",
    "   \n",
    "    \n",
    "    \n",
    "#### Overview dropped rows\n",
    "    * 8 rows with missing values in column 'blurbs'\n",
    "    * drop the duplicates\n",
    "    * drop rows with values 'suspended' and 'live' in column 'state'\n"
   ]
  },
  {
   "cell_type": "code",
   "execution_count": 1,
   "metadata": {},
   "outputs": [],
   "source": [
    "# import packages\n",
    "import pandas as pd\n",
    "import numpy as np\n",
    "import seaborn as sns\n",
    "import time\n",
    "import datetime as dt\n",
    "import json"
   ]
  },
  {
   "cell_type": "markdown",
   "metadata": {},
   "source": [
    "Read in file."
   ]
  },
  {
   "cell_type": "code",
   "execution_count": 2,
   "metadata": {},
   "outputs": [],
   "source": [
    "df = pd.read_csv('data/Kickstarter_merged.csv', index_col=0)"
   ]
  },
  {
   "cell_type": "markdown",
   "metadata": {},
   "source": [
    "## Create new columns\n",
    "    \n",
    "Let´s start with creating new columns: We will replace the columns 'blurbs', 'slug', category', 'created_at', 'deadline', 'launched_at', 'state_changed_at'."
   ]
  },
  {
   "cell_type": "markdown",
   "metadata": {},
   "source": [
    "### Lenghth of Blurb in words:"
   ]
  },
  {
   "cell_type": "code",
   "execution_count": 3,
   "metadata": {},
   "outputs": [],
   "source": [
    "def string_len_w(string):\n",
    "    '''Return length of string (number of word, seperated by Space).'''\n",
    "    string_str = str(string)\n",
    "    string_list = string_str.split()\n",
    "    string_len = len(string_list)\n",
    "    return string_len"
   ]
  },
  {
   "cell_type": "code",
   "execution_count": 4,
   "metadata": {},
   "outputs": [],
   "source": [
    "def add_blurb_len_w (df):\n",
    "    '''Adding column that contains the length of the Blurb (words) and returns the updated Dataframe'''\n",
    "    df['blurb_len_w'] = df.apply(lambda x: string_len_w(x['blurb']), axis=1)\n",
    "    return df"
   ]
  },
  {
   "cell_type": "code",
   "execution_count": 7,
   "metadata": {},
   "outputs": [],
   "source": [
    "df = add_blurb_len_w(df)"
   ]
  },
  {
   "cell_type": "markdown",
   "metadata": {},
   "source": [
    "### Lenghth of Slug in words:"
   ]
  },
  {
   "cell_type": "code",
   "execution_count": 10,
   "metadata": {},
   "outputs": [],
   "source": [
    "def string_len_slug_w(string):\n",
    "    '''Returns length of string (number of words, seperated by \"-\").'''\n",
    "    string_str = str(string)\n",
    "    string_list = string_str.split(\"-\")\n",
    "    string_len = len(string_list)\n",
    "    return string_len"
   ]
  },
  {
   "cell_type": "code",
   "execution_count": 11,
   "metadata": {},
   "outputs": [],
   "source": [
    "def add_slug_len_w (df):\n",
    "    '''Adding column that contains the length of the Slug (words) and returns the updated Dataframe'''\n",
    "    df['slug_len_w'] = df.apply(lambda x: string_len_slug_w(x['slug']), axis=1)\n",
    "    return df"
   ]
  },
  {
   "cell_type": "code",
   "execution_count": 13,
   "metadata": {},
   "outputs": [
    {
     "data": {
      "text/plain": [
       "0         3\n",
       "1         4\n",
       "2         7\n",
       "3         7\n",
       "4         7\n",
       "         ..\n",
       "209217    7\n",
       "209218    4\n",
       "209219    9\n",
       "209220    5\n",
       "209221    5\n",
       "Name: slug_len_w, Length: 209222, dtype: int64"
      ]
     },
     "execution_count": 13,
     "metadata": {},
     "output_type": "execute_result"
    }
   ],
   "source": [
    "df = add_slug_len_w(df)"
   ]
  },
  {
   "cell_type": "markdown",
   "metadata": {},
   "source": [
    " ### column category aka parent_name"
   ]
  },
  {
   "cell_type": "code",
   "execution_count": 24,
   "metadata": {},
   "outputs": [],
   "source": [
    "def add_parent_id(df):\n",
    "    '''Extracts Parent ID out of the Category json and adds the Column to Dataframe. Returns updated Dataframe'''\n",
    "    df['category_parent_id'] = pd.DataFrame([json.loads(df[\"category\"][i]).get(\"parent_id\") for i in range(df.shape[0])])\n",
    "    return df"
   ]
  },
  {
   "cell_type": "code",
   "execution_count": 15,
   "metadata": {},
   "outputs": [],
   "source": [
    "def add_category_id(df):\n",
    "    '''Extracts category ID out of the Category json and adds the Column to Dataframe. Returns updated Dataframe'''\n",
    "    df['category_id'] = pd.DataFrame([json.loads(df[\"category\"][i]).get(\"id\") for i in range(df.shape[0])])\n",
    "    return df"
   ]
  },
  {
   "cell_type": "code",
   "execution_count": 16,
   "metadata": {},
   "outputs": [],
   "source": [
    "def add_category_name(df):\n",
    "    '''Extracts category name out of the Category json and adds the Column to Dataframe. Returns updated Dataframe'''\n",
    "    df['category_name'] = pd.DataFrame([json.loads(df[\"category\"][i]).get(\"name\") for i in range(df.shape[0])])\n",
    "    return df"
   ]
  },
  {
   "cell_type": "code",
   "execution_count": 18,
   "metadata": {},
   "outputs": [],
   "source": [
    "def fill_na(df, column_name):\n",
    "    '''Fill Missings with 0 as type integer. Returns updated dataframe. eg, for parent ID and pledged per backer'''\n",
    "    df[column_name] = df[column_name].fillna(0).astype(\"int\")\n",
    "    return df"
   ]
  },
  {
   "cell_type": "code",
   "execution_count": 20,
   "metadata": {},
   "outputs": [],
   "source": [
    "# Making a list based on entry in one category and if missing adds entry of another Column\n",
    "def helper_list():\n",
    "    '''Making a list based on entry in one category and if missing adds entry of another Column'''\n",
    "    empty = []\n",
    "    for i in range(df.shape[0]):\n",
    "        if df[\"category_parent_id\"][i] != 0:\n",
    "            empty.append(df[\"category_parent_id\"][i])\n",
    "        else:\n",
    "            empty.append(df[\"category_id\"][i])\n",
    "    return empty"
   ]
  },
  {
   "cell_type": "code",
   "execution_count": 21,
   "metadata": {},
   "outputs": [],
   "source": [
    "# adds helper list as column to dataframe \n",
    "def add_list_as_column(df, column_name, list_name):\n",
    "    '''Adds helper list as column to dataframe and retruns updated dataframe'''\n",
    "    df[column_name] = pd.DataFrame(list_name)\n",
    "    return df"
   ]
  },
  {
   "cell_type": "code",
   "execution_count": 34,
   "metadata": {},
   "outputs": [],
   "source": [
    "def add_parent_name(df, column_name1, column_name2, dictionary):\n",
    "    '''based on key value in a column, column with value is added as a column and updated dataframe is returned. \n",
    "    Example:\n",
    "        parents_dict = {1: \"Art\", 3: \"Comics\", 6: \"Dance\", 7: \"Design\", 9: \"Fashion\", 10: \"Food\",\n",
    "                11: \"Film & Video\", 12: \"Games\", 13: \"Journalism\", 14: \"Music\", 15: \"Photography\", 16: \"Technology\",\n",
    "               17: \"Theater\", 18: \"Publishing\", 26: \"Crafts\"}\n",
    "            df[\"parent_name\"] = df[\"filled_parent\"].apply(lambda x: parents_dict.get(x))'''\n",
    "    df[column_name1] = df[column_name2].apply(lambda x: dictionary.get(x))\n",
    "    return df"
   ]
  },
  {
   "cell_type": "code",
   "execution_count": 28,
   "metadata": {},
   "outputs": [],
   "source": [
    "df = add_parent_id(df)\n",
    "df = add_category_id(df)\n",
    "df = add_category_name(df)\n",
    "df = fill_na(df, 'category_parent_id')"
   ]
  },
  {
   "cell_type": "code",
   "execution_count": 29,
   "metadata": {},
   "outputs": [],
   "source": [
    "empty = []\n",
    "for i in range(df.shape[0]):\n",
    "    if df[\"category_parent_id\"][i] != 0:\n",
    "        empty.append(df[\"category_parent_id\"][i])\n",
    "    else:\n",
    "        empty.append(df[\"category_id\"][i])"
   ]
  },
  {
   "cell_type": "code",
   "execution_count": 32,
   "metadata": {},
   "outputs": [],
   "source": [
    "df = add_list_as_column(df, \"filled_parent\", empty)"
   ]
  },
  {
   "cell_type": "code",
   "execution_count": 35,
   "metadata": {},
   "outputs": [],
   "source": [
    "df = add_parent_name(df, \"parent_name\", \"filled_parent\", {1: \"Art\", 3: \"Comics\", 6: \"Dance\", 7: \"Design\", 9: \"Fashion\", 10: \"Food\",\n",
    "                11: \"Film & Video\", 12: \"Games\", 13: \"Journalism\", 14: \"Music\", 15: \"Photography\", 16: \"Technology\",\n",
    "               17: \"Theater\", 18: \"Publishing\", 26: \"Crafts\"})"
   ]
  },
  {
   "cell_type": "code",
   "execution_count": 36,
   "metadata": {},
   "outputs": [
    {
     "data": {
      "text/plain": [
       "0              Fashion\n",
       "1                Games\n",
       "2                Music\n",
       "3                Games\n",
       "4           Publishing\n",
       "              ...     \n",
       "209217           Games\n",
       "209218           Music\n",
       "209219      Technology\n",
       "209220    Film & Video\n",
       "209221      Journalism\n",
       "Name: parent_name, Length: 209222, dtype: object"
      ]
     },
     "execution_count": 36,
     "metadata": {},
     "output_type": "execute_result"
    }
   ],
   "source": [
    "df[\"parent_name\"]"
   ]
  },
  {
   "cell_type": "markdown",
   "metadata": {},
   "source": [
    "### Month launched"
   ]
  },
  {
   "cell_type": "code",
   "execution_count": 37,
   "metadata": {},
   "outputs": [],
   "source": [
    "#funtion to extract the month out of the number\n",
    "def extract_month(number):\n",
    "    '''Extracts the month out of the number and returns the month'''\n",
    "    gmtime = time.gmtime(number)\n",
    "    return gmtime[1]"
   ]
  },
  {
   "cell_type": "code",
   "execution_count": 38,
   "metadata": {},
   "outputs": [],
   "source": [
    "# Adding column with month the project was launched\n",
    "def adding_month_launched(df):  \n",
    "    '''Adding column with month the project was launched and returns the updated dataframe'''\n",
    "    df[\"launched_month\"] = df.apply(lambda x: extract_month(x[\"launched_at\"]), axis=1)\n",
    "    return df"
   ]
  },
  {
   "cell_type": "code",
   "execution_count": 40,
   "metadata": {},
   "outputs": [],
   "source": [
    "df = adding_month_launched(df)"
   ]
  },
  {
   "cell_type": "markdown",
   "metadata": {},
   "source": [
    "### Duration"
   ]
  },
  {
   "cell_type": "code",
   "execution_count": 42,
   "metadata": {},
   "outputs": [],
   "source": [
    "def duration(deadline, launched_at):\n",
    "    '''Calculating difference between two timepoints and returns it in days'''\n",
    "    duration = deadline - launched_at\n",
    "    duration_complete = dt.timedelta(seconds=duration)\n",
    "    return duration_complete.days"
   ]
  },
  {
   "cell_type": "code",
   "execution_count": 43,
   "metadata": {},
   "outputs": [],
   "source": [
    "# Adding column with duration in days\n",
    "def adding_duration(df):\n",
    "    '''Adding column with duration in days and returns updated dataframe'''\n",
    "    df[\"duration_days\"] = df.apply(lambda x: duration(x[\"deadline\"], x[\"launched_at\"]), axis=1)\n",
    "    return df"
   ]
  },
  {
   "cell_type": "code",
   "execution_count": 44,
   "metadata": {},
   "outputs": [],
   "source": [
    "df = adding_duration(df)"
   ]
  },
  {
   "cell_type": "markdown",
   "metadata": {},
   "source": [
    "### preparation "
   ]
  },
  {
   "cell_type": "code",
   "execution_count": 50,
   "metadata": {},
   "outputs": [],
   "source": [
    "def adding_preparation(df):\n",
    "    '''Adding column with preparation in days and returns updated dataframe'''\n",
    "    df[\"preparation\"] = df.apply(lambda x: duration(x[\"launched_at\"], x[\"created_at\"]), axis=1)\n",
    "    return df"
   ]
  },
  {
   "cell_type": "code",
   "execution_count": 51,
   "metadata": {},
   "outputs": [],
   "source": [
    "df = adding_preparation(df)"
   ]
  },
  {
   "cell_type": "markdown",
   "metadata": {},
   "source": [
    "### pledged/backer as \"Reward Amount\""
   ]
  },
  {
   "cell_type": "code",
   "execution_count": 54,
   "metadata": {},
   "outputs": [],
   "source": [
    "def adding_pledged_per_backer(df):\n",
    "    '''Adding column that is the averaged amount pledged per backer, returns updated dataframe'''\n",
    "    df['pledged_per_backer'] = (df['usd_pledged'] / df['backers_count']).round(2)\n",
    "    return df"
   ]
  },
  {
   "cell_type": "code",
   "execution_count": 55,
   "metadata": {},
   "outputs": [],
   "source": [
    "df = adding_pledged_per_backer(df)"
   ]
  },
  {
   "cell_type": "markdown",
   "metadata": {},
   "source": [
    "### Coverting Goal to USD"
   ]
  },
  {
   "cell_type": "code",
   "execution_count": 57,
   "metadata": {},
   "outputs": [],
   "source": [
    "def usd_convert_goal(df, column_name, exchange_rate): \n",
    "    '''Converts a Column based on given exchange rate, rounds it to two decimal spaces  \n",
    "    and returns updated dataframe, e.g. \n",
    "    df['goal'] = (df['goal'] * df['static_usd_rate']).round(2)'''\n",
    "    df[column_name] = (df[column_name] * df[exchange_rate]).round(2)\n",
    "    return df"
   ]
  },
  {
   "cell_type": "code",
   "execution_count": 58,
   "metadata": {},
   "outputs": [],
   "source": [
    "df = usd_convert_goal(df, 'goal', 'static_usd_rate')"
   ]
  },
  {
   "cell_type": "code",
   "execution_count": 59,
   "metadata": {},
   "outputs": [
    {
     "data": {
      "text/plain": [
       "0         28000.00\n",
       "1          1000.00\n",
       "2         15000.00\n",
       "3         12160.66\n",
       "4          2800.00\n",
       "            ...   \n",
       "209217     1500.00\n",
       "209218     5466.50\n",
       "209219     2500.00\n",
       "209220     5500.00\n",
       "209221     1000.00\n",
       "Name: goal, Length: 209222, dtype: float64"
      ]
     },
     "execution_count": 59,
     "metadata": {},
     "output_type": "execute_result"
    }
   ],
   "source": [
    "df['goal']"
   ]
  },
  {
   "cell_type": "markdown",
   "metadata": {},
   "source": [
    "## Drop rows"
   ]
  },
  {
   "cell_type": "code",
   "execution_count": 60,
   "metadata": {},
   "outputs": [],
   "source": [
    "def drop_rows_missings(df, column_name):\n",
    "    '''Drop rows with missing values in column, eg. Blurb. Retruns dataframe.'''\n",
    "    df.dropna(subset = [column_name], inplace=True)\n",
    "    return df"
   ]
  },
  {
   "cell_type": "code",
   "execution_count": 63,
   "metadata": {},
   "outputs": [],
   "source": [
    "def drop_duplicates(df, column_name):\n",
    "    '''Creating dataframe and dropping all duplicates, based on a column_name (eg, ID) \n",
    "    and keep the last (\"newest\") duplicate'''\n",
    "    df = df.drop_duplicates(subset=['id'], keep='last')\n",
    "    return df"
   ]
  },
  {
   "cell_type": "code",
   "execution_count": 68,
   "metadata": {},
   "outputs": [],
   "source": [
    "# drop rows with values certain values in a dataframe and returns updated dataframe, eg 'suspended' and 'live' in column 'state'\n",
    "def drop_rows_value (df, column_name, value):\n",
    "    '''drop rows with values certain values in a dataframe and returns updated dataframe'''\n",
    "    df = df.drop(df[df[column_name] == value ].index)\n",
    "    return df"
   ]
  },
  {
   "cell_type": "code",
   "execution_count": 62,
   "metadata": {},
   "outputs": [],
   "source": [
    "# drop 8 rows with missing values in column 'blurbs'\n",
    "df = drop_rows_missings(df, 'blurb')"
   ]
  },
  {
   "cell_type": "code",
   "execution_count": 69,
   "metadata": {},
   "outputs": [],
   "source": [
    "# creating dataframe and dropping all duplicates and keep the last (\"newest\") duplicate \n",
    "df = drop_duplicates(df, 'id')"
   ]
  },
  {
   "cell_type": "code",
   "execution_count": 70,
   "metadata": {},
   "outputs": [],
   "source": [
    "df = drop_rows_value(df, 'state', 'suspended')"
   ]
  },
  {
   "cell_type": "code",
   "execution_count": 71,
   "metadata": {},
   "outputs": [],
   "source": [
    "df = drop_rows_value(df, 'state', 'live')"
   ]
  },
  {
   "cell_type": "code",
   "execution_count": 72,
   "metadata": {},
   "outputs": [],
   "source": [
    "df = drop_rows_value(df, 'state', 'canceled')"
   ]
  },
  {
   "cell_type": "code",
   "execution_count": 73,
   "metadata": {},
   "outputs": [],
   "source": [
    "df = drop_rows_value(df, 'goal', 0)"
   ]
  },
  {
   "cell_type": "markdown",
   "metadata": {},
   "source": [
    "## Drop Columns"
   ]
  },
  {
   "cell_type": "code",
   "execution_count": 76,
   "metadata": {},
   "outputs": [],
   "source": [
    "def drop_columns(df, list_columns):\n",
    "    '''Drops columns in the list and returns updated datadrame'''\n",
    "    df.drop(list_columns, axis=1, inplace=True)\n",
    "    return df"
   ]
  },
  {
   "cell_type": "code",
   "execution_count": 74,
   "metadata": {},
   "outputs": [
    {
     "data": {
      "text/plain": [
       "Index(['backers_count', 'blurb', 'category', 'converted_pledged_amount',\n",
       "       'country', 'created_at', 'creator', 'currency', 'currency_symbol',\n",
       "       'currency_trailing_code', 'current_currency', 'deadline',\n",
       "       'disable_communication', 'friends', 'fx_rate', 'goal', 'id',\n",
       "       'is_backing', 'is_starrable', 'is_starred', 'launched_at', 'location',\n",
       "       'name', 'permissions', 'photo', 'pledged', 'profile', 'slug',\n",
       "       'source_url', 'spotlight', 'staff_pick', 'state', 'state_changed_at',\n",
       "       'static_usd_rate', 'urls', 'usd_pledged', 'usd_type', 'blurb_len_w',\n",
       "       'slug_len_w', 'category_parent_id', 'category_id', 'category_name',\n",
       "       'filled_parent', 'parent_name', 'launched_month', 'duration_days',\n",
       "       'preparation', 'pledged_per_backer'],\n",
       "      dtype='object')"
      ]
     },
     "execution_count": 74,
     "metadata": {},
     "output_type": "execute_result"
    }
   ],
   "source": [
    "df.columns"
   ]
  },
  {
   "cell_type": "code",
   "execution_count": 85,
   "metadata": {},
   "outputs": [
    {
     "ename": "KeyError",
     "evalue": "\"['backers_count' 'blurb' 'category' 'converted_pledged_amount' 'country'\\n 'created_at' 'creator' 'currency' 'currency_symbol'\\n 'currency_trailing_code' 'current_currency' 'deadline'\\n 'disable_communication' 'friends' 'fx_rate' 'id' 'is_backing'\\n 'is_starrable' 'is_starred' 'launched_at' 'location' 'name' 'permissions'\\n 'photo' 'pledged' 'profile' 'slug' 'source_url' 'spotlight'\\n 'state_changed_at' 'static_usd_rate' 'urls' 'usd_type'\\n 'category_parent_id' 'category_id' 'category_name' 'filled_parent'] not found in axis\"",
     "output_type": "error",
     "traceback": [
      "\u001b[0;31m---------------------------------------------------------------------------\u001b[0m",
      "\u001b[0;31mKeyError\u001b[0m                                  Traceback (most recent call last)",
      "\u001b[0;32m<ipython-input-85-71ddb53be35b>\u001b[0m in \u001b[0;36m<module>\u001b[0;34m\u001b[0m\n\u001b[0;32m----> 1\u001b[0;31m df = drop_columns(df, ['backers_count', 'blurb', 'category', 'converted_pledged_amount',\n\u001b[0m\u001b[1;32m      2\u001b[0m        \u001b[0;34m'country'\u001b[0m\u001b[0;34m,\u001b[0m \u001b[0;34m'created_at'\u001b[0m\u001b[0;34m,\u001b[0m \u001b[0;34m'creator'\u001b[0m\u001b[0;34m,\u001b[0m \u001b[0;34m'currency'\u001b[0m\u001b[0;34m,\u001b[0m \u001b[0;34m'currency_symbol'\u001b[0m\u001b[0;34m,\u001b[0m\u001b[0;34m\u001b[0m\u001b[0;34m\u001b[0m\u001b[0m\n\u001b[1;32m      3\u001b[0m        \u001b[0;34m'currency_trailing_code'\u001b[0m\u001b[0;34m,\u001b[0m \u001b[0;34m'current_currency'\u001b[0m\u001b[0;34m,\u001b[0m \u001b[0;34m'deadline'\u001b[0m\u001b[0;34m,\u001b[0m\u001b[0;34m\u001b[0m\u001b[0;34m\u001b[0m\u001b[0m\n\u001b[1;32m      4\u001b[0m        \u001b[0;34m'disable_communication'\u001b[0m\u001b[0;34m,\u001b[0m \u001b[0;34m'friends'\u001b[0m\u001b[0;34m,\u001b[0m \u001b[0;34m'fx_rate'\u001b[0m\u001b[0;34m,\u001b[0m \u001b[0;34m'id'\u001b[0m\u001b[0;34m,\u001b[0m\u001b[0;34m\u001b[0m\u001b[0;34m\u001b[0m\u001b[0m\n\u001b[1;32m      5\u001b[0m        \u001b[0;34m'is_backing'\u001b[0m\u001b[0;34m,\u001b[0m \u001b[0;34m'is_starrable'\u001b[0m\u001b[0;34m,\u001b[0m \u001b[0;34m'is_starred'\u001b[0m\u001b[0;34m,\u001b[0m \u001b[0;34m'launched_at'\u001b[0m\u001b[0;34m,\u001b[0m \u001b[0;34m'location'\u001b[0m\u001b[0;34m,\u001b[0m\u001b[0;34m\u001b[0m\u001b[0;34m\u001b[0m\u001b[0m\n",
      "\u001b[0;32m<ipython-input-76-2a23a3266e52>\u001b[0m in \u001b[0;36mdrop_columns\u001b[0;34m(df, list_columns)\u001b[0m\n\u001b[1;32m      1\u001b[0m \u001b[0;32mdef\u001b[0m \u001b[0mdrop_columns\u001b[0m\u001b[0;34m(\u001b[0m\u001b[0mdf\u001b[0m\u001b[0;34m,\u001b[0m \u001b[0mlist_columns\u001b[0m\u001b[0;34m)\u001b[0m\u001b[0;34m:\u001b[0m\u001b[0;34m\u001b[0m\u001b[0;34m\u001b[0m\u001b[0m\n\u001b[1;32m      2\u001b[0m     \u001b[0;34m'''Drops columns in the list and returns updated datadrame'''\u001b[0m\u001b[0;34m\u001b[0m\u001b[0;34m\u001b[0m\u001b[0m\n\u001b[0;32m----> 3\u001b[0;31m     \u001b[0mdf\u001b[0m\u001b[0;34m.\u001b[0m\u001b[0mdrop\u001b[0m\u001b[0;34m(\u001b[0m\u001b[0mlist_columns\u001b[0m\u001b[0;34m,\u001b[0m \u001b[0maxis\u001b[0m\u001b[0;34m=\u001b[0m\u001b[0;36m1\u001b[0m\u001b[0;34m,\u001b[0m \u001b[0minplace\u001b[0m\u001b[0;34m=\u001b[0m\u001b[0;32mTrue\u001b[0m\u001b[0;34m)\u001b[0m\u001b[0;34m\u001b[0m\u001b[0;34m\u001b[0m\u001b[0m\n\u001b[0m\u001b[1;32m      4\u001b[0m     \u001b[0;32mreturn\u001b[0m \u001b[0mdf\u001b[0m\u001b[0;34m\u001b[0m\u001b[0;34m\u001b[0m\u001b[0m\n",
      "\u001b[0;32m/opt/anaconda3/envs/kickstarter/lib/python3.8/site-packages/pandas/core/frame.py\u001b[0m in \u001b[0;36mdrop\u001b[0;34m(self, labels, axis, index, columns, level, inplace, errors)\u001b[0m\n\u001b[1;32m   4161\u001b[0m                 \u001b[0mweight\u001b[0m  \u001b[0;36m1.0\u001b[0m     \u001b[0;36m0.8\u001b[0m\u001b[0;34m\u001b[0m\u001b[0;34m\u001b[0m\u001b[0m\n\u001b[1;32m   4162\u001b[0m         \"\"\"\n\u001b[0;32m-> 4163\u001b[0;31m         return super().drop(\n\u001b[0m\u001b[1;32m   4164\u001b[0m             \u001b[0mlabels\u001b[0m\u001b[0;34m=\u001b[0m\u001b[0mlabels\u001b[0m\u001b[0;34m,\u001b[0m\u001b[0;34m\u001b[0m\u001b[0;34m\u001b[0m\u001b[0m\n\u001b[1;32m   4165\u001b[0m             \u001b[0maxis\u001b[0m\u001b[0;34m=\u001b[0m\u001b[0maxis\u001b[0m\u001b[0;34m,\u001b[0m\u001b[0;34m\u001b[0m\u001b[0;34m\u001b[0m\u001b[0m\n",
      "\u001b[0;32m/opt/anaconda3/envs/kickstarter/lib/python3.8/site-packages/pandas/core/generic.py\u001b[0m in \u001b[0;36mdrop\u001b[0;34m(self, labels, axis, index, columns, level, inplace, errors)\u001b[0m\n\u001b[1;32m   3885\u001b[0m         \u001b[0;32mfor\u001b[0m \u001b[0maxis\u001b[0m\u001b[0;34m,\u001b[0m \u001b[0mlabels\u001b[0m \u001b[0;32min\u001b[0m \u001b[0maxes\u001b[0m\u001b[0;34m.\u001b[0m\u001b[0mitems\u001b[0m\u001b[0;34m(\u001b[0m\u001b[0;34m)\u001b[0m\u001b[0;34m:\u001b[0m\u001b[0;34m\u001b[0m\u001b[0;34m\u001b[0m\u001b[0m\n\u001b[1;32m   3886\u001b[0m             \u001b[0;32mif\u001b[0m \u001b[0mlabels\u001b[0m \u001b[0;32mis\u001b[0m \u001b[0;32mnot\u001b[0m \u001b[0;32mNone\u001b[0m\u001b[0;34m:\u001b[0m\u001b[0;34m\u001b[0m\u001b[0;34m\u001b[0m\u001b[0m\n\u001b[0;32m-> 3887\u001b[0;31m                 \u001b[0mobj\u001b[0m \u001b[0;34m=\u001b[0m \u001b[0mobj\u001b[0m\u001b[0;34m.\u001b[0m\u001b[0m_drop_axis\u001b[0m\u001b[0;34m(\u001b[0m\u001b[0mlabels\u001b[0m\u001b[0;34m,\u001b[0m \u001b[0maxis\u001b[0m\u001b[0;34m,\u001b[0m \u001b[0mlevel\u001b[0m\u001b[0;34m=\u001b[0m\u001b[0mlevel\u001b[0m\u001b[0;34m,\u001b[0m \u001b[0merrors\u001b[0m\u001b[0;34m=\u001b[0m\u001b[0merrors\u001b[0m\u001b[0;34m)\u001b[0m\u001b[0;34m\u001b[0m\u001b[0;34m\u001b[0m\u001b[0m\n\u001b[0m\u001b[1;32m   3888\u001b[0m \u001b[0;34m\u001b[0m\u001b[0m\n\u001b[1;32m   3889\u001b[0m         \u001b[0;32mif\u001b[0m \u001b[0minplace\u001b[0m\u001b[0;34m:\u001b[0m\u001b[0;34m\u001b[0m\u001b[0;34m\u001b[0m\u001b[0m\n",
      "\u001b[0;32m/opt/anaconda3/envs/kickstarter/lib/python3.8/site-packages/pandas/core/generic.py\u001b[0m in \u001b[0;36m_drop_axis\u001b[0;34m(self, labels, axis, level, errors)\u001b[0m\n\u001b[1;32m   3919\u001b[0m                 \u001b[0mnew_axis\u001b[0m \u001b[0;34m=\u001b[0m \u001b[0maxis\u001b[0m\u001b[0;34m.\u001b[0m\u001b[0mdrop\u001b[0m\u001b[0;34m(\u001b[0m\u001b[0mlabels\u001b[0m\u001b[0;34m,\u001b[0m \u001b[0mlevel\u001b[0m\u001b[0;34m=\u001b[0m\u001b[0mlevel\u001b[0m\u001b[0;34m,\u001b[0m \u001b[0merrors\u001b[0m\u001b[0;34m=\u001b[0m\u001b[0merrors\u001b[0m\u001b[0;34m)\u001b[0m\u001b[0;34m\u001b[0m\u001b[0;34m\u001b[0m\u001b[0m\n\u001b[1;32m   3920\u001b[0m             \u001b[0;32melse\u001b[0m\u001b[0;34m:\u001b[0m\u001b[0;34m\u001b[0m\u001b[0;34m\u001b[0m\u001b[0m\n\u001b[0;32m-> 3921\u001b[0;31m                 \u001b[0mnew_axis\u001b[0m \u001b[0;34m=\u001b[0m \u001b[0maxis\u001b[0m\u001b[0;34m.\u001b[0m\u001b[0mdrop\u001b[0m\u001b[0;34m(\u001b[0m\u001b[0mlabels\u001b[0m\u001b[0;34m,\u001b[0m \u001b[0merrors\u001b[0m\u001b[0;34m=\u001b[0m\u001b[0merrors\u001b[0m\u001b[0;34m)\u001b[0m\u001b[0;34m\u001b[0m\u001b[0;34m\u001b[0m\u001b[0m\n\u001b[0m\u001b[1;32m   3922\u001b[0m             \u001b[0mresult\u001b[0m \u001b[0;34m=\u001b[0m \u001b[0mself\u001b[0m\u001b[0;34m.\u001b[0m\u001b[0mreindex\u001b[0m\u001b[0;34m(\u001b[0m\u001b[0;34m**\u001b[0m\u001b[0;34m{\u001b[0m\u001b[0maxis_name\u001b[0m\u001b[0;34m:\u001b[0m \u001b[0mnew_axis\u001b[0m\u001b[0;34m}\u001b[0m\u001b[0;34m)\u001b[0m\u001b[0;34m\u001b[0m\u001b[0;34m\u001b[0m\u001b[0m\n\u001b[1;32m   3923\u001b[0m \u001b[0;34m\u001b[0m\u001b[0m\n",
      "\u001b[0;32m/opt/anaconda3/envs/kickstarter/lib/python3.8/site-packages/pandas/core/indexes/base.py\u001b[0m in \u001b[0;36mdrop\u001b[0;34m(self, labels, errors)\u001b[0m\n\u001b[1;32m   5280\u001b[0m         \u001b[0;32mif\u001b[0m \u001b[0mmask\u001b[0m\u001b[0;34m.\u001b[0m\u001b[0many\u001b[0m\u001b[0;34m(\u001b[0m\u001b[0;34m)\u001b[0m\u001b[0;34m:\u001b[0m\u001b[0;34m\u001b[0m\u001b[0;34m\u001b[0m\u001b[0m\n\u001b[1;32m   5281\u001b[0m             \u001b[0;32mif\u001b[0m \u001b[0merrors\u001b[0m \u001b[0;34m!=\u001b[0m \u001b[0;34m\"ignore\"\u001b[0m\u001b[0;34m:\u001b[0m\u001b[0;34m\u001b[0m\u001b[0;34m\u001b[0m\u001b[0m\n\u001b[0;32m-> 5282\u001b[0;31m                 \u001b[0;32mraise\u001b[0m \u001b[0mKeyError\u001b[0m\u001b[0;34m(\u001b[0m\u001b[0;34mf\"{labels[mask]} not found in axis\"\u001b[0m\u001b[0;34m)\u001b[0m\u001b[0;34m\u001b[0m\u001b[0;34m\u001b[0m\u001b[0m\n\u001b[0m\u001b[1;32m   5283\u001b[0m             \u001b[0mindexer\u001b[0m \u001b[0;34m=\u001b[0m \u001b[0mindexer\u001b[0m\u001b[0;34m[\u001b[0m\u001b[0;34m~\u001b[0m\u001b[0mmask\u001b[0m\u001b[0;34m]\u001b[0m\u001b[0;34m\u001b[0m\u001b[0;34m\u001b[0m\u001b[0m\n\u001b[1;32m   5284\u001b[0m         \u001b[0;32mreturn\u001b[0m \u001b[0mself\u001b[0m\u001b[0;34m.\u001b[0m\u001b[0mdelete\u001b[0m\u001b[0;34m(\u001b[0m\u001b[0mindexer\u001b[0m\u001b[0;34m)\u001b[0m\u001b[0;34m\u001b[0m\u001b[0;34m\u001b[0m\u001b[0m\n",
      "\u001b[0;31mKeyError\u001b[0m: \"['backers_count' 'blurb' 'category' 'converted_pledged_amount' 'country'\\n 'created_at' 'creator' 'currency' 'currency_symbol'\\n 'currency_trailing_code' 'current_currency' 'deadline'\\n 'disable_communication' 'friends' 'fx_rate' 'id' 'is_backing'\\n 'is_starrable' 'is_starred' 'launched_at' 'location' 'name' 'permissions'\\n 'photo' 'pledged' 'profile' 'slug' 'source_url' 'spotlight'\\n 'state_changed_at' 'static_usd_rate' 'urls' 'usd_type'\\n 'category_parent_id' 'category_id' 'category_name' 'filled_parent'] not found in axis\""
     ]
    }
   ],
   "source": [
    "df = drop_columns(df, ['backers_count', 'blurb', 'category', 'converted_pledged_amount',\n",
    "       'country', 'created_at', 'creator', 'currency', 'currency_symbol',\n",
    "       'currency_trailing_code', 'current_currency', 'deadline',\n",
    "       'disable_communication', 'friends', 'fx_rate', 'id',\n",
    "       'is_backing', 'is_starrable', 'is_starred', 'launched_at', 'location',\n",
    "       'name', 'permissions', 'photo', 'pledged', 'profile', 'slug',\n",
    "       'source_url', 'spotlight', 'state_changed_at',\n",
    "       'static_usd_rate', 'urls', 'usd_type', 'category_parent_id', 'category_id', 'category_name',\n",
    "       'filled_parent', 'staff_pick'])"
   ]
  },
  {
   "cell_type": "code",
   "execution_count": 79,
   "metadata": {},
   "outputs": [
    {
     "name": "stdout",
     "output_type": "stream",
     "text": [
      "<class 'pandas.core.frame.DataFrame'>\n",
      "Int64Index: 168976 entries, 1 to 209221\n",
      "Data columns (total 10 columns):\n",
      " #   Column              Non-Null Count   Dtype  \n",
      "---  ------              --------------   -----  \n",
      " 0   goal                168976 non-null  float64\n",
      " 1   staff_pick          168976 non-null  bool   \n",
      " 2   usd_pledged         168976 non-null  float64\n",
      " 3   blurb_len_w         168976 non-null  int64  \n",
      " 4   slug_len_w          168976 non-null  int64  \n",
      " 5   parent_name         168976 non-null  object \n",
      " 6   launched_month      168976 non-null  int64  \n",
      " 7   duration_days       168976 non-null  int64  \n",
      " 8   preparation         168976 non-null  int64  \n",
      " 9   pledged_per_backer  154156 non-null  float64\n",
      "dtypes: bool(1), float64(3), int64(5), object(1)\n",
      "memory usage: 18.1+ MB\n"
     ]
    }
   ],
   "source": [
    "df.info()"
   ]
  },
  {
   "cell_type": "markdown",
   "metadata": {},
   "source": [
    "## Concersion Data Type"
   ]
  },
  {
   "cell_type": "code",
   "execution_count": 80,
   "metadata": {},
   "outputs": [],
   "source": [
    "def convert_to_int(df, column_name):\n",
    "    '''Converting Column type to Integer and returns updated df'''\n",
    "    df[column_name] = df[column_name].astype(\"int\")\n",
    "    return df"
   ]
  },
  {
   "cell_type": "code",
   "execution_count": 83,
   "metadata": {},
   "outputs": [
    {
     "name": "stdout",
     "output_type": "stream",
     "text": [
      "<class 'pandas.core.frame.DataFrame'>\n",
      "Int64Index: 168976 entries, 1 to 209221\n",
      "Data columns (total 10 columns):\n",
      " #   Column              Non-Null Count   Dtype  \n",
      "---  ------              --------------   -----  \n",
      " 0   goal                168976 non-null  float64\n",
      " 1   staff_pick          168976 non-null  int64  \n",
      " 2   usd_pledged         168976 non-null  float64\n",
      " 3   blurb_len_w         168976 non-null  int64  \n",
      " 4   slug_len_w          168976 non-null  int64  \n",
      " 5   parent_name         168976 non-null  object \n",
      " 6   launched_month      168976 non-null  int64  \n",
      " 7   duration_days       168976 non-null  int64  \n",
      " 8   preparation         168976 non-null  int64  \n",
      " 9   pledged_per_backer  154156 non-null  float64\n",
      "dtypes: float64(3), int64(6), object(1)\n",
      "memory usage: 19.2+ MB\n"
     ]
    }
   ],
   "source": [
    "df.info()"
   ]
  },
  {
   "cell_type": "code",
   "execution_count": 84,
   "metadata": {},
   "outputs": [
    {
     "data": {
      "text/html": [
       "<div>\n",
       "<style scoped>\n",
       "    .dataframe tbody tr th:only-of-type {\n",
       "        vertical-align: middle;\n",
       "    }\n",
       "\n",
       "    .dataframe tbody tr th {\n",
       "        vertical-align: top;\n",
       "    }\n",
       "\n",
       "    .dataframe thead th {\n",
       "        text-align: right;\n",
       "    }\n",
       "</style>\n",
       "<table border=\"1\" class=\"dataframe\">\n",
       "  <thead>\n",
       "    <tr style=\"text-align: right;\">\n",
       "      <th></th>\n",
       "      <th>goal</th>\n",
       "      <th>staff_pick</th>\n",
       "      <th>usd_pledged</th>\n",
       "      <th>blurb_len_w</th>\n",
       "      <th>slug_len_w</th>\n",
       "      <th>parent_name</th>\n",
       "      <th>launched_month</th>\n",
       "      <th>duration_days</th>\n",
       "      <th>preparation</th>\n",
       "      <th>pledged_per_backer</th>\n",
       "    </tr>\n",
       "  </thead>\n",
       "  <tbody>\n",
       "    <tr>\n",
       "      <th>1</th>\n",
       "      <td>1000.00</td>\n",
       "      <td>0</td>\n",
       "      <td>1950.000000</td>\n",
       "      <td>22</td>\n",
       "      <td>4</td>\n",
       "      <td>Games</td>\n",
       "      <td>8</td>\n",
       "      <td>30</td>\n",
       "      <td>8</td>\n",
       "      <td>41.49</td>\n",
       "    </tr>\n",
       "    <tr>\n",
       "      <th>2</th>\n",
       "      <td>15000.00</td>\n",
       "      <td>0</td>\n",
       "      <td>22404.000000</td>\n",
       "      <td>15</td>\n",
       "      <td>7</td>\n",
       "      <td>Music</td>\n",
       "      <td>5</td>\n",
       "      <td>30</td>\n",
       "      <td>224</td>\n",
       "      <td>82.67</td>\n",
       "    </tr>\n",
       "    <tr>\n",
       "      <th>3</th>\n",
       "      <td>12160.66</td>\n",
       "      <td>0</td>\n",
       "      <td>165.384934</td>\n",
       "      <td>23</td>\n",
       "      <td>7</td>\n",
       "      <td>Games</td>\n",
       "      <td>1</td>\n",
       "      <td>59</td>\n",
       "      <td>5</td>\n",
       "      <td>55.13</td>\n",
       "    </tr>\n",
       "    <tr>\n",
       "      <th>4</th>\n",
       "      <td>2800.00</td>\n",
       "      <td>0</td>\n",
       "      <td>2820.000000</td>\n",
       "      <td>24</td>\n",
       "      <td>7</td>\n",
       "      <td>Publishing</td>\n",
       "      <td>12</td>\n",
       "      <td>30</td>\n",
       "      <td>4</td>\n",
       "      <td>940.00</td>\n",
       "    </tr>\n",
       "    <tr>\n",
       "      <th>5</th>\n",
       "      <td>3500.00</td>\n",
       "      <td>0</td>\n",
       "      <td>3725.000000</td>\n",
       "      <td>18</td>\n",
       "      <td>4</td>\n",
       "      <td>Music</td>\n",
       "      <td>4</td>\n",
       "      <td>30</td>\n",
       "      <td>159</td>\n",
       "      <td>106.43</td>\n",
       "    </tr>\n",
       "  </tbody>\n",
       "</table>\n",
       "</div>"
      ],
      "text/plain": [
       "       goal  staff_pick   usd_pledged  blurb_len_w  slug_len_w parent_name  \\\n",
       "1   1000.00           0   1950.000000           22           4       Games   \n",
       "2  15000.00           0  22404.000000           15           7       Music   \n",
       "3  12160.66           0    165.384934           23           7       Games   \n",
       "4   2800.00           0   2820.000000           24           7  Publishing   \n",
       "5   3500.00           0   3725.000000           18           4       Music   \n",
       "\n",
       "   launched_month  duration_days  preparation  pledged_per_backer  \n",
       "1               8             30            8               41.49  \n",
       "2               5             30          224               82.67  \n",
       "3               1             59            5               55.13  \n",
       "4              12             30            4              940.00  \n",
       "5               4             30          159              106.43  "
      ]
     },
     "execution_count": 84,
     "metadata": {},
     "output_type": "execute_result"
    }
   ],
   "source": [
    "df.head()"
   ]
  },
  {
   "cell_type": "markdown",
   "metadata": {},
   "source": [
    "## Drop Rows and only keep relevant categories"
   ]
  },
  {
   "cell_type": "code",
   "execution_count": 87,
   "metadata": {},
   "outputs": [],
   "source": [
    "categories = [\"Games\", \"Art\", \"Photography\", \"Film & Video\", \"Design\", \"Technology\"]\n",
    "df = df[df.parent_name.isin(categories)]"
   ]
  },
  {
   "cell_type": "markdown",
   "metadata": {},
   "source": [
    "## get Dummies"
   ]
  },
  {
   "cell_type": "code",
   "execution_count": 88,
   "metadata": {},
   "outputs": [],
   "source": [
    "# convert the categorical variable parent_name into dummy/indicator variables\n",
    "df_dum2 = pd.get_dummies(df.parent_name, prefix='parent_name')\n",
    "df = df.drop(['parent_name'], axis=1)\n",
    "df = pd.concat([df, df_dum2], axis=1)"
   ]
  },
  {
   "cell_type": "code",
   "execution_count": 89,
   "metadata": {},
   "outputs": [],
   "source": [
    "# making a categorical variable for launched_month q1, q2, q3, q4 \n",
    "df.loc[df['launched_month'] <  4, 'time_yr'] = 'q1'\n",
    "df.loc[(df['launched_month'] >=  4) & (df['launched_month'] <  7), 'time_yr'] = 'q2'\n",
    "df.loc[(df['launched_month'] >=  7) & (df['launched_month'] <  10), 'time_yr'] = 'q3'\n",
    "df.loc[df['launched_month'] >  9, 'time_yr'] = 'q4'"
   ]
  },
  {
   "cell_type": "code",
   "execution_count": 90,
   "metadata": {},
   "outputs": [],
   "source": [
    "df_dum3 = pd.get_dummies(df.time_yr, prefix='time_yr')\n",
    "df = df.drop(['time_yr'], axis=1)\n",
    "df = df.drop(['launched_month'], axis=1)\n",
    "df = pd.concat([df, df_dum3], axis=1)"
   ]
  },
  {
   "cell_type": "code",
   "execution_count": 91,
   "metadata": {},
   "outputs": [
    {
     "data": {
      "text/html": [
       "<div>\n",
       "<style scoped>\n",
       "    .dataframe tbody tr th:only-of-type {\n",
       "        vertical-align: middle;\n",
       "    }\n",
       "\n",
       "    .dataframe tbody tr th {\n",
       "        vertical-align: top;\n",
       "    }\n",
       "\n",
       "    .dataframe thead th {\n",
       "        text-align: right;\n",
       "    }\n",
       "</style>\n",
       "<table border=\"1\" class=\"dataframe\">\n",
       "  <thead>\n",
       "    <tr style=\"text-align: right;\">\n",
       "      <th></th>\n",
       "      <th>goal</th>\n",
       "      <th>staff_pick</th>\n",
       "      <th>usd_pledged</th>\n",
       "      <th>blurb_len_w</th>\n",
       "      <th>slug_len_w</th>\n",
       "      <th>duration_days</th>\n",
       "      <th>preparation</th>\n",
       "      <th>pledged_per_backer</th>\n",
       "      <th>parent_name_Art</th>\n",
       "      <th>parent_name_Design</th>\n",
       "      <th>parent_name_Film &amp; Video</th>\n",
       "      <th>parent_name_Games</th>\n",
       "      <th>parent_name_Photography</th>\n",
       "      <th>parent_name_Technology</th>\n",
       "      <th>time_yr_q1</th>\n",
       "      <th>time_yr_q2</th>\n",
       "      <th>time_yr_q3</th>\n",
       "      <th>time_yr_q4</th>\n",
       "    </tr>\n",
       "  </thead>\n",
       "  <tbody>\n",
       "    <tr>\n",
       "      <th>1</th>\n",
       "      <td>1000.00</td>\n",
       "      <td>0</td>\n",
       "      <td>1950.000000</td>\n",
       "      <td>22</td>\n",
       "      <td>4</td>\n",
       "      <td>30</td>\n",
       "      <td>8</td>\n",
       "      <td>41.49</td>\n",
       "      <td>0</td>\n",
       "      <td>0</td>\n",
       "      <td>0</td>\n",
       "      <td>1</td>\n",
       "      <td>0</td>\n",
       "      <td>0</td>\n",
       "      <td>0</td>\n",
       "      <td>0</td>\n",
       "      <td>1</td>\n",
       "      <td>0</td>\n",
       "    </tr>\n",
       "    <tr>\n",
       "      <th>3</th>\n",
       "      <td>12160.66</td>\n",
       "      <td>0</td>\n",
       "      <td>165.384934</td>\n",
       "      <td>23</td>\n",
       "      <td>7</td>\n",
       "      <td>59</td>\n",
       "      <td>5</td>\n",
       "      <td>55.13</td>\n",
       "      <td>0</td>\n",
       "      <td>0</td>\n",
       "      <td>0</td>\n",
       "      <td>1</td>\n",
       "      <td>0</td>\n",
       "      <td>0</td>\n",
       "      <td>1</td>\n",
       "      <td>0</td>\n",
       "      <td>0</td>\n",
       "      <td>0</td>\n",
       "    </tr>\n",
       "    <tr>\n",
       "      <th>24</th>\n",
       "      <td>54737.83</td>\n",
       "      <td>0</td>\n",
       "      <td>5.473783</td>\n",
       "      <td>3</td>\n",
       "      <td>2</td>\n",
       "      <td>20</td>\n",
       "      <td>3</td>\n",
       "      <td>5.47</td>\n",
       "      <td>1</td>\n",
       "      <td>0</td>\n",
       "      <td>0</td>\n",
       "      <td>0</td>\n",
       "      <td>0</td>\n",
       "      <td>0</td>\n",
       "      <td>0</td>\n",
       "      <td>0</td>\n",
       "      <td>1</td>\n",
       "      <td>0</td>\n",
       "    </tr>\n",
       "    <tr>\n",
       "      <th>25</th>\n",
       "      <td>2602.33</td>\n",
       "      <td>0</td>\n",
       "      <td>2861.258251</td>\n",
       "      <td>19</td>\n",
       "      <td>3</td>\n",
       "      <td>21</td>\n",
       "      <td>2</td>\n",
       "      <td>38.67</td>\n",
       "      <td>0</td>\n",
       "      <td>0</td>\n",
       "      <td>0</td>\n",
       "      <td>0</td>\n",
       "      <td>1</td>\n",
       "      <td>0</td>\n",
       "      <td>0</td>\n",
       "      <td>0</td>\n",
       "      <td>0</td>\n",
       "      <td>1</td>\n",
       "    </tr>\n",
       "    <tr>\n",
       "      <th>30</th>\n",
       "      <td>5000.00</td>\n",
       "      <td>0</td>\n",
       "      <td>5466.000000</td>\n",
       "      <td>25</td>\n",
       "      <td>7</td>\n",
       "      <td>29</td>\n",
       "      <td>0</td>\n",
       "      <td>84.09</td>\n",
       "      <td>1</td>\n",
       "      <td>0</td>\n",
       "      <td>0</td>\n",
       "      <td>0</td>\n",
       "      <td>0</td>\n",
       "      <td>0</td>\n",
       "      <td>1</td>\n",
       "      <td>0</td>\n",
       "      <td>0</td>\n",
       "      <td>0</td>\n",
       "    </tr>\n",
       "  </tbody>\n",
       "</table>\n",
       "</div>"
      ],
      "text/plain": [
       "        goal  staff_pick  usd_pledged  blurb_len_w  slug_len_w  duration_days  \\\n",
       "1    1000.00           0  1950.000000           22           4             30   \n",
       "3   12160.66           0   165.384934           23           7             59   \n",
       "24  54737.83           0     5.473783            3           2             20   \n",
       "25   2602.33           0  2861.258251           19           3             21   \n",
       "30   5000.00           0  5466.000000           25           7             29   \n",
       "\n",
       "    preparation  pledged_per_backer  parent_name_Art  parent_name_Design  \\\n",
       "1             8               41.49                0                   0   \n",
       "3             5               55.13                0                   0   \n",
       "24            3                5.47                1                   0   \n",
       "25            2               38.67                0                   0   \n",
       "30            0               84.09                1                   0   \n",
       "\n",
       "    parent_name_Film & Video  parent_name_Games  parent_name_Photography  \\\n",
       "1                          0                  1                        0   \n",
       "3                          0                  1                        0   \n",
       "24                         0                  0                        0   \n",
       "25                         0                  0                        1   \n",
       "30                         0                  0                        0   \n",
       "\n",
       "    parent_name_Technology  time_yr_q1  time_yr_q2  time_yr_q3  time_yr_q4  \n",
       "1                        0           0           0           1           0  \n",
       "3                        0           1           0           0           0  \n",
       "24                       0           0           0           1           0  \n",
       "25                       0           0           0           0           1  \n",
       "30                       0           1           0           0           0  "
      ]
     },
     "execution_count": 91,
     "metadata": {},
     "output_type": "execute_result"
    }
   ],
   "source": [
    "df.head()"
   ]
  },
  {
   "cell_type": "code",
   "execution_count": 92,
   "metadata": {},
   "outputs": [],
   "source": [
    "df = drop_columns(df, ['usd_pledged'])"
   ]
  },
  {
   "cell_type": "code",
   "execution_count": 93,
   "metadata": {},
   "outputs": [
    {
     "data": {
      "text/html": [
       "<div>\n",
       "<style scoped>\n",
       "    .dataframe tbody tr th:only-of-type {\n",
       "        vertical-align: middle;\n",
       "    }\n",
       "\n",
       "    .dataframe tbody tr th {\n",
       "        vertical-align: top;\n",
       "    }\n",
       "\n",
       "    .dataframe thead th {\n",
       "        text-align: right;\n",
       "    }\n",
       "</style>\n",
       "<table border=\"1\" class=\"dataframe\">\n",
       "  <thead>\n",
       "    <tr style=\"text-align: right;\">\n",
       "      <th></th>\n",
       "      <th>goal</th>\n",
       "      <th>staff_pick</th>\n",
       "      <th>blurb_len_w</th>\n",
       "      <th>slug_len_w</th>\n",
       "      <th>duration_days</th>\n",
       "      <th>preparation</th>\n",
       "      <th>pledged_per_backer</th>\n",
       "      <th>parent_name_Art</th>\n",
       "      <th>parent_name_Design</th>\n",
       "      <th>parent_name_Film &amp; Video</th>\n",
       "      <th>parent_name_Games</th>\n",
       "      <th>parent_name_Photography</th>\n",
       "      <th>parent_name_Technology</th>\n",
       "      <th>time_yr_q1</th>\n",
       "      <th>time_yr_q2</th>\n",
       "      <th>time_yr_q3</th>\n",
       "      <th>time_yr_q4</th>\n",
       "    </tr>\n",
       "  </thead>\n",
       "  <tbody>\n",
       "    <tr>\n",
       "      <th>1</th>\n",
       "      <td>1000.00</td>\n",
       "      <td>0</td>\n",
       "      <td>22</td>\n",
       "      <td>4</td>\n",
       "      <td>30</td>\n",
       "      <td>8</td>\n",
       "      <td>41.49</td>\n",
       "      <td>0</td>\n",
       "      <td>0</td>\n",
       "      <td>0</td>\n",
       "      <td>1</td>\n",
       "      <td>0</td>\n",
       "      <td>0</td>\n",
       "      <td>0</td>\n",
       "      <td>0</td>\n",
       "      <td>1</td>\n",
       "      <td>0</td>\n",
       "    </tr>\n",
       "    <tr>\n",
       "      <th>3</th>\n",
       "      <td>12160.66</td>\n",
       "      <td>0</td>\n",
       "      <td>23</td>\n",
       "      <td>7</td>\n",
       "      <td>59</td>\n",
       "      <td>5</td>\n",
       "      <td>55.13</td>\n",
       "      <td>0</td>\n",
       "      <td>0</td>\n",
       "      <td>0</td>\n",
       "      <td>1</td>\n",
       "      <td>0</td>\n",
       "      <td>0</td>\n",
       "      <td>1</td>\n",
       "      <td>0</td>\n",
       "      <td>0</td>\n",
       "      <td>0</td>\n",
       "    </tr>\n",
       "    <tr>\n",
       "      <th>24</th>\n",
       "      <td>54737.83</td>\n",
       "      <td>0</td>\n",
       "      <td>3</td>\n",
       "      <td>2</td>\n",
       "      <td>20</td>\n",
       "      <td>3</td>\n",
       "      <td>5.47</td>\n",
       "      <td>1</td>\n",
       "      <td>0</td>\n",
       "      <td>0</td>\n",
       "      <td>0</td>\n",
       "      <td>0</td>\n",
       "      <td>0</td>\n",
       "      <td>0</td>\n",
       "      <td>0</td>\n",
       "      <td>1</td>\n",
       "      <td>0</td>\n",
       "    </tr>\n",
       "    <tr>\n",
       "      <th>25</th>\n",
       "      <td>2602.33</td>\n",
       "      <td>0</td>\n",
       "      <td>19</td>\n",
       "      <td>3</td>\n",
       "      <td>21</td>\n",
       "      <td>2</td>\n",
       "      <td>38.67</td>\n",
       "      <td>0</td>\n",
       "      <td>0</td>\n",
       "      <td>0</td>\n",
       "      <td>0</td>\n",
       "      <td>1</td>\n",
       "      <td>0</td>\n",
       "      <td>0</td>\n",
       "      <td>0</td>\n",
       "      <td>0</td>\n",
       "      <td>1</td>\n",
       "    </tr>\n",
       "    <tr>\n",
       "      <th>30</th>\n",
       "      <td>5000.00</td>\n",
       "      <td>0</td>\n",
       "      <td>25</td>\n",
       "      <td>7</td>\n",
       "      <td>29</td>\n",
       "      <td>0</td>\n",
       "      <td>84.09</td>\n",
       "      <td>1</td>\n",
       "      <td>0</td>\n",
       "      <td>0</td>\n",
       "      <td>0</td>\n",
       "      <td>0</td>\n",
       "      <td>0</td>\n",
       "      <td>1</td>\n",
       "      <td>0</td>\n",
       "      <td>0</td>\n",
       "      <td>0</td>\n",
       "    </tr>\n",
       "  </tbody>\n",
       "</table>\n",
       "</div>"
      ],
      "text/plain": [
       "        goal  staff_pick  blurb_len_w  slug_len_w  duration_days  preparation  \\\n",
       "1    1000.00           0           22           4             30            8   \n",
       "3   12160.66           0           23           7             59            5   \n",
       "24  54737.83           0            3           2             20            3   \n",
       "25   2602.33           0           19           3             21            2   \n",
       "30   5000.00           0           25           7             29            0   \n",
       "\n",
       "    pledged_per_backer  parent_name_Art  parent_name_Design  \\\n",
       "1                41.49                0                   0   \n",
       "3                55.13                0                   0   \n",
       "24                5.47                1                   0   \n",
       "25               38.67                0                   0   \n",
       "30               84.09                1                   0   \n",
       "\n",
       "    parent_name_Film & Video  parent_name_Games  parent_name_Photography  \\\n",
       "1                          0                  1                        0   \n",
       "3                          0                  1                        0   \n",
       "24                         0                  0                        0   \n",
       "25                         0                  0                        1   \n",
       "30                         0                  0                        0   \n",
       "\n",
       "    parent_name_Technology  time_yr_q1  time_yr_q2  time_yr_q3  time_yr_q4  \n",
       "1                        0           0           0           1           0  \n",
       "3                        0           1           0           0           0  \n",
       "24                       0           0           0           1           0  \n",
       "25                       0           0           0           0           1  \n",
       "30                       0           1           0           0           0  "
      ]
     },
     "execution_count": 93,
     "metadata": {},
     "output_type": "execute_result"
    }
   ],
   "source": [
    "df.head()"
   ]
  },
  {
   "cell_type": "code",
   "execution_count": null,
   "metadata": {},
   "outputs": [],
   "source": []
  }
 ],
 "metadata": {
  "kernelspec": {
   "display_name": "Python 3",
   "language": "python",
   "name": "python3"
  },
  "language_info": {
   "codemirror_mode": {
    "name": "ipython",
    "version": 3
   },
   "file_extension": ".py",
   "mimetype": "text/x-python",
   "name": "python",
   "nbconvert_exporter": "python",
   "pygments_lexer": "ipython3",
   "version": "3.8.5"
  }
 },
 "nbformat": 4,
 "nbformat_minor": 4
}
