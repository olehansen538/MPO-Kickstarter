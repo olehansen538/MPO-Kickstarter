{
 "cells": [
  {
   "cell_type": "markdown",
   "metadata": {},
   "source": [
    "# Data cleaning\n",
    "\n",
    "In this notebook we will clean our Dataframe 'Kickstarter_merged.csv'. That means we will create new columns which we think are important as well as we will drop columns with unimportance.\n",
    "\n",
    "#### Overview new columns\n",
    "    * column 'blurbs' will be replaced with -> 'blurb_len_c', 'blurb_len_w'\n",
    "    * column 'slug' will be trplaced with -> 'slug_len_c'. 'slug_len_w', 'cat_in_slug'\n",
    "    * column 'category' will be replaced with -> 'category_parent_id', 'category_id', 'category_name'\n",
    "    * column 'created_at' will be replaced with -> 'created_year', 'created_month'\n",
    "    * column 'deadline' will be replaced with -> 'deadline_year', 'deadline_month'\n",
    "    * column 'goal' will be converted in USD\n",
    "    * column 'launched_at' will be replaced with -> 'launched_year', 'launched_month'\n",
    "    * new column duration of the crowdfunding\n",
    "    * new column preparation time (from created_at until launched_at\n",
    "    * column 'state_changed_at' will be replaced with -> 'state_changed_year', 'state_changed_month, 'state_changed_at_day' ???\n",
    "    * new column pledged/backer\n",
    "    * new column pledged/goal in %\n",
    "\n",
    "\n",
    "#### Overview dropped columns\n",
    "    * converted_pledged_amount\n",
    "    * creator\n",
    "    * currency \n",
    "    * currency_symbol\n",
    "    * currency_trailing_code\n",
    "    * current_curency\n",
    "    * disable_communication\n",
    "    * friends\n",
    "    * fx_rate\n",
    "    * id after using it for other transformations\n",
    "    * is_backing\n",
    "    * is_starrable\n",
    "    * is_starred\n",
    "    * location\n",
    "    * name \n",
    "    * permissions\n",
    "    * photo\n",
    "    * pledged\n",
    "    * profile \n",
    "    * source_url\n",
    "    * spotlight\n",
    "    * state_changed_at ??\n",
    "    * static_usd_rate \n",
    "    * urls\n",
    "    * usd_type\n",
    "    \n",
    "    \n",
    "#### Overview dropped rows\n",
    "    * 8 rows with missing values in column 'blurbs'\n",
    "    * drop the duplicates\n",
    "    * drop rows with values 'suspended' and 'live' in column 'state'"
   ]
  },
  {
   "cell_type": "code",
   "execution_count": 1,
   "metadata": {},
   "outputs": [],
   "source": [
    "# import packages\n",
    "import pandas as pd\n",
    "import numpy as np\n",
    "import seaborn as sns\n",
    "import time\n",
    "import datetime as dt\n",
    "import json"
   ]
  },
  {
   "cell_type": "markdown",
   "metadata": {},
   "source": [
    "Read in file."
   ]
  },
  {
   "cell_type": "code",
   "execution_count": 2,
   "metadata": {},
   "outputs": [],
   "source": [
    "df = pd.read_csv('data/Kickstarter_merged.csv', index_col=0)"
   ]
  },
  {
   "cell_type": "markdown",
   "metadata": {},
   "source": [
    "## Create new columns\n",
    "    \n",
    "Let´s start with creating new columns: We will replace the columns 'blurbs', 'slug', category', 'created_at', 'deadline', 'launched_at', 'state_changed_at'."
   ]
  },
  {
   "cell_type": "code",
   "execution_count": 3,
   "metadata": {},
   "outputs": [],
   "source": [
    "#function to return length of string (number of characters)\n",
    "def string_len_c(string):\n",
    "    string_str = str(string)\n",
    "    string_len = len(string_str)\n",
    "    return string_len"
   ]
  },
  {
   "cell_type": "code",
   "execution_count": 4,
   "metadata": {},
   "outputs": [],
   "source": [
    "#function to return length of string (number of words)\n",
    "def string_len_w(string):\n",
    "    string_str = str(string)\n",
    "    string_list = string_str.split()\n",
    "    string_len = len(string_list)\n",
    "    return string_len"
   ]
  },
  {
   "cell_type": "code",
   "execution_count": 5,
   "metadata": {},
   "outputs": [],
   "source": [
    "#function to return length of string (number of words, seperated by \"-\"\n",
    "def string_len_slug_w(string):\n",
    "    string_str = str(string)\n",
    "    string_list = string_str.split(\"-\")\n",
    "    string_len = len(string_list)\n",
    "    return string_len"
   ]
  },
  {
   "cell_type": "code",
   "execution_count": 6,
   "metadata": {},
   "outputs": [],
   "source": [
    "#function that checks if category or subcategory in slug\n",
    "def word_in_lists(string, list_cat, list_subcat):\n",
    "    string_str = str(string)\n",
    "    string_list = string_str.split(\"-\")\n",
    "    for word in string_list:\n",
    "        if word in list_cat:\n",
    "            return word\n",
    "        elif word in list_subcat:\n",
    "            return word\n",
    "        else:\n",
    "            return 0"
   ]
  },
  {
   "cell_type": "code",
   "execution_count": 7,
   "metadata": {},
   "outputs": [],
   "source": [
    "# replace column 'blurbs' and 'slug'\n",
    "df['blurb_len_c'] = df.apply(lambda x: string_len_c(x['blurb']), axis=1)\n",
    "df['blurb_len_w'] = df.apply(lambda x: string_len_w(x['blurb']), axis=1)\n",
    "\n",
    "df['slug_len_c'] = df.apply(lambda x: string_len_c(x['slug']), axis=1)\n",
    "df['slug_len_w'] = df.apply(lambda x: string_len_slug_w(x['slug']), axis=1)"
   ]
  },
  {
   "cell_type": "code",
   "execution_count": 8,
   "metadata": {},
   "outputs": [],
   "source": [
    "subcategories = ['Playing Cards', 'Rock', 'Nonfiction', 'Classical Music', 'Music',\n",
    "       'Restaurants', 'Small Batch', 'Footwear', 'Sculpture',\n",
    "       'Photography', 'Fashion', 'Mixed Media', 'Software',\n",
    "       'Performance Art', 'Theater', 'Graphic Design', 'Narrative Film',\n",
    "       'Television', 'Sound', 'Video Art', 'Printing', 'Anthologies',\n",
    "       'Art Books', 'Live Games', 'Performances', 'Technology',\n",
    "       'Civic Design', 'Literary Spaces', 'Taxidermy', 'Vegan', 'Gadgets',\n",
    "       'Spaces', 'Pet Fashion', 'Poetry', 'Jewelry', 'Puzzles',\n",
    "       'Camera Equipment', 'Installations', '3D Printing', 'Indie Rock',\n",
    "       'Events', 'Accessories', 'Shorts', 'Documentary', 'Web',\n",
    "       'Translations', 'Comics', 'Pottery', 'Tabletop Games', 'Art',\n",
    "       'Faith', 'Zines', 'Action', 'Public Art', 'Ceramics',\n",
    "       'Illustration', 'Hip-Hop', 'Cookbooks', 'Conceptual Art',\n",
    "       'Wearables', 'Food', 'Thrillers', 'Design', 'World Music',\n",
    "       'Movie Theaters', \"Children's Books\", 'Academic', 'Video Games',\n",
    "       'Childrenswear', 'Music Videos', 'Fantasy', 'Product Design',\n",
    "       'Latin', 'Romance', 'Stationery', 'Typography', 'Comedy',\n",
    "       'Apparel', 'Animation', 'Fine Art', 'Woodworking', 'Experimental',\n",
    "       'Digital Art', 'DIY', 'Crafts', 'Gaming Hardware', 'Glass',\n",
    "       'Painting', 'Architecture', 'Young Adult', 'R&B', 'People',\n",
    "       'Film & Video', 'Robots', 'Blues', 'Periodicals', 'Kids',\n",
    "       'Candles', 'Knitting', 'Workshops', 'Jazz', 'Pop', 'Dance',\n",
    "       'Fiction', 'Family', 'Flight', 'Country & Folk', 'Science Fiction',\n",
    "       'Interactive Design', 'Plays', 'Calendars', 'Print', 'Weaving',\n",
    "       'Comic Books', 'Webseries', 'Animals', 'Photobooks', 'Food Trucks',\n",
    "       'Apps', 'Drinks', 'Graphic Novels', 'Webcomics',\n",
    "       'Fabrication Tools', 'Textiles', 'Publishing', 'Ready-to-wear',\n",
    "       'Audio', 'Horror', 'Nature', 'Video', 'Makerspaces',\n",
    "       \"Farmer's Markets\", 'Punk', 'Literary Journals', 'Bacon',\n",
    "       'Community Gardens', 'Letterpress', 'Drama', 'Mobile Games',\n",
    "       'Hardware', 'Farms', 'Places', 'Space Exploration', 'Journalism',\n",
    "       'Musical', 'Festivals', 'Radio & Podcasts', 'Couture', 'Metal',\n",
    "       'Electronic Music', 'DIY Electronics', 'Games', 'Immersive',\n",
    "       'Residencies', 'Embroidery', 'Photo', 'Quilts', 'Crochet',\n",
    "       'Chiptune']"
   ]
  },
  {
   "cell_type": "code",
   "execution_count": 9,
   "metadata": {},
   "outputs": [],
   "source": [
    "# making lower case subcategories and split if more than one word\n",
    "subcategories_lower = []\n",
    "for cat in subcategories:\n",
    "    cat_split = cat.split()\n",
    "    for cat in cat_split:\n",
    "        subcategories_lower.append(cat.lower())"
   ]
  },
  {
   "cell_type": "code",
   "execution_count": 10,
   "metadata": {},
   "outputs": [],
   "source": [
    "categories = ['Games', 'Music', 'Publishing', 'Food', 'Fashion', 'Art',\n",
    "       'Photography', 'Technology', 'Theater', 'Design', 'Film & Video',\n",
    "       'Crafts', 'Comics', 'Dance', 'Journalism']"
   ]
  },
  {
   "cell_type": "code",
   "execution_count": 11,
   "metadata": {},
   "outputs": [],
   "source": [
    "# making lower case subcategories and split if more than one word\n",
    "categories_lower = []\n",
    "for cat in categories:\n",
    "    cat_split = cat.split(\" & \")\n",
    "    for cat in cat_split:\n",
    "        categories_lower.append(cat.lower())"
   ]
  },
  {
   "cell_type": "code",
   "execution_count": 12,
   "metadata": {},
   "outputs": [],
   "source": [
    "df['cat_in_slug'] = df.apply(lambda x: word_in_lists(x['slug'], categories_lower, subcategories_lower), axis=1)"
   ]
  },
  {
   "cell_type": "code",
   "execution_count": 13,
   "metadata": {},
   "outputs": [],
   "source": [
    "# new columns with information from 'category'\n",
    "df['category_parent_id'] = pd.DataFrame([json.loads(df[\"category\"][i]).get(\"parent_id\") for i in range(df.shape[0])])\n",
    "df['category_id'] = pd.DataFrame([json.loads(df[\"category\"][i]).get(\"id\") for i in range(df.shape[0])])\n",
    "df['category_name'] = pd.DataFrame([json.loads(df[\"category\"][i]).get(\"name\") for i in range(df.shape[0])])\n",
    "df['category_parent_id'] = df['category_parent_id'].fillna(0).astype(\"int\")"
   ]
  },
  {
   "cell_type": "code",
   "execution_count": 14,
   "metadata": {},
   "outputs": [],
   "source": [
    "#funtion to extract the year out of the number\n",
    "def extract_year(number):\n",
    "    gmtime = time.gmtime(number)\n",
    "    return gmtime[0]"
   ]
  },
  {
   "cell_type": "code",
   "execution_count": 15,
   "metadata": {},
   "outputs": [],
   "source": [
    "#funtion to extract the month out of the number\n",
    "def extract_month(number):\n",
    "    gmtime = time.gmtime(number)\n",
    "    return gmtime[1]"
   ]
  },
  {
   "cell_type": "code",
   "execution_count": 16,
   "metadata": {},
   "outputs": [],
   "source": [
    "#funtion to extract the month out of the number\n",
    "def extract_day(number):\n",
    "    gmtime = time.gmtime(number)\n",
    "    return gmtime[2]"
   ]
  },
  {
   "cell_type": "code",
   "execution_count": 17,
   "metadata": {},
   "outputs": [],
   "source": [
    "# replace column 'created_at'\n",
    "df[\"created_year\"] = df.apply(lambda x: extract_year(x[\"created_at\"]), axis=1)  \n",
    "df[\"created_month\"] = df.apply(lambda x: extract_month(x[\"created_at\"]), axis=1)"
   ]
  },
  {
   "cell_type": "code",
   "execution_count": 18,
   "metadata": {},
   "outputs": [],
   "source": [
    "# replace column 'deadline'\n",
    "df[\"deadline_year\"] = df.apply(lambda x: extract_year(x[\"deadline\"]), axis=1)  \n",
    "df[\"deadline_month\"] = df.apply(lambda x: extract_month(x[\"deadline\"]), axis=1)"
   ]
  },
  {
   "cell_type": "code",
   "execution_count": 19,
   "metadata": {},
   "outputs": [],
   "source": [
    "# replace column 'launched_at'\n",
    "df[\"launched_year\"] = df.apply(lambda x: extract_year(x[\"launched_at\"]), axis=1)  \n",
    "df[\"launched_month\"] = df.apply(lambda x: extract_month(x[\"launched_at\"]), axis=1)"
   ]
  },
  {
   "cell_type": "code",
   "execution_count": 20,
   "metadata": {},
   "outputs": [],
   "source": [
    "# function for calculating difference launched_at und deadline and converting to days\n",
    "def duration(deadline, launched_at):\n",
    "    duration = deadline - launched_at\n",
    "    duration_complete = dt.timedelta(seconds=duration)\n",
    "    return duration_complete.days"
   ]
  },
  {
   "cell_type": "code",
   "execution_count": 21,
   "metadata": {},
   "outputs": [],
   "source": [
    "# calculating duration column\n",
    "df[\"duration_days\"] = df.apply(lambda x: duration(x[\"deadline\"], x[\"launched_at\"]), axis=1)"
   ]
  },
  {
   "cell_type": "code",
   "execution_count": 22,
   "metadata": {},
   "outputs": [],
   "source": [
    "# created_at < launched at < deadline\n",
    "def preparation(created_at, launched_at):\n",
    "    duration = launched_at - created_at\n",
    "    duration_complete = dt.timedelta(seconds=duration) \n",
    "    return duration_complete.days"
   ]
  },
  {
   "cell_type": "code",
   "execution_count": 23,
   "metadata": {},
   "outputs": [],
   "source": [
    "# calculating preparation column\n",
    "df[\"preparation\"] = df.apply(lambda x: preparation(x[\"created_at\"], x[\"launched_at\"]), axis=1)"
   ]
  },
  {
   "cell_type": "code",
   "execution_count": 24,
   "metadata": {},
   "outputs": [],
   "source": [
    "# replace column 'state_changed_at'\n",
    "df[\"state_changed_year\"] = df.apply(lambda x: extract_year(x[\"state_changed_at\"]), axis=1)  \n",
    "df[\"state_changed_month\"] = df.apply(lambda x: extract_month(x[\"state_changed_at\"]), axis=1)\n",
    "df[\"state_changed_day\"] = df.apply(lambda x: extract_day(x[\"state_changed_at\"]), axis=1)"
   ]
  },
  {
   "cell_type": "code",
   "execution_count": 25,
   "metadata": {},
   "outputs": [],
   "source": [
    "# create new column pledge per backer\n",
    "df['pledged_per_backer'] = (df['pledged'] / df['backers_count']).round(2)"
   ]
  },
  {
   "cell_type": "code",
   "execution_count": 26,
   "metadata": {},
   "outputs": [],
   "source": [
    "# create new column pledged/goal in %\n",
    "df['rel_pledged_goal'] = ((df['pledged'] / df['goal']) * 100).round(2) "
   ]
  },
  {
   "cell_type": "markdown",
   "metadata": {},
   "source": [
    "The column 'goal' will also be converted into USD with the static_usd_rate to ensure the comparability."
   ]
  },
  {
   "cell_type": "code",
   "execution_count": 27,
   "metadata": {},
   "outputs": [],
   "source": [
    "# convert 'goal' in USD\n",
    "df['goal'] = (df['goal'] * df['static_usd_rate']).round(2)\n",
    "\n",
    "# round usd_pledged\n",
    "df['usd_pledged'] = df['usd_pledged'].round(2)"
   ]
  },
  {
   "cell_type": "markdown",
   "metadata": {},
   "source": [
    "## Drop rows\n",
    "\n",
    "So far we created new columns, we dropped unimportant columns. Now we can drop unimportant rows because they have missing values or they don´t support our business case."
   ]
  },
  {
   "cell_type": "code",
   "execution_count": 28,
   "metadata": {},
   "outputs": [],
   "source": [
    "# drop 8 rows with missing values in column 'blurbs'\n",
    "df.dropna(subset = ['blurb'], inplace=True)"
   ]
  },
  {
   "cell_type": "code",
   "execution_count": 29,
   "metadata": {},
   "outputs": [],
   "source": [
    "# drop the duplicates\n",
    "\n",
    "# creating dataframe with only the the last of all duplicates entry of the duplicates. \n",
    "df_duplicates = df[df.id.duplicated(keep='last')]\n",
    "\n",
    "# creating dataframe and dropping all duplicates and keep the last (\"newest\") duplicate \n",
    "df = df.drop_duplicates(subset=['id'], keep='last')"
   ]
  },
  {
   "cell_type": "code",
   "execution_count": 30,
   "metadata": {},
   "outputs": [],
   "source": [
    "# drop rows with values 'suspended' and 'live' in column 'state'\n",
    "df = df.drop(df[df['state'] == \"suspended\" ].index)\n",
    "df = df.drop(df[df['state'] == \"live\" ].index)"
   ]
  },
  {
   "cell_type": "markdown",
   "metadata": {},
   "source": [
    "## Drop columns\n",
    "\n",
    "Now we drop the columns we don´t need.\n",
    "At first we will drop friends, is_backing, is_starred and permissions because there are a lot of missing values."
   ]
  },
  {
   "cell_type": "code",
   "execution_count": 31,
   "metadata": {},
   "outputs": [],
   "source": [
    "# drop 'friends', 'is_backing', 'is_starred', 'permissions'\n",
    "df.drop(['friends', 'is_backing', 'is_starred', 'permissions'], axis=1, inplace=True)"
   ]
  },
  {
   "cell_type": "markdown",
   "metadata": {},
   "source": [
    "Let´s drop the currency related columns we don´t need because we will focus on the goal and pledge amount. "
   ]
  },
  {
   "cell_type": "code",
   "execution_count": 32,
   "metadata": {},
   "outputs": [],
   "source": [
    "# drop all currency related columns \n",
    "df.drop(['converted_pledged_amount', 'currency', 'currency_symbol', 'currency_trailing_code', 'current_currency', \n",
    "         'fx_rate', 'pledged', 'static_usd_rate', 'usd_type'], axis=1, inplace = True)"
   ]
  },
  {
   "cell_type": "markdown",
   "metadata": {},
   "source": [
    "We will also drop the columns which we modified/will be replaced or we needed for modifying other columns. "
   ]
  },
  {
   "cell_type": "code",
   "execution_count": 33,
   "metadata": {},
   "outputs": [],
   "source": [
    "df.drop(['blurb', 'category', 'created_at', 'deadline', 'launched_at', 'state_changed_at', 'id'], axis=1, inplace=True)"
   ]
  },
  {
   "cell_type": "markdown",
   "metadata": {},
   "source": [
    "At last we will drop the other columns which are not important for our analysis. "
   ]
  },
  {
   "cell_type": "code",
   "execution_count": 34,
   "metadata": {},
   "outputs": [],
   "source": [
    "df.drop(['creator', 'disable_communication', 'is_starrable', 'location', 'name', 'photo', 'profile', 'source_url',\n",
    "        'spotlight', 'urls'], axis=1, inplace=True)"
   ]
  },
  {
   "cell_type": "code",
   "execution_count": 35,
   "metadata": {},
   "outputs": [
    {
     "name": "stdout",
     "output_type": "stream",
     "text": [
      "<class 'pandas.core.frame.DataFrame'>\n",
      "Int64Index: 177594 entries, 1 to 209221\n",
      "Data columns (total 28 columns):\n",
      " #   Column               Non-Null Count   Dtype  \n",
      "---  ------               --------------   -----  \n",
      " 0   backers_count        177594 non-null  int64  \n",
      " 1   country              177594 non-null  object \n",
      " 2   goal                 177594 non-null  float64\n",
      " 3   slug                 177594 non-null  object \n",
      " 4   staff_pick           177594 non-null  bool   \n",
      " 5   state                177594 non-null  object \n",
      " 6   usd_pledged          177594 non-null  float64\n",
      " 7   blurb_len_c          177594 non-null  int64  \n",
      " 8   blurb_len_w          177594 non-null  int64  \n",
      " 9   slug_len_c           177594 non-null  int64  \n",
      " 10  slug_len_w           177594 non-null  int64  \n",
      " 11  cat_in_slug          177594 non-null  object \n",
      " 12  category_parent_id   177594 non-null  int64  \n",
      " 13  category_id          177594 non-null  int64  \n",
      " 14  category_name        177594 non-null  object \n",
      " 15  created_year         177594 non-null  int64  \n",
      " 16  created_month        177594 non-null  int64  \n",
      " 17  deadline_year        177594 non-null  int64  \n",
      " 18  deadline_month       177594 non-null  int64  \n",
      " 19  launched_year        177594 non-null  int64  \n",
      " 20  launched_month       177594 non-null  int64  \n",
      " 21  duration_days        177594 non-null  int64  \n",
      " 22  preparation          177594 non-null  int64  \n",
      " 23  state_changed_year   177594 non-null  int64  \n",
      " 24  state_changed_month  177594 non-null  int64  \n",
      " 25  state_changed_day    177594 non-null  int64  \n",
      " 26  pledged_per_backer   159681 non-null  float64\n",
      " 27  rel_pledged_goal     177594 non-null  float64\n",
      "dtypes: bool(1), float64(4), int64(18), object(5)\n",
      "memory usage: 38.1+ MB\n"
     ]
    }
   ],
   "source": [
    "df.info()"
   ]
  },
  {
   "cell_type": "code",
   "execution_count": 36,
   "metadata": {},
   "outputs": [
    {
     "data": {
      "text/html": [
       "<div>\n",
       "<style scoped>\n",
       "    .dataframe tbody tr th:only-of-type {\n",
       "        vertical-align: middle;\n",
       "    }\n",
       "\n",
       "    .dataframe tbody tr th {\n",
       "        vertical-align: top;\n",
       "    }\n",
       "\n",
       "    .dataframe thead th {\n",
       "        text-align: right;\n",
       "    }\n",
       "</style>\n",
       "<table border=\"1\" class=\"dataframe\">\n",
       "  <thead>\n",
       "    <tr style=\"text-align: right;\">\n",
       "      <th></th>\n",
       "      <th>backers_count</th>\n",
       "      <th>country</th>\n",
       "      <th>goal</th>\n",
       "      <th>slug</th>\n",
       "      <th>staff_pick</th>\n",
       "      <th>state</th>\n",
       "      <th>usd_pledged</th>\n",
       "      <th>blurb_len_c</th>\n",
       "      <th>blurb_len_w</th>\n",
       "      <th>slug_len_c</th>\n",
       "      <th>...</th>\n",
       "      <th>deadline_month</th>\n",
       "      <th>launched_year</th>\n",
       "      <th>launched_month</th>\n",
       "      <th>duration_days</th>\n",
       "      <th>preparation</th>\n",
       "      <th>state_changed_year</th>\n",
       "      <th>state_changed_month</th>\n",
       "      <th>state_changed_day</th>\n",
       "      <th>pledged_per_backer</th>\n",
       "      <th>rel_pledged_goal</th>\n",
       "    </tr>\n",
       "  </thead>\n",
       "  <tbody>\n",
       "    <tr>\n",
       "      <th>1</th>\n",
       "      <td>47</td>\n",
       "      <td>US</td>\n",
       "      <td>1000.00</td>\n",
       "      <td>the-ofrenda-oracle-deck</td>\n",
       "      <td>False</td>\n",
       "      <td>successful</td>\n",
       "      <td>1950.00</td>\n",
       "      <td>125</td>\n",
       "      <td>22</td>\n",
       "      <td>23</td>\n",
       "      <td>...</td>\n",
       "      <td>9</td>\n",
       "      <td>2017</td>\n",
       "      <td>8</td>\n",
       "      <td>30</td>\n",
       "      <td>8</td>\n",
       "      <td>2017</td>\n",
       "      <td>9</td>\n",
       "      <td>9</td>\n",
       "      <td>41.49</td>\n",
       "      <td>195.00</td>\n",
       "    </tr>\n",
       "    <tr>\n",
       "      <th>2</th>\n",
       "      <td>271</td>\n",
       "      <td>US</td>\n",
       "      <td>15000.00</td>\n",
       "      <td>record-electras-debut-album-pop-rock-classical</td>\n",
       "      <td>False</td>\n",
       "      <td>successful</td>\n",
       "      <td>22404.00</td>\n",
       "      <td>108</td>\n",
       "      <td>15</td>\n",
       "      <td>46</td>\n",
       "      <td>...</td>\n",
       "      <td>6</td>\n",
       "      <td>2013</td>\n",
       "      <td>5</td>\n",
       "      <td>30</td>\n",
       "      <td>224</td>\n",
       "      <td>2013</td>\n",
       "      <td>6</td>\n",
       "      <td>12</td>\n",
       "      <td>82.67</td>\n",
       "      <td>149.36</td>\n",
       "    </tr>\n",
       "    <tr>\n",
       "      <th>3</th>\n",
       "      <td>3</td>\n",
       "      <td>GB</td>\n",
       "      <td>12160.66</td>\n",
       "      <td>the-mist-of-tribunal-a-card-game</td>\n",
       "      <td>False</td>\n",
       "      <td>failed</td>\n",
       "      <td>165.38</td>\n",
       "      <td>133</td>\n",
       "      <td>23</td>\n",
       "      <td>32</td>\n",
       "      <td>...</td>\n",
       "      <td>3</td>\n",
       "      <td>2017</td>\n",
       "      <td>1</td>\n",
       "      <td>59</td>\n",
       "      <td>5</td>\n",
       "      <td>2017</td>\n",
       "      <td>3</td>\n",
       "      <td>13</td>\n",
       "      <td>45.33</td>\n",
       "      <td>1.36</td>\n",
       "    </tr>\n",
       "    <tr>\n",
       "      <th>4</th>\n",
       "      <td>3</td>\n",
       "      <td>US</td>\n",
       "      <td>2800.00</td>\n",
       "      <td>help-change-the-face-of-brain-impairment</td>\n",
       "      <td>False</td>\n",
       "      <td>successful</td>\n",
       "      <td>2820.00</td>\n",
       "      <td>121</td>\n",
       "      <td>24</td>\n",
       "      <td>40</td>\n",
       "      <td>...</td>\n",
       "      <td>1</td>\n",
       "      <td>2012</td>\n",
       "      <td>12</td>\n",
       "      <td>30</td>\n",
       "      <td>4</td>\n",
       "      <td>2013</td>\n",
       "      <td>1</td>\n",
       "      <td>9</td>\n",
       "      <td>940.00</td>\n",
       "      <td>100.71</td>\n",
       "    </tr>\n",
       "    <tr>\n",
       "      <th>5</th>\n",
       "      <td>35</td>\n",
       "      <td>US</td>\n",
       "      <td>3500.00</td>\n",
       "      <td>annapolis-chamber-music-project</td>\n",
       "      <td>False</td>\n",
       "      <td>successful</td>\n",
       "      <td>3725.00</td>\n",
       "      <td>134</td>\n",
       "      <td>18</td>\n",
       "      <td>31</td>\n",
       "      <td>...</td>\n",
       "      <td>5</td>\n",
       "      <td>2015</td>\n",
       "      <td>4</td>\n",
       "      <td>30</td>\n",
       "      <td>159</td>\n",
       "      <td>2015</td>\n",
       "      <td>5</td>\n",
       "      <td>2</td>\n",
       "      <td>106.43</td>\n",
       "      <td>106.43</td>\n",
       "    </tr>\n",
       "  </tbody>\n",
       "</table>\n",
       "<p>5 rows × 28 columns</p>\n",
       "</div>"
      ],
      "text/plain": [
       "   backers_count country      goal  \\\n",
       "1             47      US   1000.00   \n",
       "2            271      US  15000.00   \n",
       "3              3      GB  12160.66   \n",
       "4              3      US   2800.00   \n",
       "5             35      US   3500.00   \n",
       "\n",
       "                                             slug  staff_pick       state  \\\n",
       "1                         the-ofrenda-oracle-deck       False  successful   \n",
       "2  record-electras-debut-album-pop-rock-classical       False  successful   \n",
       "3                the-mist-of-tribunal-a-card-game       False      failed   \n",
       "4        help-change-the-face-of-brain-impairment       False  successful   \n",
       "5                 annapolis-chamber-music-project       False  successful   \n",
       "\n",
       "   usd_pledged  blurb_len_c  blurb_len_w  slug_len_c  ...  deadline_month  \\\n",
       "1      1950.00          125           22          23  ...               9   \n",
       "2     22404.00          108           15          46  ...               6   \n",
       "3       165.38          133           23          32  ...               3   \n",
       "4      2820.00          121           24          40  ...               1   \n",
       "5      3725.00          134           18          31  ...               5   \n",
       "\n",
       "  launched_year  launched_month  duration_days preparation  \\\n",
       "1          2017               8             30           8   \n",
       "2          2013               5             30         224   \n",
       "3          2017               1             59           5   \n",
       "4          2012              12             30           4   \n",
       "5          2015               4             30         159   \n",
       "\n",
       "   state_changed_year  state_changed_month  state_changed_day  \\\n",
       "1                2017                    9                  9   \n",
       "2                2013                    6                 12   \n",
       "3                2017                    3                 13   \n",
       "4                2013                    1                  9   \n",
       "5                2015                    5                  2   \n",
       "\n",
       "   pledged_per_backer  rel_pledged_goal  \n",
       "1               41.49            195.00  \n",
       "2               82.67            149.36  \n",
       "3               45.33              1.36  \n",
       "4              940.00            100.71  \n",
       "5              106.43            106.43  \n",
       "\n",
       "[5 rows x 28 columns]"
      ]
     },
     "execution_count": 36,
     "metadata": {},
     "output_type": "execute_result"
    }
   ],
   "source": [
    "df.head()"
   ]
  },
  {
   "cell_type": "markdown",
   "metadata": {},
   "source": [
    "# export to csv"
   ]
  },
  {
   "cell_type": "code",
   "execution_count": 39,
   "metadata": {},
   "outputs": [],
   "source": [
    "df.to_csv('data/kickstarter_preprocess.csv', index=False)"
   ]
  }
 ],
 "metadata": {
  "kernelspec": {
   "display_name": "Python 3",
   "language": "python",
   "name": "python3"
  },
  "language_info": {
   "codemirror_mode": {
    "name": "ipython",
    "version": 3
   },
   "file_extension": ".py",
   "mimetype": "text/x-python",
   "name": "python",
   "nbconvert_exporter": "python",
   "pygments_lexer": "ipython3",
   "version": "3.8.5"
  }
 },
 "nbformat": 4,
 "nbformat_minor": 4
}
