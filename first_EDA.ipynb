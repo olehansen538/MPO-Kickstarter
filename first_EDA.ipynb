{
 "cells": [
  {
   "cell_type": "code",
   "execution_count": 1,
   "metadata": {},
   "outputs": [],
   "source": [
    "import pandas as pd\n",
    "import datetime\n",
    "import seaborn as sns\n",
    "import os, glob"
   ]
  },
  {
   "cell_type": "code",
   "execution_count": 2,
   "metadata": {},
   "outputs": [],
   "source": [
    "## make one new big file with all csv-files\n",
    "#path = '/Users/martinagottschalk/neuefische/MPO-Kickstarter/data'\n",
    "\n",
    "## Read all .csv-files\n",
    "#all_files = glob.glob(os.path.join(path, \"Kickstarter*.csv\"))\n",
    "#df_from_each_file = (pd.read_csv(f, sep=',') for f in all_files)\n",
    "\n",
    "## Merge .csv-files\n",
    "#df_merged   = pd.concat(df_from_each_file, ignore_index=True)\n",
    "#df_merged.to_csv('data/Kickstarter_merged.csv')"
   ]
  },
  {
   "cell_type": "code",
   "execution_count": 3,
   "metadata": {},
   "outputs": [],
   "source": [
    "#from pathlib import Path\n",
    "#def read_files():\n",
    "#    \"\"\" Only create new csv if not already done\"\"\"\n",
    "#    if not Path(\"./Kickstarter/data/Kickstarter_merged.csv\").exists():\n",
    "        # Read and merge .csv-files\n",
    "        # Read all .csv-files\n",
    "#        all_files = glob.glob(os.path.join(path, \"Kickstarter*.csv\"))\n",
    "#        df_from_each_file = (pd.read_csv(f, sep=',') for f in all_files)\n",
    "        # Merge .csv-files\n",
    "#        df_merged = pd.concat(df_from_each_file, ignore_index=True)\n",
    "#        df_merged.to_csv('./Kickstarter/data/Kickstarter_merged.csv')\n",
    "#    \"\"\"Otherwise just read in dataframe from merged .csv file\"\"\"\n",
    "#    return pd.read_csv('./Kickstarter/data/Kickstarter_merged.csv', index_col=0)\n",
    "#df = read_files()"
   ]
  },
  {
   "cell_type": "code",
   "execution_count": 4,
   "metadata": {},
   "outputs": [],
   "source": [
    "df = pd.read_csv('data/Kickstarter_merged.csv', index_col=0)"
   ]
  },
  {
   "cell_type": "code",
   "execution_count": 5,
   "metadata": {},
   "outputs": [
    {
     "data": {
      "text/plain": [
       "(209222, 37)"
      ]
     },
     "execution_count": 5,
     "metadata": {},
     "output_type": "execute_result"
    }
   ],
   "source": [
    "df.shape"
   ]
  },
  {
   "cell_type": "code",
   "execution_count": 6,
   "metadata": {},
   "outputs": [
    {
     "name": "stdout",
     "output_type": "stream",
     "text": [
      "<class 'pandas.core.frame.DataFrame'>\n",
      "Int64Index: 209222 entries, 0 to 209221\n",
      "Data columns (total 37 columns):\n",
      " #   Column                    Non-Null Count   Dtype  \n",
      "---  ------                    --------------   -----  \n",
      " 0   backers_count             209222 non-null  int64  \n",
      " 1   blurb                     209214 non-null  object \n",
      " 2   category                  209222 non-null  object \n",
      " 3   converted_pledged_amount  209222 non-null  int64  \n",
      " 4   country                   209222 non-null  object \n",
      " 5   created_at                209222 non-null  int64  \n",
      " 6   creator                   209222 non-null  object \n",
      " 7   currency                  209222 non-null  object \n",
      " 8   currency_symbol           209222 non-null  object \n",
      " 9   currency_trailing_code    209222 non-null  bool   \n",
      " 10  current_currency          209222 non-null  object \n",
      " 11  deadline                  209222 non-null  int64  \n",
      " 12  disable_communication     209222 non-null  bool   \n",
      " 13  friends                   300 non-null     object \n",
      " 14  fx_rate                   209222 non-null  float64\n",
      " 15  goal                      209222 non-null  float64\n",
      " 16  id                        209222 non-null  int64  \n",
      " 17  is_backing                300 non-null     object \n",
      " 18  is_starrable              209222 non-null  bool   \n",
      " 19  is_starred                300 non-null     object \n",
      " 20  launched_at               209222 non-null  int64  \n",
      " 21  location                  208996 non-null  object \n",
      " 22  name                      209222 non-null  object \n",
      " 23  permissions               300 non-null     object \n",
      " 24  photo                     209222 non-null  object \n",
      " 25  pledged                   209222 non-null  float64\n",
      " 26  profile                   209222 non-null  object \n",
      " 27  slug                      209222 non-null  object \n",
      " 28  source_url                209222 non-null  object \n",
      " 29  spotlight                 209222 non-null  bool   \n",
      " 30  staff_pick                209222 non-null  bool   \n",
      " 31  state                     209222 non-null  object \n",
      " 32  state_changed_at          209222 non-null  int64  \n",
      " 33  static_usd_rate           209222 non-null  float64\n",
      " 34  urls                      209222 non-null  object \n",
      " 35  usd_pledged               209222 non-null  float64\n",
      " 36  usd_type                  208742 non-null  object \n",
      "dtypes: bool(5), float64(5), int64(7), object(20)\n",
      "memory usage: 53.7+ MB\n"
     ]
    }
   ],
   "source": [
    "df.info()"
   ]
  },
  {
   "cell_type": "code",
   "execution_count": 7,
   "metadata": {},
   "outputs": [
    {
     "data": {
      "text/plain": [
       "(209222, 33)"
      ]
     },
     "execution_count": 7,
     "metadata": {},
     "output_type": "execute_result"
    }
   ],
   "source": [
    "# drop friends, is_backing, is_starred, permissions because too much missing values\n",
    "df.drop(columns=['friends', 'is_backing', 'is_starred', 'permissions'],  inplace=True)\n",
    "df.shape"
   ]
  },
  {
   "cell_type": "code",
   "execution_count": 8,
   "metadata": {},
   "outputs": [
    {
     "data": {
      "text/html": [
       "<div>\n",
       "<style scoped>\n",
       "    .dataframe tbody tr th:only-of-type {\n",
       "        vertical-align: middle;\n",
       "    }\n",
       "\n",
       "    .dataframe tbody tr th {\n",
       "        vertical-align: top;\n",
       "    }\n",
       "\n",
       "    .dataframe thead th {\n",
       "        text-align: right;\n",
       "    }\n",
       "</style>\n",
       "<table border=\"1\" class=\"dataframe\">\n",
       "  <thead>\n",
       "    <tr style=\"text-align: right;\">\n",
       "      <th></th>\n",
       "      <th>backers_count</th>\n",
       "      <th>blurb</th>\n",
       "      <th>category</th>\n",
       "      <th>converted_pledged_amount</th>\n",
       "      <th>country</th>\n",
       "      <th>created_at</th>\n",
       "      <th>creator</th>\n",
       "      <th>currency</th>\n",
       "      <th>currency_symbol</th>\n",
       "      <th>currency_trailing_code</th>\n",
       "      <th>...</th>\n",
       "      <th>slug</th>\n",
       "      <th>source_url</th>\n",
       "      <th>spotlight</th>\n",
       "      <th>staff_pick</th>\n",
       "      <th>state</th>\n",
       "      <th>state_changed_at</th>\n",
       "      <th>static_usd_rate</th>\n",
       "      <th>urls</th>\n",
       "      <th>usd_pledged</th>\n",
       "      <th>usd_type</th>\n",
       "    </tr>\n",
       "  </thead>\n",
       "  <tbody>\n",
       "    <tr>\n",
       "      <th>0</th>\n",
       "      <td>315</td>\n",
       "      <td>Babalus Shoes</td>\n",
       "      <td>{\"id\":266,\"name\":\"Footwear\",\"slug\":\"fashion/fo...</td>\n",
       "      <td>28645</td>\n",
       "      <td>US</td>\n",
       "      <td>1541459205</td>\n",
       "      <td>{\"id\":2094277840,\"name\":\"Lucy Conroy\",\"slug\":\"...</td>\n",
       "      <td>USD</td>\n",
       "      <td>$</td>\n",
       "      <td>True</td>\n",
       "      <td>...</td>\n",
       "      <td>babalus-childrens-shoes</td>\n",
       "      <td>https://www.kickstarter.com/discover/categorie...</td>\n",
       "      <td>False</td>\n",
       "      <td>False</td>\n",
       "      <td>live</td>\n",
       "      <td>1548223375</td>\n",
       "      <td>1.0</td>\n",
       "      <td>{\"web\":{\"project\":\"https://www.kickstarter.com...</td>\n",
       "      <td>28645.0</td>\n",
       "      <td>international</td>\n",
       "    </tr>\n",
       "  </tbody>\n",
       "</table>\n",
       "<p>1 rows × 33 columns</p>\n",
       "</div>"
      ],
      "text/plain": [
       "   backers_count          blurb  \\\n",
       "0            315  Babalus Shoes   \n",
       "\n",
       "                                            category  \\\n",
       "0  {\"id\":266,\"name\":\"Footwear\",\"slug\":\"fashion/fo...   \n",
       "\n",
       "   converted_pledged_amount country  created_at  \\\n",
       "0                     28645      US  1541459205   \n",
       "\n",
       "                                             creator currency currency_symbol  \\\n",
       "0  {\"id\":2094277840,\"name\":\"Lucy Conroy\",\"slug\":\"...      USD               $   \n",
       "\n",
       "   currency_trailing_code  ...                     slug  \\\n",
       "0                    True  ...  babalus-childrens-shoes   \n",
       "\n",
       "                                          source_url  spotlight  staff_pick  \\\n",
       "0  https://www.kickstarter.com/discover/categorie...      False       False   \n",
       "\n",
       "   state  state_changed_at  static_usd_rate  \\\n",
       "0   live        1548223375              1.0   \n",
       "\n",
       "                                                urls usd_pledged  \\\n",
       "0  {\"web\":{\"project\":\"https://www.kickstarter.com...     28645.0   \n",
       "\n",
       "        usd_type  \n",
       "0  international  \n",
       "\n",
       "[1 rows x 33 columns]"
      ]
     },
     "execution_count": 8,
     "metadata": {},
     "output_type": "execute_result"
    }
   ],
   "source": [
    "df.head(1)"
   ]
  },
  {
   "cell_type": "code",
   "execution_count": 9,
   "metadata": {},
   "outputs": [
    {
     "data": {
      "text/html": [
       "<div>\n",
       "<style scoped>\n",
       "    .dataframe tbody tr th:only-of-type {\n",
       "        vertical-align: middle;\n",
       "    }\n",
       "\n",
       "    .dataframe tbody tr th {\n",
       "        vertical-align: top;\n",
       "    }\n",
       "\n",
       "    .dataframe thead th {\n",
       "        text-align: right;\n",
       "    }\n",
       "</style>\n",
       "<table border=\"1\" class=\"dataframe\">\n",
       "  <thead>\n",
       "    <tr style=\"text-align: right;\">\n",
       "      <th></th>\n",
       "      <th>backers_count</th>\n",
       "      <th>converted_pledged_amount</th>\n",
       "      <th>created_at</th>\n",
       "      <th>deadline</th>\n",
       "      <th>fx_rate</th>\n",
       "      <th>goal</th>\n",
       "      <th>id</th>\n",
       "      <th>launched_at</th>\n",
       "      <th>pledged</th>\n",
       "      <th>state_changed_at</th>\n",
       "      <th>static_usd_rate</th>\n",
       "      <th>usd_pledged</th>\n",
       "    </tr>\n",
       "  </thead>\n",
       "  <tbody>\n",
       "    <tr>\n",
       "      <th>count</th>\n",
       "      <td>209222.000000</td>\n",
       "      <td>2.092220e+05</td>\n",
       "      <td>2.092220e+05</td>\n",
       "      <td>2.092220e+05</td>\n",
       "      <td>209222.000000</td>\n",
       "      <td>2.092220e+05</td>\n",
       "      <td>2.092220e+05</td>\n",
       "      <td>2.092220e+05</td>\n",
       "      <td>2.092220e+05</td>\n",
       "      <td>2.092220e+05</td>\n",
       "      <td>209222.000000</td>\n",
       "      <td>2.092220e+05</td>\n",
       "    </tr>\n",
       "    <tr>\n",
       "      <th>mean</th>\n",
       "      <td>145.419057</td>\n",
       "      <td>1.289290e+04</td>\n",
       "      <td>1.456089e+09</td>\n",
       "      <td>1.463033e+09</td>\n",
       "      <td>0.994857</td>\n",
       "      <td>4.917604e+04</td>\n",
       "      <td>1.073222e+09</td>\n",
       "      <td>1.460206e+09</td>\n",
       "      <td>1.881403e+04</td>\n",
       "      <td>1.462838e+09</td>\n",
       "      <td>1.010757</td>\n",
       "      <td>1.289213e+04</td>\n",
       "    </tr>\n",
       "    <tr>\n",
       "      <th>std</th>\n",
       "      <td>885.967976</td>\n",
       "      <td>8.889414e+04</td>\n",
       "      <td>6.339711e+07</td>\n",
       "      <td>6.305618e+07</td>\n",
       "      <td>0.211654</td>\n",
       "      <td>1.179427e+06</td>\n",
       "      <td>6.198051e+08</td>\n",
       "      <td>6.309029e+07</td>\n",
       "      <td>3.229596e+05</td>\n",
       "      <td>6.290421e+07</td>\n",
       "      <td>0.231893</td>\n",
       "      <td>8.890124e+04</td>\n",
       "    </tr>\n",
       "    <tr>\n",
       "      <th>min</th>\n",
       "      <td>0.000000</td>\n",
       "      <td>0.000000e+00</td>\n",
       "      <td>1.240366e+09</td>\n",
       "      <td>1.241334e+09</td>\n",
       "      <td>0.008966</td>\n",
       "      <td>1.000000e-02</td>\n",
       "      <td>8.624000e+03</td>\n",
       "      <td>1.240603e+09</td>\n",
       "      <td>0.000000e+00</td>\n",
       "      <td>1.241334e+09</td>\n",
       "      <td>0.008771</td>\n",
       "      <td>0.000000e+00</td>\n",
       "    </tr>\n",
       "    <tr>\n",
       "      <th>25%</th>\n",
       "      <td>4.000000</td>\n",
       "      <td>1.060000e+02</td>\n",
       "      <td>1.413317e+09</td>\n",
       "      <td>1.420607e+09</td>\n",
       "      <td>1.000000</td>\n",
       "      <td>1.500000e+03</td>\n",
       "      <td>5.351054e+08</td>\n",
       "      <td>1.417639e+09</td>\n",
       "      <td>1.100000e+02</td>\n",
       "      <td>1.420485e+09</td>\n",
       "      <td>1.000000</td>\n",
       "      <td>1.060014e+02</td>\n",
       "    </tr>\n",
       "    <tr>\n",
       "      <th>50%</th>\n",
       "      <td>27.000000</td>\n",
       "      <td>1.537000e+03</td>\n",
       "      <td>1.457895e+09</td>\n",
       "      <td>1.464754e+09</td>\n",
       "      <td>1.000000</td>\n",
       "      <td>5.000000e+03</td>\n",
       "      <td>1.074579e+09</td>\n",
       "      <td>1.461924e+09</td>\n",
       "      <td>1.556000e+03</td>\n",
       "      <td>1.464709e+09</td>\n",
       "      <td>1.000000</td>\n",
       "      <td>1.537358e+03</td>\n",
       "    </tr>\n",
       "    <tr>\n",
       "      <th>75%</th>\n",
       "      <td>89.000000</td>\n",
       "      <td>6.548000e+03</td>\n",
       "      <td>1.511595e+09</td>\n",
       "      <td>1.519437e+09</td>\n",
       "      <td>1.000000</td>\n",
       "      <td>1.500000e+04</td>\n",
       "      <td>1.609369e+09</td>\n",
       "      <td>1.516694e+09</td>\n",
       "      <td>6.887200e+03</td>\n",
       "      <td>1.519366e+09</td>\n",
       "      <td>1.000000</td>\n",
       "      <td>6.550000e+03</td>\n",
       "    </tr>\n",
       "    <tr>\n",
       "      <th>max</th>\n",
       "      <td>105857.000000</td>\n",
       "      <td>8.596474e+06</td>\n",
       "      <td>1.552527e+09</td>\n",
       "      <td>1.557721e+09</td>\n",
       "      <td>1.876033</td>\n",
       "      <td>1.000000e+08</td>\n",
       "      <td>2.147476e+09</td>\n",
       "      <td>1.552537e+09</td>\n",
       "      <td>8.103074e+07</td>\n",
       "      <td>1.552537e+09</td>\n",
       "      <td>1.716408</td>\n",
       "      <td>8.596475e+06</td>\n",
       "    </tr>\n",
       "  </tbody>\n",
       "</table>\n",
       "</div>"
      ],
      "text/plain": [
       "       backers_count  converted_pledged_amount    created_at      deadline  \\\n",
       "count  209222.000000              2.092220e+05  2.092220e+05  2.092220e+05   \n",
       "mean      145.419057              1.289290e+04  1.456089e+09  1.463033e+09   \n",
       "std       885.967976              8.889414e+04  6.339711e+07  6.305618e+07   \n",
       "min         0.000000              0.000000e+00  1.240366e+09  1.241334e+09   \n",
       "25%         4.000000              1.060000e+02  1.413317e+09  1.420607e+09   \n",
       "50%        27.000000              1.537000e+03  1.457895e+09  1.464754e+09   \n",
       "75%        89.000000              6.548000e+03  1.511595e+09  1.519437e+09   \n",
       "max    105857.000000              8.596474e+06  1.552527e+09  1.557721e+09   \n",
       "\n",
       "             fx_rate          goal            id   launched_at       pledged  \\\n",
       "count  209222.000000  2.092220e+05  2.092220e+05  2.092220e+05  2.092220e+05   \n",
       "mean        0.994857  4.917604e+04  1.073222e+09  1.460206e+09  1.881403e+04   \n",
       "std         0.211654  1.179427e+06  6.198051e+08  6.309029e+07  3.229596e+05   \n",
       "min         0.008966  1.000000e-02  8.624000e+03  1.240603e+09  0.000000e+00   \n",
       "25%         1.000000  1.500000e+03  5.351054e+08  1.417639e+09  1.100000e+02   \n",
       "50%         1.000000  5.000000e+03  1.074579e+09  1.461924e+09  1.556000e+03   \n",
       "75%         1.000000  1.500000e+04  1.609369e+09  1.516694e+09  6.887200e+03   \n",
       "max         1.876033  1.000000e+08  2.147476e+09  1.552537e+09  8.103074e+07   \n",
       "\n",
       "       state_changed_at  static_usd_rate   usd_pledged  \n",
       "count      2.092220e+05    209222.000000  2.092220e+05  \n",
       "mean       1.462838e+09         1.010757  1.289213e+04  \n",
       "std        6.290421e+07         0.231893  8.890124e+04  \n",
       "min        1.241334e+09         0.008771  0.000000e+00  \n",
       "25%        1.420485e+09         1.000000  1.060014e+02  \n",
       "50%        1.464709e+09         1.000000  1.537358e+03  \n",
       "75%        1.519366e+09         1.000000  6.550000e+03  \n",
       "max        1.552537e+09         1.716408  8.596475e+06  "
      ]
     },
     "execution_count": 9,
     "metadata": {},
     "output_type": "execute_result"
    }
   ],
   "source": [
    "df.describe()"
   ]
  },
  {
   "cell_type": "code",
   "execution_count": 10,
   "metadata": {},
   "outputs": [
    {
     "data": {
      "text/plain": [
       "Index(['backers_count', 'blurb', 'category', 'converted_pledged_amount',\n",
       "       'country', 'created_at', 'creator', 'currency', 'currency_symbol',\n",
       "       'currency_trailing_code', 'current_currency', 'deadline',\n",
       "       'disable_communication', 'fx_rate', 'goal', 'id', 'is_starrable',\n",
       "       'launched_at', 'location', 'name', 'photo', 'pledged', 'profile',\n",
       "       'slug', 'source_url', 'spotlight', 'staff_pick', 'state',\n",
       "       'state_changed_at', 'static_usd_rate', 'urls', 'usd_pledged',\n",
       "       'usd_type'],\n",
       "      dtype='object')"
      ]
     },
     "execution_count": 10,
     "metadata": {},
     "output_type": "execute_result"
    }
   ],
   "source": [
    "df.columns"
   ]
  },
  {
   "cell_type": "markdown",
   "metadata": {},
   "source": [
    "# countries"
   ]
  },
  {
   "cell_type": "code",
   "execution_count": 11,
   "metadata": {},
   "outputs": [],
   "source": [
    "# dictionary countries\n",
    "df['country'].unique()\n",
    "dict_country = {'US': 'United States', 'GB': 'Great Britain', 'FR': 'France', 'AU': 'Australia', \n",
    "                'NZ': 'New Zealand', 'ES': 'Spain', 'IT': 'Italy', 'NO': 'Norway', 'NL': 'Netherlands', 'CA': 'Canada',\n",
    "                'SG': 'Singapur', 'MX': 'Mexico', 'SE': 'Sweden', 'IE': 'Ireland', 'DE': 'Germany', 'BE': 'Belgium', \n",
    "                'HK': 'Hongkong', 'AT': 'Austria', 'JP': 'Japan', 'DK': 'Denmark', 'CH': 'Switzerland', \n",
    "                'LU': 'Luxembourg'}"
   ]
  },
  {
   "cell_type": "code",
   "execution_count": 12,
   "metadata": {},
   "outputs": [],
   "source": [
    "# add dictionary to dataFrame\n",
    "#df[\"country_new\"] = df.apply(lambda x: df.get(x['dict_country'], axis=1)  #extract_ids(x[\"location\"]), axis=1)  "
   ]
  },
  {
   "cell_type": "markdown",
   "metadata": {},
   "source": [
    "# currency"
   ]
  },
  {
   "cell_type": "code",
   "execution_count": 13,
   "metadata": {},
   "outputs": [
    {
     "data": {
      "text/html": [
       "<div>\n",
       "<style scoped>\n",
       "    .dataframe tbody tr th:only-of-type {\n",
       "        vertical-align: middle;\n",
       "    }\n",
       "\n",
       "    .dataframe tbody tr th {\n",
       "        vertical-align: top;\n",
       "    }\n",
       "\n",
       "    .dataframe thead th {\n",
       "        text-align: right;\n",
       "    }\n",
       "</style>\n",
       "<table border=\"1\" class=\"dataframe\">\n",
       "  <thead>\n",
       "    <tr style=\"text-align: right;\">\n",
       "      <th></th>\n",
       "      <th>country</th>\n",
       "      <th>converted_pledged_amount</th>\n",
       "      <th>currency</th>\n",
       "      <th>current_currency</th>\n",
       "      <th>fx_rate</th>\n",
       "      <th>goal</th>\n",
       "      <th>pledged</th>\n",
       "      <th>static_usd_rate</th>\n",
       "      <th>usd_pledged</th>\n",
       "      <th>usd_type</th>\n",
       "    </tr>\n",
       "  </thead>\n",
       "  <tbody>\n",
       "    <tr>\n",
       "      <th>0</th>\n",
       "      <td>US</td>\n",
       "      <td>28645</td>\n",
       "      <td>USD</td>\n",
       "      <td>USD</td>\n",
       "      <td>1.000000</td>\n",
       "      <td>28000.0</td>\n",
       "      <td>28645.00</td>\n",
       "      <td>1.000000</td>\n",
       "      <td>28645.000000</td>\n",
       "      <td>international</td>\n",
       "    </tr>\n",
       "    <tr>\n",
       "      <th>1</th>\n",
       "      <td>US</td>\n",
       "      <td>1950</td>\n",
       "      <td>USD</td>\n",
       "      <td>USD</td>\n",
       "      <td>1.000000</td>\n",
       "      <td>1000.0</td>\n",
       "      <td>1950.00</td>\n",
       "      <td>1.000000</td>\n",
       "      <td>1950.000000</td>\n",
       "      <td>domestic</td>\n",
       "    </tr>\n",
       "    <tr>\n",
       "      <th>2</th>\n",
       "      <td>US</td>\n",
       "      <td>22404</td>\n",
       "      <td>USD</td>\n",
       "      <td>USD</td>\n",
       "      <td>1.000000</td>\n",
       "      <td>15000.0</td>\n",
       "      <td>22404.00</td>\n",
       "      <td>1.000000</td>\n",
       "      <td>22404.000000</td>\n",
       "      <td>international</td>\n",
       "    </tr>\n",
       "    <tr>\n",
       "      <th>3</th>\n",
       "      <td>GB</td>\n",
       "      <td>165</td>\n",
       "      <td>GBP</td>\n",
       "      <td>USD</td>\n",
       "      <td>1.308394</td>\n",
       "      <td>10000.0</td>\n",
       "      <td>136.00</td>\n",
       "      <td>1.216066</td>\n",
       "      <td>165.384934</td>\n",
       "      <td>domestic</td>\n",
       "    </tr>\n",
       "    <tr>\n",
       "      <th>4</th>\n",
       "      <td>US</td>\n",
       "      <td>2820</td>\n",
       "      <td>USD</td>\n",
       "      <td>USD</td>\n",
       "      <td>1.000000</td>\n",
       "      <td>2800.0</td>\n",
       "      <td>2820.00</td>\n",
       "      <td>1.000000</td>\n",
       "      <td>2820.000000</td>\n",
       "      <td>domestic</td>\n",
       "    </tr>\n",
       "    <tr>\n",
       "      <th>5</th>\n",
       "      <td>US</td>\n",
       "      <td>3725</td>\n",
       "      <td>USD</td>\n",
       "      <td>USD</td>\n",
       "      <td>1.000000</td>\n",
       "      <td>3500.0</td>\n",
       "      <td>3725.00</td>\n",
       "      <td>1.000000</td>\n",
       "      <td>3725.000000</td>\n",
       "      <td>domestic</td>\n",
       "    </tr>\n",
       "    <tr>\n",
       "      <th>6</th>\n",
       "      <td>US</td>\n",
       "      <td>3890</td>\n",
       "      <td>USD</td>\n",
       "      <td>USD</td>\n",
       "      <td>1.000000</td>\n",
       "      <td>2500.0</td>\n",
       "      <td>3890.00</td>\n",
       "      <td>1.000000</td>\n",
       "      <td>3890.000000</td>\n",
       "      <td>domestic</td>\n",
       "    </tr>\n",
       "    <tr>\n",
       "      <th>7</th>\n",
       "      <td>US</td>\n",
       "      <td>660</td>\n",
       "      <td>USD</td>\n",
       "      <td>USD</td>\n",
       "      <td>1.000000</td>\n",
       "      <td>400.0</td>\n",
       "      <td>660.00</td>\n",
       "      <td>1.000000</td>\n",
       "      <td>660.000000</td>\n",
       "      <td>international</td>\n",
       "    </tr>\n",
       "    <tr>\n",
       "      <th>8</th>\n",
       "      <td>GB</td>\n",
       "      <td>540</td>\n",
       "      <td>GBP</td>\n",
       "      <td>USD</td>\n",
       "      <td>1.308394</td>\n",
       "      <td>375.0</td>\n",
       "      <td>375.00</td>\n",
       "      <td>1.412765</td>\n",
       "      <td>529.786729</td>\n",
       "      <td>international</td>\n",
       "    </tr>\n",
       "    <tr>\n",
       "      <th>9</th>\n",
       "      <td>GB</td>\n",
       "      <td>2552</td>\n",
       "      <td>GBP</td>\n",
       "      <td>USD</td>\n",
       "      <td>1.308394</td>\n",
       "      <td>380.0</td>\n",
       "      <td>1954.00</td>\n",
       "      <td>1.287697</td>\n",
       "      <td>2516.160602</td>\n",
       "      <td>international</td>\n",
       "    </tr>\n",
       "    <tr>\n",
       "      <th>10</th>\n",
       "      <td>US</td>\n",
       "      <td>0</td>\n",
       "      <td>USD</td>\n",
       "      <td>USD</td>\n",
       "      <td>1.000000</td>\n",
       "      <td>150000.0</td>\n",
       "      <td>0.00</td>\n",
       "      <td>1.000000</td>\n",
       "      <td>0.000000</td>\n",
       "      <td>domestic</td>\n",
       "    </tr>\n",
       "    <tr>\n",
       "      <th>11</th>\n",
       "      <td>US</td>\n",
       "      <td>1405</td>\n",
       "      <td>USD</td>\n",
       "      <td>USD</td>\n",
       "      <td>1.000000</td>\n",
       "      <td>800.0</td>\n",
       "      <td>1405.00</td>\n",
       "      <td>1.000000</td>\n",
       "      <td>1405.000000</td>\n",
       "      <td>domestic</td>\n",
       "    </tr>\n",
       "    <tr>\n",
       "      <th>12</th>\n",
       "      <td>US</td>\n",
       "      <td>47</td>\n",
       "      <td>USD</td>\n",
       "      <td>USD</td>\n",
       "      <td>1.000000</td>\n",
       "      <td>10000.0</td>\n",
       "      <td>47.00</td>\n",
       "      <td>1.000000</td>\n",
       "      <td>47.000000</td>\n",
       "      <td>international</td>\n",
       "    </tr>\n",
       "    <tr>\n",
       "      <th>13</th>\n",
       "      <td>US</td>\n",
       "      <td>5323</td>\n",
       "      <td>USD</td>\n",
       "      <td>USD</td>\n",
       "      <td>1.000000</td>\n",
       "      <td>4500.0</td>\n",
       "      <td>5323.00</td>\n",
       "      <td>1.000000</td>\n",
       "      <td>5323.000000</td>\n",
       "      <td>international</td>\n",
       "    </tr>\n",
       "    <tr>\n",
       "      <th>14</th>\n",
       "      <td>US</td>\n",
       "      <td>7035</td>\n",
       "      <td>USD</td>\n",
       "      <td>USD</td>\n",
       "      <td>1.000000</td>\n",
       "      <td>7000.0</td>\n",
       "      <td>7035.00</td>\n",
       "      <td>1.000000</td>\n",
       "      <td>7035.000000</td>\n",
       "      <td>international</td>\n",
       "    </tr>\n",
       "    <tr>\n",
       "      <th>15</th>\n",
       "      <td>US</td>\n",
       "      <td>110</td>\n",
       "      <td>USD</td>\n",
       "      <td>USD</td>\n",
       "      <td>1.000000</td>\n",
       "      <td>101.0</td>\n",
       "      <td>110.00</td>\n",
       "      <td>1.000000</td>\n",
       "      <td>110.000000</td>\n",
       "      <td>domestic</td>\n",
       "    </tr>\n",
       "    <tr>\n",
       "      <th>16</th>\n",
       "      <td>FR</td>\n",
       "      <td>4579</td>\n",
       "      <td>EUR</td>\n",
       "      <td>USD</td>\n",
       "      <td>1.128433</td>\n",
       "      <td>4200.0</td>\n",
       "      <td>4230.00</td>\n",
       "      <td>1.111353</td>\n",
       "      <td>4701.023782</td>\n",
       "      <td>international</td>\n",
       "    </tr>\n",
       "    <tr>\n",
       "      <th>17</th>\n",
       "      <td>AU</td>\n",
       "      <td>15957</td>\n",
       "      <td>AUD</td>\n",
       "      <td>USD</td>\n",
       "      <td>0.705792</td>\n",
       "      <td>15000.0</td>\n",
       "      <td>20169.00</td>\n",
       "      <td>0.759992</td>\n",
       "      <td>15328.270782</td>\n",
       "      <td>international</td>\n",
       "    </tr>\n",
       "    <tr>\n",
       "      <th>18</th>\n",
       "      <td>US</td>\n",
       "      <td>5667</td>\n",
       "      <td>USD</td>\n",
       "      <td>USD</td>\n",
       "      <td>1.000000</td>\n",
       "      <td>5000.0</td>\n",
       "      <td>5667.00</td>\n",
       "      <td>1.000000</td>\n",
       "      <td>5667.000000</td>\n",
       "      <td>domestic</td>\n",
       "    </tr>\n",
       "    <tr>\n",
       "      <th>19</th>\n",
       "      <td>US</td>\n",
       "      <td>760</td>\n",
       "      <td>USD</td>\n",
       "      <td>USD</td>\n",
       "      <td>1.000000</td>\n",
       "      <td>650.0</td>\n",
       "      <td>760.00</td>\n",
       "      <td>1.000000</td>\n",
       "      <td>760.000000</td>\n",
       "      <td>international</td>\n",
       "    </tr>\n",
       "    <tr>\n",
       "      <th>20</th>\n",
       "      <td>US</td>\n",
       "      <td>2690</td>\n",
       "      <td>USD</td>\n",
       "      <td>USD</td>\n",
       "      <td>1.000000</td>\n",
       "      <td>2500.0</td>\n",
       "      <td>2690.14</td>\n",
       "      <td>1.000000</td>\n",
       "      <td>2690.140000</td>\n",
       "      <td>domestic</td>\n",
       "    </tr>\n",
       "    <tr>\n",
       "      <th>21</th>\n",
       "      <td>US</td>\n",
       "      <td>117817</td>\n",
       "      <td>USD</td>\n",
       "      <td>USD</td>\n",
       "      <td>1.000000</td>\n",
       "      <td>50000.0</td>\n",
       "      <td>117817.00</td>\n",
       "      <td>1.000000</td>\n",
       "      <td>117817.000000</td>\n",
       "      <td>international</td>\n",
       "    </tr>\n",
       "    <tr>\n",
       "      <th>22</th>\n",
       "      <td>NZ</td>\n",
       "      <td>705</td>\n",
       "      <td>NZD</td>\n",
       "      <td>USD</td>\n",
       "      <td>0.684141</td>\n",
       "      <td>1000.0</td>\n",
       "      <td>1015.00</td>\n",
       "      <td>0.692230</td>\n",
       "      <td>702.613237</td>\n",
       "      <td>international</td>\n",
       "    </tr>\n",
       "    <tr>\n",
       "      <th>23</th>\n",
       "      <td>US</td>\n",
       "      <td>15670</td>\n",
       "      <td>USD</td>\n",
       "      <td>USD</td>\n",
       "      <td>1.000000</td>\n",
       "      <td>15000.0</td>\n",
       "      <td>15670.00</td>\n",
       "      <td>1.000000</td>\n",
       "      <td>15670.000000</td>\n",
       "      <td>domestic</td>\n",
       "    </tr>\n",
       "    <tr>\n",
       "      <th>24</th>\n",
       "      <td>FR</td>\n",
       "      <td>5</td>\n",
       "      <td>EUR</td>\n",
       "      <td>USD</td>\n",
       "      <td>1.128433</td>\n",
       "      <td>50000.0</td>\n",
       "      <td>5.00</td>\n",
       "      <td>1.094757</td>\n",
       "      <td>5.473783</td>\n",
       "      <td>domestic</td>\n",
       "    </tr>\n",
       "    <tr>\n",
       "      <th>25</th>\n",
       "      <td>GB</td>\n",
       "      <td>2808</td>\n",
       "      <td>GBP</td>\n",
       "      <td>USD</td>\n",
       "      <td>1.308394</td>\n",
       "      <td>2000.0</td>\n",
       "      <td>2199.00</td>\n",
       "      <td>1.301163</td>\n",
       "      <td>2861.258251</td>\n",
       "      <td>international</td>\n",
       "    </tr>\n",
       "    <tr>\n",
       "      <th>26</th>\n",
       "      <td>US</td>\n",
       "      <td>617</td>\n",
       "      <td>USD</td>\n",
       "      <td>USD</td>\n",
       "      <td>1.000000</td>\n",
       "      <td>500.0</td>\n",
       "      <td>617.00</td>\n",
       "      <td>1.000000</td>\n",
       "      <td>617.000000</td>\n",
       "      <td>international</td>\n",
       "    </tr>\n",
       "    <tr>\n",
       "      <th>27</th>\n",
       "      <td>GB</td>\n",
       "      <td>21161</td>\n",
       "      <td>GBP</td>\n",
       "      <td>CAD</td>\n",
       "      <td>1.748586</td>\n",
       "      <td>20000.0</td>\n",
       "      <td>12102.00</td>\n",
       "      <td>1.315996</td>\n",
       "      <td>15926.177904</td>\n",
       "      <td>NaN</td>\n",
       "    </tr>\n",
       "    <tr>\n",
       "      <th>28</th>\n",
       "      <td>GB</td>\n",
       "      <td>14</td>\n",
       "      <td>GBP</td>\n",
       "      <td>USD</td>\n",
       "      <td>1.308394</td>\n",
       "      <td>5000.0</td>\n",
       "      <td>10.00</td>\n",
       "      <td>1.411849</td>\n",
       "      <td>14.118491</td>\n",
       "      <td>domestic</td>\n",
       "    </tr>\n",
       "    <tr>\n",
       "      <th>29</th>\n",
       "      <td>FR</td>\n",
       "      <td>437</td>\n",
       "      <td>EUR</td>\n",
       "      <td>USD</td>\n",
       "      <td>1.128433</td>\n",
       "      <td>350.0</td>\n",
       "      <td>376.00</td>\n",
       "      <td>1.158051</td>\n",
       "      <td>435.427090</td>\n",
       "      <td>international</td>\n",
       "    </tr>\n",
       "  </tbody>\n",
       "</table>\n",
       "</div>"
      ],
      "text/plain": [
       "   country  converted_pledged_amount currency current_currency   fx_rate  \\\n",
       "0       US                     28645      USD              USD  1.000000   \n",
       "1       US                      1950      USD              USD  1.000000   \n",
       "2       US                     22404      USD              USD  1.000000   \n",
       "3       GB                       165      GBP              USD  1.308394   \n",
       "4       US                      2820      USD              USD  1.000000   \n",
       "5       US                      3725      USD              USD  1.000000   \n",
       "6       US                      3890      USD              USD  1.000000   \n",
       "7       US                       660      USD              USD  1.000000   \n",
       "8       GB                       540      GBP              USD  1.308394   \n",
       "9       GB                      2552      GBP              USD  1.308394   \n",
       "10      US                         0      USD              USD  1.000000   \n",
       "11      US                      1405      USD              USD  1.000000   \n",
       "12      US                        47      USD              USD  1.000000   \n",
       "13      US                      5323      USD              USD  1.000000   \n",
       "14      US                      7035      USD              USD  1.000000   \n",
       "15      US                       110      USD              USD  1.000000   \n",
       "16      FR                      4579      EUR              USD  1.128433   \n",
       "17      AU                     15957      AUD              USD  0.705792   \n",
       "18      US                      5667      USD              USD  1.000000   \n",
       "19      US                       760      USD              USD  1.000000   \n",
       "20      US                      2690      USD              USD  1.000000   \n",
       "21      US                    117817      USD              USD  1.000000   \n",
       "22      NZ                       705      NZD              USD  0.684141   \n",
       "23      US                     15670      USD              USD  1.000000   \n",
       "24      FR                         5      EUR              USD  1.128433   \n",
       "25      GB                      2808      GBP              USD  1.308394   \n",
       "26      US                       617      USD              USD  1.000000   \n",
       "27      GB                     21161      GBP              CAD  1.748586   \n",
       "28      GB                        14      GBP              USD  1.308394   \n",
       "29      FR                       437      EUR              USD  1.128433   \n",
       "\n",
       "        goal    pledged  static_usd_rate    usd_pledged       usd_type  \n",
       "0    28000.0   28645.00         1.000000   28645.000000  international  \n",
       "1     1000.0    1950.00         1.000000    1950.000000       domestic  \n",
       "2    15000.0   22404.00         1.000000   22404.000000  international  \n",
       "3    10000.0     136.00         1.216066     165.384934       domestic  \n",
       "4     2800.0    2820.00         1.000000    2820.000000       domestic  \n",
       "5     3500.0    3725.00         1.000000    3725.000000       domestic  \n",
       "6     2500.0    3890.00         1.000000    3890.000000       domestic  \n",
       "7      400.0     660.00         1.000000     660.000000  international  \n",
       "8      375.0     375.00         1.412765     529.786729  international  \n",
       "9      380.0    1954.00         1.287697    2516.160602  international  \n",
       "10  150000.0       0.00         1.000000       0.000000       domestic  \n",
       "11     800.0    1405.00         1.000000    1405.000000       domestic  \n",
       "12   10000.0      47.00         1.000000      47.000000  international  \n",
       "13    4500.0    5323.00         1.000000    5323.000000  international  \n",
       "14    7000.0    7035.00         1.000000    7035.000000  international  \n",
       "15     101.0     110.00         1.000000     110.000000       domestic  \n",
       "16    4200.0    4230.00         1.111353    4701.023782  international  \n",
       "17   15000.0   20169.00         0.759992   15328.270782  international  \n",
       "18    5000.0    5667.00         1.000000    5667.000000       domestic  \n",
       "19     650.0     760.00         1.000000     760.000000  international  \n",
       "20    2500.0    2690.14         1.000000    2690.140000       domestic  \n",
       "21   50000.0  117817.00         1.000000  117817.000000  international  \n",
       "22    1000.0    1015.00         0.692230     702.613237  international  \n",
       "23   15000.0   15670.00         1.000000   15670.000000       domestic  \n",
       "24   50000.0       5.00         1.094757       5.473783       domestic  \n",
       "25    2000.0    2199.00         1.301163    2861.258251  international  \n",
       "26     500.0     617.00         1.000000     617.000000  international  \n",
       "27   20000.0   12102.00         1.315996   15926.177904            NaN  \n",
       "28    5000.0      10.00         1.411849      14.118491       domestic  \n",
       "29     350.0     376.00         1.158051     435.427090  international  "
      ]
     },
     "execution_count": 13,
     "metadata": {},
     "output_type": "execute_result"
    }
   ],
   "source": [
    "# Alle Spalten anzeigen, die was mit finance/currency zu tun haben\n",
    "\n",
    "finance = ['country', 'converted_pledged_amount', 'currency',   'current_currency',\n",
    "           'fx_rate', 'goal', 'pledged', 'static_usd_rate', 'usd_pledged', 'usd_type']\n",
    "finance2 = ['currency_symbol', 'currency_trailing_code']\n",
    "#non_finance = ['backers_count', 'blurb', 'category', 'country', 'created_at', 'creator','deadline', 'disable_communication', 'friends', 'id', 'is_backing', 'is_starrable', 'is_starred', 'launched_at', 'location','name', 'permissions', 'photo', 'profile', 'slug', 'source_url', 'spotlight', 'staff_pick','state', 'state_changed_at', 'urls']\n",
    "#df_finance = df.drop('non_finance', axis=1)\n",
    "df[finance].head(30)"
   ]
  },
  {
   "cell_type": "code",
   "execution_count": 14,
   "metadata": {},
   "outputs": [
    {
     "data": {
      "text/html": [
       "<div>\n",
       "<style scoped>\n",
       "    .dataframe tbody tr th:only-of-type {\n",
       "        vertical-align: middle;\n",
       "    }\n",
       "\n",
       "    .dataframe tbody tr th {\n",
       "        vertical-align: top;\n",
       "    }\n",
       "\n",
       "    .dataframe thead th {\n",
       "        text-align: right;\n",
       "    }\n",
       "</style>\n",
       "<table border=\"1\" class=\"dataframe\">\n",
       "  <thead>\n",
       "    <tr style=\"text-align: right;\">\n",
       "      <th></th>\n",
       "      <th>backers_count</th>\n",
       "      <th>blurb</th>\n",
       "      <th>category</th>\n",
       "      <th>converted_pledged_amount</th>\n",
       "      <th>country</th>\n",
       "      <th>created_at</th>\n",
       "      <th>creator</th>\n",
       "      <th>currency</th>\n",
       "      <th>currency_symbol</th>\n",
       "      <th>currency_trailing_code</th>\n",
       "      <th>...</th>\n",
       "      <th>slug</th>\n",
       "      <th>source_url</th>\n",
       "      <th>spotlight</th>\n",
       "      <th>staff_pick</th>\n",
       "      <th>state</th>\n",
       "      <th>state_changed_at</th>\n",
       "      <th>static_usd_rate</th>\n",
       "      <th>urls</th>\n",
       "      <th>usd_pledged</th>\n",
       "      <th>usd_type</th>\n",
       "    </tr>\n",
       "  </thead>\n",
       "  <tbody>\n",
       "    <tr>\n",
       "      <th>22</th>\n",
       "      <td>14</td>\n",
       "      <td>A project aimed to fund a physical release of ...</td>\n",
       "      <td>{\"id\":43,\"name\":\"Rock\",\"slug\":\"music/rock\",\"po...</td>\n",
       "      <td>705</td>\n",
       "      <td>NZ</td>\n",
       "      <td>1489362264</td>\n",
       "      <td>{\"id\":190509036,\"name\":\"Matt J\",\"slug\":\"greenm...</td>\n",
       "      <td>NZD</td>\n",
       "      <td>$</td>\n",
       "      <td>True</td>\n",
       "      <td>...</td>\n",
       "      <td>formed-on-wednesdays-golden-man-physical-release</td>\n",
       "      <td>https://www.kickstarter.com/discover/categorie...</td>\n",
       "      <td>True</td>\n",
       "      <td>False</td>\n",
       "      <td>successful</td>\n",
       "      <td>1491965926</td>\n",
       "      <td>0.69223</td>\n",
       "      <td>{\"web\":{\"project\":\"https://www.kickstarter.com...</td>\n",
       "      <td>702.613237</td>\n",
       "      <td>international</td>\n",
       "    </tr>\n",
       "  </tbody>\n",
       "</table>\n",
       "<p>1 rows × 33 columns</p>\n",
       "</div>"
      ],
      "text/plain": [
       "    backers_count                                              blurb  \\\n",
       "22             14  A project aimed to fund a physical release of ...   \n",
       "\n",
       "                                             category  \\\n",
       "22  {\"id\":43,\"name\":\"Rock\",\"slug\":\"music/rock\",\"po...   \n",
       "\n",
       "    converted_pledged_amount country  created_at  \\\n",
       "22                       705      NZ  1489362264   \n",
       "\n",
       "                                              creator currency  \\\n",
       "22  {\"id\":190509036,\"name\":\"Matt J\",\"slug\":\"greenm...      NZD   \n",
       "\n",
       "   currency_symbol  currency_trailing_code  ...  \\\n",
       "22               $                    True  ...   \n",
       "\n",
       "                                                slug  \\\n",
       "22  formed-on-wednesdays-golden-man-physical-release   \n",
       "\n",
       "                                           source_url  spotlight  staff_pick  \\\n",
       "22  https://www.kickstarter.com/discover/categorie...       True       False   \n",
       "\n",
       "         state  state_changed_at  static_usd_rate  \\\n",
       "22  successful        1491965926          0.69223   \n",
       "\n",
       "                                                 urls usd_pledged  \\\n",
       "22  {\"web\":{\"project\":\"https://www.kickstarter.com...  702.613237   \n",
       "\n",
       "         usd_type  \n",
       "22  international  \n",
       "\n",
       "[1 rows x 33 columns]"
      ]
     },
     "execution_count": 14,
     "metadata": {},
     "output_type": "execute_result"
    }
   ],
   "source": [
    "# check if goal and pledged are in the currency of the country\n",
    "df.iloc[22:23]"
   ]
  },
  {
   "cell_type": "code",
   "execution_count": 15,
   "metadata": {},
   "outputs": [
    {
     "data": {
      "text/html": [
       "<div>\n",
       "<style scoped>\n",
       "    .dataframe tbody tr th:only-of-type {\n",
       "        vertical-align: middle;\n",
       "    }\n",
       "\n",
       "    .dataframe tbody tr th {\n",
       "        vertical-align: top;\n",
       "    }\n",
       "\n",
       "    .dataframe thead th {\n",
       "        text-align: right;\n",
       "    }\n",
       "</style>\n",
       "<table border=\"1\" class=\"dataframe\">\n",
       "  <thead>\n",
       "    <tr style=\"text-align: right;\">\n",
       "      <th></th>\n",
       "      <th>currency</th>\n",
       "      <th>fx_rate</th>\n",
       "      <th>created_at</th>\n",
       "      <th>launched_at</th>\n",
       "    </tr>\n",
       "  </thead>\n",
       "  <tbody>\n",
       "    <tr>\n",
       "      <th>129</th>\n",
       "      <td>SEK</td>\n",
       "      <td>0.106663</td>\n",
       "      <td>1443687693</td>\n",
       "      <td>1444740208</td>\n",
       "    </tr>\n",
       "  </tbody>\n",
       "</table>\n",
       "</div>"
      ],
      "text/plain": [
       "    currency   fx_rate  created_at  launched_at\n",
       "129      SEK  0.106663  1443687693   1444740208"
      ]
     },
     "execution_count": 15,
     "metadata": {},
     "output_type": "execute_result"
    }
   ],
   "source": [
    "# What´s the fx_rate??\n",
    "rate = ['currency', 'fx_rate', 'created_at', 'launched_at']\n",
    "df[rate].query('currency == \"SEK\"').head(1)"
   ]
  },
  {
   "cell_type": "code",
   "execution_count": 16,
   "metadata": {},
   "outputs": [
    {
     "data": {
      "text/plain": [
       "(18362, 33)"
      ]
     },
     "execution_count": 16,
     "metadata": {},
     "output_type": "execute_result"
    }
   ],
   "source": [
    "# projects with no backer\n",
    "df.query('pledged == 0').shape"
   ]
  },
  {
   "cell_type": "code",
   "execution_count": 17,
   "metadata": {},
   "outputs": [
    {
     "data": {
      "text/plain": [
       "(15009, 33)"
      ]
     },
     "execution_count": 17,
     "metadata": {},
     "output_type": "execute_result"
    }
   ],
   "source": [
    "df.query('pledged == 0 and state == \"failed\"').shape"
   ]
  },
  {
   "cell_type": "code",
   "execution_count": 18,
   "metadata": {},
   "outputs": [
    {
     "data": {
      "text/plain": [
       "array(['USD', 'GBP', 'EUR', 'AUD', 'NZD', 'NOK', 'CAD', 'SGD', 'MXN',\n",
       "       'SEK', 'HKD', 'JPY', 'DKK', 'CHF'], dtype=object)"
      ]
     },
     "execution_count": 18,
     "metadata": {},
     "output_type": "execute_result"
    }
   ],
   "source": [
    "# which currencies do we have?\n",
    "df['currency'].unique()"
   ]
  },
  {
   "cell_type": "code",
   "execution_count": 19,
   "metadata": {},
   "outputs": [
    {
     "data": {
      "text/plain": [
       "[(12615, 2),\n",
       " (1770, 2),\n",
       " (1613, 2),\n",
       " (544, 2),\n",
       " (86, 2),\n",
       " (58, 2),\n",
       " (1072, 2),\n",
       " (25, 2),\n",
       " (285, 2),\n",
       " (121, 2),\n",
       " (30, 2),\n",
       " (7, 2),\n",
       " (81, 2),\n",
       " (55, 2)]"
      ]
     },
     "execution_count": 19,
     "metadata": {},
     "output_type": "execute_result"
    }
   ],
   "source": [
    "# are there currencies with a lot of no-backers?\n",
    "cur = ['currency', 'pledged']\n",
    "count_zero = [df[cur].query('currency == \"USD\" and pledged == 0').shape,\n",
    "              df[cur].query('currency == \"GBP\" and pledged == 0').shape,\n",
    "              df[cur].query('currency == \"EUR\" and pledged == 0').shape,\n",
    "              df[cur].query('currency == \"AUD\" and pledged == 0').shape,\n",
    "              df[cur].query('currency == \"NZD\" and pledged == 0').shape,\n",
    "              df[cur].query('currency == \"NOK\" and pledged == 0').shape,\n",
    "              df[cur].query('currency == \"CAD\" and pledged == 0').shape,\n",
    "              df[cur].query('currency == \"SGD\" and pledged == 0').shape,\n",
    "              df[cur].query('currency == \"MXN\" and pledged == 0').shape,\n",
    "              df[cur].query('currency == \"SEK\" and pledged == 0').shape,\n",
    "              df[cur].query('currency == \"HKD\" and pledged == 0').shape,\n",
    "              df[cur].query('currency == \"JPY\" and pledged == 0').shape,\n",
    "              df[cur].query('currency == \"DKK\" and pledged == 0').shape,\n",
    "              df[cur].query('currency == \"CHF\" and pledged == 0').shape]\n",
    "count_zero"
   ]
  },
  {
   "cell_type": "code",
   "execution_count": 20,
   "metadata": {},
   "outputs": [
    {
     "data": {
      "text/plain": [
       "[(148489, 33),\n",
       " (23108, 33),\n",
       " (13951, 33),\n",
       " (4866, 33),\n",
       " (931, 33),\n",
       " (511, 33),\n",
       " (9823, 33),\n",
       " (698, 33),\n",
       " (2367, 33),\n",
       " (1421, 33),\n",
       " (1085, 33),\n",
       " (389, 33),\n",
       " (920, 33),\n",
       " (663, 33)]"
      ]
     },
     "execution_count": 20,
     "metadata": {},
     "output_type": "execute_result"
    }
   ],
   "source": [
    "# how many values per currency do we have?\n",
    "cur = [df.query('currency == \"USD\"').shape, \n",
    "       df.query('currency == \"GBP\"').shape,\n",
    "       df.query('currency == \"EUR\"').shape,\n",
    "       df.query('currency == \"AUD\"').shape,\n",
    "       df.query('currency == \"NZD\"').shape,\n",
    "       df.query('currency == \"NOK\"').shape,\n",
    "       df.query('currency == \"CAD\"').shape,\n",
    "       df.query('currency == \"SGD\"').shape,\n",
    "       df.query('currency == \"MXN\"').shape,\n",
    "       df.query('currency == \"SEK\"').shape,\n",
    "       df.query('currency == \"HKD\"').shape,\n",
    "       df.query('currency == \"JPY\"').shape,\n",
    "       df.query('currency == \"DKK\"').shape,\n",
    "       df.query('currency == \"CHF\"').shape]\n",
    "cur"
   ]
  },
  {
   "cell_type": "code",
   "execution_count": 21,
   "metadata": {},
   "outputs": [
    {
     "data": {
      "text/plain": [
       "array(['USD', 'CAD', 'AUD', 'GBP', 'EUR'], dtype=object)"
      ]
     },
     "execution_count": 21,
     "metadata": {},
     "output_type": "execute_result"
    }
   ],
   "source": [
    "# which current_currencies do we have?\n",
    "df['current_currency'].unique()"
   ]
  },
  {
   "cell_type": "code",
   "execution_count": 22,
   "metadata": {},
   "outputs": [
    {
     "data": {
      "text/plain": [
       "[(208742, 33), (372, 33), (72, 33), (24, 33), (12, 33)]"
      ]
     },
     "execution_count": 22,
     "metadata": {},
     "output_type": "execute_result"
    }
   ],
   "source": [
    "# how many values for each current_currency do we have?\n",
    "cur_cur = [df.query('current_currency == \"USD\"').shape,\n",
    "           df.query('current_currency == \"CAD\"').shape,\n",
    "           df.query('current_currency == \"AUD\"').shape,\n",
    "           df.query('current_currency == \"GBP\"').shape,\n",
    "           df.query('current_currency == \"EUR\"').shape]\n",
    "cur_cur"
   ]
  },
  {
   "cell_type": "code",
   "execution_count": 23,
   "metadata": {},
   "outputs": [
    {
     "data": {
      "text/plain": [
       "(148204, 10)"
      ]
     },
     "execution_count": 23,
     "metadata": {},
     "output_type": "execute_result"
    }
   ],
   "source": [
    "df[finance].query('currency == \"USD\" and current_currency == \"USD\"').shape"
   ]
  },
  {
   "cell_type": "code",
   "execution_count": 24,
   "metadata": {},
   "outputs": [
    {
     "data": {
      "text/plain": [
       "(23, 10)"
      ]
     },
     "execution_count": 24,
     "metadata": {},
     "output_type": "execute_result"
    }
   ],
   "source": [
    "df[finance].query('currency == \"CAD\" and current_currency == \"CAD\"').shape"
   ]
  },
  {
   "cell_type": "code",
   "execution_count": 25,
   "metadata": {},
   "outputs": [
    {
     "data": {
      "text/plain": [
       "(0, 10)"
      ]
     },
     "execution_count": 25,
     "metadata": {},
     "output_type": "execute_result"
    }
   ],
   "source": [
    "df[finance].query('currency == \"AUD\" and current_currency == \"AUD\"').shape"
   ]
  },
  {
   "cell_type": "code",
   "execution_count": 26,
   "metadata": {},
   "outputs": [
    {
     "data": {
      "text/plain": [
       "(4854, 10)"
      ]
     },
     "execution_count": 26,
     "metadata": {},
     "output_type": "execute_result"
    }
   ],
   "source": [
    "df[finance].query('currency == \"AUD\" and current_currency == \"USD\"').shape"
   ]
  },
  {
   "cell_type": "code",
   "execution_count": 27,
   "metadata": {},
   "outputs": [
    {
     "data": {
      "text/plain": [
       "(5, 10)"
      ]
     },
     "execution_count": 27,
     "metadata": {},
     "output_type": "execute_result"
    }
   ],
   "source": [
    "df[finance].query('currency == \"GBP\" and current_currency == \"GBP\"').shape"
   ]
  },
  {
   "cell_type": "code",
   "execution_count": 28,
   "metadata": {},
   "outputs": [
    {
     "data": {
      "text/plain": [
       "(2, 10)"
      ]
     },
     "execution_count": 28,
     "metadata": {},
     "output_type": "execute_result"
    }
   ],
   "source": [
    "df[finance].query('currency == \"EUR\" and current_currency == \"EUR\"').shape"
   ]
  },
  {
   "cell_type": "code",
   "execution_count": 29,
   "metadata": {},
   "outputs": [
    {
     "data": {
      "text/plain": [
       "[(148204, 10),\n",
       " (23049, 10),\n",
       " (13895, 10),\n",
       " (4854, 10),\n",
       " (927, 10),\n",
       " (508, 10),\n",
       " (9796, 10),\n",
       " (694, 10),\n",
       " (2361, 10),\n",
       " (1414, 10),\n",
       " (1077, 10),\n",
       " (383, 10),\n",
       " (919, 10),\n",
       " (661, 10)]"
      ]
     },
     "execution_count": 29,
     "metadata": {},
     "output_type": "execute_result"
    }
   ],
   "source": [
    "cur_cur_USD = [df[finance].query('currency == \"USD\" and current_currency == \"USD\"').shape, \n",
    "       df[finance].query('currency == \"GBP\" and current_currency == \"USD\"').shape,\n",
    "       df[finance].query('currency == \"EUR\" and current_currency == \"USD\"').shape,\n",
    "       df[finance].query('currency == \"AUD\" and current_currency == \"USD\"').shape,\n",
    "       df[finance].query('currency == \"NZD\" and current_currency == \"USD\"').shape,\n",
    "       df[finance].query('currency == \"NOK\" and current_currency == \"USD\"').shape,\n",
    "       df[finance].query('currency == \"CAD\" and current_currency == \"USD\"').shape,\n",
    "       df[finance].query('currency == \"SGD\" and current_currency == \"USD\"').shape,\n",
    "       df[finance].query('currency == \"MXN\" and current_currency == \"USD\"').shape,\n",
    "       df[finance].query('currency == \"SEK\" and current_currency == \"USD\"').shape,\n",
    "       df[finance].query('currency == \"HKD\" and current_currency == \"USD\"').shape,\n",
    "       df[finance].query('currency == \"JPY\" and current_currency == \"USD\"').shape,\n",
    "       df[finance].query('currency == \"DKK\" and current_currency == \"USD\"').shape,\n",
    "       df[finance].query('currency == \"CHF\" and current_currency == \"USD\"').shape]\n",
    "cur_cur_USD"
   ]
  },
  {
   "cell_type": "code",
   "execution_count": 30,
   "metadata": {},
   "outputs": [
    {
     "data": {
      "text/html": [
       "<div>\n",
       "<style scoped>\n",
       "    .dataframe tbody tr th:only-of-type {\n",
       "        vertical-align: middle;\n",
       "    }\n",
       "\n",
       "    .dataframe tbody tr th {\n",
       "        vertical-align: top;\n",
       "    }\n",
       "\n",
       "    .dataframe thead th {\n",
       "        text-align: right;\n",
       "    }\n",
       "</style>\n",
       "<table border=\"1\" class=\"dataframe\">\n",
       "  <thead>\n",
       "    <tr style=\"text-align: right;\">\n",
       "      <th></th>\n",
       "      <th>country</th>\n",
       "      <th>converted_pledged_amount</th>\n",
       "      <th>currency</th>\n",
       "      <th>current_currency</th>\n",
       "      <th>fx_rate</th>\n",
       "      <th>goal</th>\n",
       "      <th>pledged</th>\n",
       "      <th>static_usd_rate</th>\n",
       "      <th>usd_pledged</th>\n",
       "      <th>usd_type</th>\n",
       "    </tr>\n",
       "  </thead>\n",
       "  <tbody>\n",
       "    <tr>\n",
       "      <th>0</th>\n",
       "      <td>US</td>\n",
       "      <td>28645</td>\n",
       "      <td>USD</td>\n",
       "      <td>USD</td>\n",
       "      <td>1.000000</td>\n",
       "      <td>28000.0000</td>\n",
       "      <td>28645.000000</td>\n",
       "      <td>1.000000</td>\n",
       "      <td>28645.000000</td>\n",
       "      <td>international</td>\n",
       "    </tr>\n",
       "    <tr>\n",
       "      <th>1</th>\n",
       "      <td>US</td>\n",
       "      <td>1950</td>\n",
       "      <td>USD</td>\n",
       "      <td>USD</td>\n",
       "      <td>1.000000</td>\n",
       "      <td>1000.0000</td>\n",
       "      <td>1950.000000</td>\n",
       "      <td>1.000000</td>\n",
       "      <td>1950.000000</td>\n",
       "      <td>domestic</td>\n",
       "    </tr>\n",
       "    <tr>\n",
       "      <th>2</th>\n",
       "      <td>US</td>\n",
       "      <td>22404</td>\n",
       "      <td>USD</td>\n",
       "      <td>USD</td>\n",
       "      <td>1.000000</td>\n",
       "      <td>15000.0000</td>\n",
       "      <td>22404.000000</td>\n",
       "      <td>1.000000</td>\n",
       "      <td>22404.000000</td>\n",
       "      <td>international</td>\n",
       "    </tr>\n",
       "    <tr>\n",
       "      <th>3</th>\n",
       "      <td>GB</td>\n",
       "      <td>165</td>\n",
       "      <td>GBP</td>\n",
       "      <td>USD</td>\n",
       "      <td>1.308394</td>\n",
       "      <td>12160.6569</td>\n",
       "      <td>165.384934</td>\n",
       "      <td>1.216066</td>\n",
       "      <td>165.384934</td>\n",
       "      <td>domestic</td>\n",
       "    </tr>\n",
       "    <tr>\n",
       "      <th>4</th>\n",
       "      <td>US</td>\n",
       "      <td>2820</td>\n",
       "      <td>USD</td>\n",
       "      <td>USD</td>\n",
       "      <td>1.000000</td>\n",
       "      <td>2800.0000</td>\n",
       "      <td>2820.000000</td>\n",
       "      <td>1.000000</td>\n",
       "      <td>2820.000000</td>\n",
       "      <td>domestic</td>\n",
       "    </tr>\n",
       "  </tbody>\n",
       "</table>\n",
       "</div>"
      ],
      "text/plain": [
       "  country  converted_pledged_amount currency current_currency   fx_rate  \\\n",
       "0      US                     28645      USD              USD  1.000000   \n",
       "1      US                      1950      USD              USD  1.000000   \n",
       "2      US                     22404      USD              USD  1.000000   \n",
       "3      GB                       165      GBP              USD  1.308394   \n",
       "4      US                      2820      USD              USD  1.000000   \n",
       "\n",
       "         goal       pledged  static_usd_rate   usd_pledged       usd_type  \n",
       "0  28000.0000  28645.000000         1.000000  28645.000000  international  \n",
       "1   1000.0000   1950.000000         1.000000   1950.000000       domestic  \n",
       "2  15000.0000  22404.000000         1.000000  22404.000000  international  \n",
       "3  12160.6569    165.384934         1.216066    165.384934       domestic  \n",
       "4   2800.0000   2820.000000         1.000000   2820.000000       domestic  "
      ]
     },
     "execution_count": 30,
     "metadata": {},
     "output_type": "execute_result"
    }
   ],
   "source": [
    "# convert goal and pledged in USD\n",
    "df['goal'] = df['goal'] * df['static_usd_rate']\n",
    "df['pledged']= df['pledged'] * df['static_usd_rate']\n",
    "df[finance].head(5)"
   ]
  },
  {
   "cell_type": "code",
   "execution_count": 31,
   "metadata": {},
   "outputs": [
    {
     "data": {
      "text/plain": [
       "(209222, 33)"
      ]
     },
     "execution_count": 31,
     "metadata": {},
     "output_type": "execute_result"
    }
   ],
   "source": [
    "# drop unimportant columns related to currency\n",
    "# drop: converted_pledged_amount, currency_symbol, currency_trailing_code, current_currency, fx_rate, usd_type\n",
    "#df.drop(['converted_pledged_amount', 'currency_symbol', 'currency_trailing_code', 'current_currency', 'fx_rate', \n",
    "         #'usd_type'], axis=1, inplace = True)\n",
    "df.shape"
   ]
  },
  {
   "cell_type": "markdown",
   "metadata": {},
   "source": [
    "# Time, spotlight"
   ]
  },
  {
   "cell_type": "code",
   "execution_count": 32,
   "metadata": {},
   "outputs": [
    {
     "ename": "ValueError",
     "evalue": "year 3857192 is out of range",
     "output_type": "error",
     "traceback": [
      "\u001b[0;31m---------------------------------------------------------------------------\u001b[0m",
      "\u001b[0;31mValueError\u001b[0m                                Traceback (most recent call last)",
      "\u001b[0;32m<ipython-input-32-05c4192853ae>\u001b[0m in \u001b[0;36m<module>\u001b[0;34m\u001b[0m\n\u001b[1;32m      1\u001b[0m \u001b[0;32mfrom\u001b[0m \u001b[0mdatetime\u001b[0m \u001b[0;32mimport\u001b[0m \u001b[0mdate\u001b[0m\u001b[0;34m\u001b[0m\u001b[0;34m\u001b[0m\u001b[0m\n\u001b[0;32m----> 2\u001b[0;31m \u001b[0md\u001b[0m \u001b[0;34m=\u001b[0m \u001b[0mdate\u001b[0m\u001b[0;34m.\u001b[0m\u001b[0mfromordinal\u001b[0m\u001b[0;34m(\u001b[0m\u001b[0;36m1408810290\u001b[0m\u001b[0;34m)\u001b[0m\u001b[0;34m\u001b[0m\u001b[0;34m\u001b[0m\u001b[0m\n\u001b[0m\u001b[1;32m      3\u001b[0m \u001b[0md\u001b[0m\u001b[0;34m\u001b[0m\u001b[0;34m\u001b[0m\u001b[0m\n",
      "\u001b[0;31mValueError\u001b[0m: year 3857192 is out of range"
     ]
    }
   ],
   "source": [
    "from datetime import date\n",
    ">>> d = date.fromordinal(1408810290)\n",
    "d"
   ]
  },
  {
   "cell_type": "code",
   "execution_count": null,
   "metadata": {},
   "outputs": [],
   "source": [
    "import time"
   ]
  },
  {
   "cell_type": "code",
   "execution_count": null,
   "metadata": {},
   "outputs": [],
   "source": [
    "ticks = time.time()"
   ]
  },
  {
   "cell_type": "code",
   "execution_count": null,
   "metadata": {},
   "outputs": [],
   "source": [
    "import time\n",
    "time.gmtime(1408810290)"
   ]
  },
  {
   "cell_type": "code",
   "execution_count": null,
   "metadata": {},
   "outputs": [],
   "source": [
    "df.groupby('spotlight')['spotlight'].count()"
   ]
  },
  {
   "cell_type": "code",
   "execution_count": null,
   "metadata": {},
   "outputs": [],
   "source": [
    "df.query('spotlight == True and state == \"successful\"').shape"
   ]
  },
  {
   "cell_type": "code",
   "execution_count": null,
   "metadata": {},
   "outputs": [],
   "source": [
    "df.query('spotlight == False and state == \"successful\"').shape"
   ]
  },
  {
   "cell_type": "code",
   "execution_count": null,
   "metadata": {},
   "outputs": [],
   "source": [
    "df.query('spotlight == False and state == \"live\"').shape"
   ]
  },
  {
   "cell_type": "code",
   "execution_count": null,
   "metadata": {},
   "outputs": [],
   "source": [
    "df.query('spotlight == False and state == \"canceled\"').shape"
   ]
  },
  {
   "cell_type": "code",
   "execution_count": null,
   "metadata": {},
   "outputs": [],
   "source": [
    "df.query('spotlight == False and state == \"failed\"').shape"
   ]
  },
  {
   "cell_type": "code",
   "execution_count": null,
   "metadata": {},
   "outputs": [],
   "source": [
    "df.query('spotlight == False and state == \"suspended\"').shape"
   ]
  },
  {
   "cell_type": "code",
   "execution_count": null,
   "metadata": {},
   "outputs": [],
   "source": [
    "df.query('spotlight == False and state == \"canceled\"').shape"
   ]
  },
  {
   "cell_type": "code",
   "execution_count": null,
   "metadata": {},
   "outputs": [],
   "source": [
    "# neue Spalten neue Spalte - pledged per backer neue Spalte - pledged/goal (prozent)\n",
    "df['pledged_per_backer'] = (df['pledged'] / df['backers_count']).round(2)\n",
    "df['rel_pledged_goal'] = ((df['pledged'] / df['goal']) * 100).round(2) \n",
    "df['rel_pledged_goal']\n",
    "df['pledged_per_backer']"
   ]
  },
  {
   "cell_type": "markdown",
   "metadata": {},
   "source": [
    "# staff_pick"
   ]
  },
  {
   "cell_type": "code",
   "execution_count": null,
   "metadata": {},
   "outputs": [],
   "source": [
    "df.groupby('staff_pick')['staff_pick'].count()"
   ]
  },
  {
   "cell_type": "code",
   "execution_count": null,
   "metadata": {},
   "outputs": [],
   "source": [
    "((df.groupby('staff_pick')['staff_pick'].count()[1]) / (df.shape[0])*100).round(2)"
   ]
  },
  {
   "cell_type": "code",
   "execution_count": null,
   "metadata": {},
   "outputs": [],
   "source": [
    "((df.groupby('staff_pick')['staff_pick'].count()[0]) / (df.shape[0])*100).round(2)"
   ]
  },
  {
   "cell_type": "markdown",
   "metadata": {},
   "source": [
    "## Drop rows"
   ]
  },
  {
   "cell_type": "code",
   "execution_count": 33,
   "metadata": {},
   "outputs": [
    {
     "name": "stdout",
     "output_type": "stream",
     "text": [
      "<class 'pandas.core.frame.DataFrame'>\n",
      "Int64Index: 209214 entries, 0 to 209221\n",
      "Data columns (total 33 columns):\n",
      " #   Column                    Non-Null Count   Dtype  \n",
      "---  ------                    --------------   -----  \n",
      " 0   backers_count             209214 non-null  int64  \n",
      " 1   blurb                     209214 non-null  object \n",
      " 2   category                  209214 non-null  object \n",
      " 3   converted_pledged_amount  209214 non-null  int64  \n",
      " 4   country                   209214 non-null  object \n",
      " 5   created_at                209214 non-null  int64  \n",
      " 6   creator                   209214 non-null  object \n",
      " 7   currency                  209214 non-null  object \n",
      " 8   currency_symbol           209214 non-null  object \n",
      " 9   currency_trailing_code    209214 non-null  bool   \n",
      " 10  current_currency          209214 non-null  object \n",
      " 11  deadline                  209214 non-null  int64  \n",
      " 12  disable_communication     209214 non-null  bool   \n",
      " 13  fx_rate                   209214 non-null  float64\n",
      " 14  goal                      209214 non-null  float64\n",
      " 15  id                        209214 non-null  int64  \n",
      " 16  is_starrable              209214 non-null  bool   \n",
      " 17  launched_at               209214 non-null  int64  \n",
      " 18  location                  208988 non-null  object \n",
      " 19  name                      209214 non-null  object \n",
      " 20  photo                     209214 non-null  object \n",
      " 21  pledged                   209214 non-null  float64\n",
      " 22  profile                   209214 non-null  object \n",
      " 23  slug                      209214 non-null  object \n",
      " 24  source_url                209214 non-null  object \n",
      " 25  spotlight                 209214 non-null  bool   \n",
      " 26  staff_pick                209214 non-null  bool   \n",
      " 27  state                     209214 non-null  object \n",
      " 28  state_changed_at          209214 non-null  int64  \n",
      " 29  static_usd_rate           209214 non-null  float64\n",
      " 30  urls                      209214 non-null  object \n",
      " 31  usd_pledged               209214 non-null  float64\n",
      " 32  usd_type                  208734 non-null  object \n",
      "dtypes: bool(5), float64(5), int64(7), object(16)\n",
      "memory usage: 47.3+ MB\n"
     ]
    }
   ],
   "source": [
    "# drop rows with missing values in blurb\n",
    "#df.groupby('blurb')['blurb'].count()\n",
    "#df.query('blurb == \"NaN\"').shape\n",
    "df.dropna(subset = ['blurb'], inplace=True)"
   ]
  },
  {
   "cell_type": "code",
   "execution_count": 34,
   "metadata": {},
   "outputs": [
    {
     "data": {
      "text/plain": [
       "(201280, 33)"
      ]
     },
     "execution_count": 34,
     "metadata": {},
     "output_type": "execute_result"
    }
   ],
   "source": [
    "# drop rows with 'suspended', 'live' in column 'state'\n",
    "#df.query('state == \"suspended\" or state == \"live\"').drop()\n",
    "df = df.drop(df[df['state'] == \"suspended\" ].index)\n",
    "df = df.drop(df[df['state'] == \"live\" ].index)\n",
    "df.shape\n"
   ]
  },
  {
   "cell_type": "code",
   "execution_count": null,
   "metadata": {},
   "outputs": [],
   "source": [
    "https://www.python-forum.de/viewtopic.php?t=47782"
   ]
  },
  {
   "cell_type": "code",
   "execution_count": 35,
   "metadata": {},
   "outputs": [],
   "source": [
    "import csv\n",
    "\n",
    "from metar import Metar"
   ]
  },
  {
   "cell_type": "code",
   "execution_count": null,
   "metadata": {},
   "outputs": [],
   "source": [
    "metar_data_parsed.to_csv('Dateipfad/Dateiname')"
   ]
  }
 ],
 "metadata": {
  "kernelspec": {
   "display_name": "Python 3",
   "language": "python",
   "name": "python3"
  },
  "language_info": {
   "codemirror_mode": {
    "name": "ipython",
    "version": 3
   },
   "file_extension": ".py",
   "mimetype": "text/x-python",
   "name": "python",
   "nbconvert_exporter": "python",
   "pygments_lexer": "ipython3",
   "version": "3.8.5"
  }
 },
 "nbformat": 4,
 "nbformat_minor": 4
}
